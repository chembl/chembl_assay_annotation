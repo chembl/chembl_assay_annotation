{
 "cells": [
  {
   "cell_type": "markdown",
   "metadata": {},
   "source": [
    "## NER model for method extraction in assay description - Executor\n",
    "The notebook manages the main pipeline for best NER model execution in desired dataset."
   ]
  },
  {
   "cell_type": "code",
   "execution_count": 1,
   "metadata": {},
   "outputs": [],
   "source": [
    "import pandas as pd\n",
    "import spacy\n",
    "import os\n",
    "pd.set_option('display.max_rows', None) \n",
    "pd.set_option('display.max_columns', None)\n",
    "pd.set_option('display.max_colwidth', None)"
   ]
  },
  {
   "cell_type": "code",
   "execution_count": null,
   "metadata": {},
   "outputs": [],
   "source": [
    "# Defining output path\n",
    "rpath = \"Results\"\n",
    "os.makedirs(rpath, exist_ok=True)"
   ]
  },
  {
   "cell_type": "code",
   "execution_count": null,
   "metadata": {},
   "outputs": [],
   "source": [
    "#Loading dataset\n",
    "chembl_assays = pd.read_csv('data/chembl_35_all_BF_assays.txt', sep='\\t')\n",
    "chembl_assays = chembl_assays.drop(['Unnamed: 0'] ,axis=1)\n",
    "display(chembl_assays)\n"
   ]
  },
  {
   "cell_type": "code",
   "execution_count": null,
   "metadata": {},
   "outputs": [],
   "source": [
    "#Loading NER model\n",
    "nlp = spacy.load(\"./Model/training/model-best\")"
   ]
  },
  {
   "cell_type": "code",
   "execution_count": null,
   "metadata": {},
   "outputs": [],
   "source": [
    "#Execute model in text and write output file\n",
    "def get_ents(x):\n",
    "    allents = []\n",
    "    if nlp(x).ents:\n",
    "        for ent in nlp(x).ents:\n",
    "            allents.append(ent.text)\n",
    "        allents = ' | '.join(allents)\n",
    "    else:\n",
    "        allents = None\n",
    "    return allents\n",
    "\n",
    "chembl_assays['method'] = chembl_assays['description'].apply(lambda x: get_ents(x))\n",
    "chembl_assays.to_csv(os.path.join(rpath, 'ner_chembl_35.csv'), sep='\\t', index=False)"
   ]
  }
 ],
 "metadata": {
  "kernelspec": {
   "display_name": "nerenv",
   "language": "python",
   "name": "python3"
  },
  "language_info": {
   "codemirror_mode": {
    "name": "ipython",
    "version": 3
   },
   "file_extension": ".py",
   "mimetype": "text/x-python",
   "name": "python",
   "nbconvert_exporter": "python",
   "pygments_lexer": "ipython3",
   "version": "3.12.3"
  }
 },
 "nbformat": 4,
 "nbformat_minor": 2
}
