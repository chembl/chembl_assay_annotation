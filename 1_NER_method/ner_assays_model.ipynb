{
 "cells": [
  {
   "cell_type": "markdown",
   "metadata": {},
   "source": [
    "## NER model for method extraction in assay description\n",
    "The notebook manages the main pipeline for model training in 100% data"
   ]
  },
  {
   "cell_type": "code",
   "execution_count": 1,
   "metadata": {},
   "outputs": [],
   "source": [
    "import pandas as pd\n",
    "import json, spacy, os\n",
    "from sklearn.model_selection import RepeatedKFold\n",
    "from pathlib import Path\n",
    "import shutil\n",
    "import subprocess\n",
    "import altair as alt"
   ]
  },
  {
   "cell_type": "code",
   "execution_count": 5,
   "metadata": {},
   "outputs": [],
   "source": [
    "#Method to generate jsonl file with tabulated data for model training\n",
    "def generate_jsonl(df,f): #dataframe and output file\n",
    "    # Load spaCy model \n",
    "    nlp = spacy.load(\"en_core_web_sm\")  # Adjust the model name if needed\n",
    "\n",
    "    data = []\n",
    "    for index, row in df.iterrows():\n",
    "        sentence = row['description'].lower()\n",
    "            \n",
    "        # Tokenization with spaCy\n",
    "        doc = nlp(sentence)\n",
    "        token_data = []\n",
    "        for i, token in enumerate(doc):\n",
    "            token_data.append({\"text\": token.text, \"start\": token.idx, \"end\": token.idx + len(token), \"id\": i })\n",
    "\n",
    "        # Entity Labeling\n",
    "        if not pd.isna(row['method']):\n",
    "            entity = row['method'].lower()\n",
    "            start_idx = sentence.find(entity)\n",
    "            end_idx = start_idx + len(entity)\n",
    "            if start_idx != -1:\n",
    "                token_st = [entry for entry in token_data if entry['start'] == start_idx][0]['id']\n",
    "                token_en = [entry for entry in token_data if entry['end'] == end_idx][0]['id']\n",
    "                spans = [{\"start\": start_idx, \"end\": end_idx, \n",
    "                        \"token_start\": token_st, \n",
    "                        \"token_end\": token_en, \n",
    "                        \"label\": \"METHOD\"}]\n",
    "            else:\n",
    "                spans = []\n",
    "        else:\n",
    "            spans=[]\n",
    "\n",
    "        #print(sentence, \"|\", entity, \"|\", start_idx, \"|\", end_idx, sentence[start_idx], sentence[end_idx])\n",
    "\n",
    "        # JSONL Entry\n",
    "        entry = {\n",
    "            \"text\": sentence,\n",
    "            \"meta\": {},  # Add metadata if needed\n",
    "            \"_input_hash\": hash(sentence),  # Some hash function\n",
    "            \"_task_hash\": -1,  # Placeholder\n",
    "            \"tokens\": token_data,\n",
    "            \"spans\": spans,\n",
    "            \"answer\": \"accept\"  # Replace if needed\n",
    "        }\n",
    "        data.append(entry)\n",
    "\n",
    "    #writing jsonl file\n",
    "    for item in data:\n",
    "        json.dump(item,f)\n",
    "        f.write('\\n')"
   ]
  },
  {
   "cell_type": "code",
   "execution_count": 6,
   "metadata": {},
   "outputs": [],
   "source": [
    "dataset = pd.read_csv('data/assays_data.csv', sep='\\t')"
   ]
  },
  {
   "cell_type": "code",
   "execution_count": 7,
   "metadata": {},
   "outputs": [],
   "source": [
    "mpath = \"Model\"\n",
    "os.makedirs(mpath, exist_ok=True)"
   ]
  },
  {
   "cell_type": "code",
   "execution_count": 10,
   "metadata": {},
   "outputs": [],
   "source": [
    "# Write to JSONL files\n",
    "with open(os.path.join(mpath,'assays_train.jsonl'), 'w') as f:\n",
    "    generate_jsonl(dataset, f)# Generate JSONL file with testing data "
   ]
  },
  {
   "cell_type": "code",
   "execution_count": 15,
   "metadata": {},
   "outputs": [
    {
     "name": "stdout",
     "output_type": "stream",
     "text": [
      "\u001b[38;5;4mℹ Running workflow 'model-final'\u001b[0m\n",
      "\u001b[1m\n",
      "================================== download ==================================\u001b[0m\n",
      "Running command: /Users/adasme/miniconda3/envs/nerenv/bin/python3 -m spacy download en_core_web_md\n",
      "Collecting en-core-web-md==3.7.1\n",
      "  Downloading https://github.com/explosion/spacy-models/releases/download/en_core_web_md-3.7.1/en_core_web_md-3.7.1-py3-none-any.whl (42.8 MB)\n",
      "\u001b[2K     \u001b[90m━━━━━━━━━━━━━━━━━━━━━━━━━━━━━━━━━━━━━━━━\u001b[0m \u001b[32m42.8/42.8 MB\u001b[0m \u001b[31m13.3 MB/s\u001b[0m eta \u001b[36m0:00:00\u001b[0ma \u001b[36m0:00:01\u001b[0m\n",
      "\u001b[?25hRequirement already satisfied: spacy<3.8.0,>=3.7.2 in /Users/adasme/miniconda3/envs/nerenv/lib/python3.12/site-packages (from en-core-web-md==3.7.1) (3.7.5)\n",
      "Requirement already satisfied: spacy-legacy<3.1.0,>=3.0.11 in /Users/adasme/miniconda3/envs/nerenv/lib/python3.12/site-packages (from spacy<3.8.0,>=3.7.2->en-core-web-md==3.7.1) (3.0.12)\n",
      "Requirement already satisfied: spacy-loggers<2.0.0,>=1.0.0 in /Users/adasme/miniconda3/envs/nerenv/lib/python3.12/site-packages (from spacy<3.8.0,>=3.7.2->en-core-web-md==3.7.1) (1.0.5)\n",
      "Requirement already satisfied: murmurhash<1.1.0,>=0.28.0 in /Users/adasme/miniconda3/envs/nerenv/lib/python3.12/site-packages (from spacy<3.8.0,>=3.7.2->en-core-web-md==3.7.1) (1.0.10)\n",
      "Requirement already satisfied: cymem<2.1.0,>=2.0.2 in /Users/adasme/miniconda3/envs/nerenv/lib/python3.12/site-packages (from spacy<3.8.0,>=3.7.2->en-core-web-md==3.7.1) (2.0.8)\n",
      "Requirement already satisfied: preshed<3.1.0,>=3.0.2 in /Users/adasme/miniconda3/envs/nerenv/lib/python3.12/site-packages (from spacy<3.8.0,>=3.7.2->en-core-web-md==3.7.1) (3.0.9)\n",
      "Requirement already satisfied: thinc<8.3.0,>=8.2.2 in /Users/adasme/miniconda3/envs/nerenv/lib/python3.12/site-packages (from spacy<3.8.0,>=3.7.2->en-core-web-md==3.7.1) (8.2.5)\n",
      "Requirement already satisfied: wasabi<1.2.0,>=0.9.1 in /Users/adasme/miniconda3/envs/nerenv/lib/python3.12/site-packages (from spacy<3.8.0,>=3.7.2->en-core-web-md==3.7.1) (1.1.3)\n",
      "Requirement already satisfied: srsly<3.0.0,>=2.4.3 in /Users/adasme/miniconda3/envs/nerenv/lib/python3.12/site-packages (from spacy<3.8.0,>=3.7.2->en-core-web-md==3.7.1) (2.4.8)\n",
      "Requirement already satisfied: catalogue<2.1.0,>=2.0.6 in /Users/adasme/miniconda3/envs/nerenv/lib/python3.12/site-packages (from spacy<3.8.0,>=3.7.2->en-core-web-md==3.7.1) (2.0.10)\n",
      "Requirement already satisfied: weasel<0.5.0,>=0.1.0 in /Users/adasme/miniconda3/envs/nerenv/lib/python3.12/site-packages (from spacy<3.8.0,>=3.7.2->en-core-web-md==3.7.1) (0.4.1)\n",
      "Requirement already satisfied: typer<1.0.0,>=0.3.0 in /Users/adasme/miniconda3/envs/nerenv/lib/python3.12/site-packages (from spacy<3.8.0,>=3.7.2->en-core-web-md==3.7.1) (0.12.3)\n",
      "Requirement already satisfied: tqdm<5.0.0,>=4.38.0 in /Users/adasme/miniconda3/envs/nerenv/lib/python3.12/site-packages (from spacy<3.8.0,>=3.7.2->en-core-web-md==3.7.1) (4.66.4)\n",
      "Requirement already satisfied: requests<3.0.0,>=2.13.0 in /Users/adasme/miniconda3/envs/nerenv/lib/python3.12/site-packages (from spacy<3.8.0,>=3.7.2->en-core-web-md==3.7.1) (2.32.3)\n",
      "Requirement already satisfied: pydantic!=1.8,!=1.8.1,<3.0.0,>=1.7.4 in /Users/adasme/miniconda3/envs/nerenv/lib/python3.12/site-packages (from spacy<3.8.0,>=3.7.2->en-core-web-md==3.7.1) (2.8.2)\n",
      "Requirement already satisfied: jinja2 in /Users/adasme/miniconda3/envs/nerenv/lib/python3.12/site-packages (from spacy<3.8.0,>=3.7.2->en-core-web-md==3.7.1) (3.1.4)\n",
      "Requirement already satisfied: setuptools in /Users/adasme/miniconda3/envs/nerenv/lib/python3.12/site-packages (from spacy<3.8.0,>=3.7.2->en-core-web-md==3.7.1) (72.1.0)\n",
      "Requirement already satisfied: packaging>=20.0 in /Users/adasme/miniconda3/envs/nerenv/lib/python3.12/site-packages (from spacy<3.8.0,>=3.7.2->en-core-web-md==3.7.1) (24.1)\n",
      "Requirement already satisfied: langcodes<4.0.0,>=3.2.0 in /Users/adasme/miniconda3/envs/nerenv/lib/python3.12/site-packages (from spacy<3.8.0,>=3.7.2->en-core-web-md==3.7.1) (3.4.0)\n",
      "Requirement already satisfied: numpy>=1.19.0 in /Users/adasme/miniconda3/envs/nerenv/lib/python3.12/site-packages (from spacy<3.8.0,>=3.7.2->en-core-web-md==3.7.1) (1.26.4)\n",
      "Requirement already satisfied: language-data>=1.2 in /Users/adasme/miniconda3/envs/nerenv/lib/python3.12/site-packages (from langcodes<4.0.0,>=3.2.0->spacy<3.8.0,>=3.7.2->en-core-web-md==3.7.1) (1.2.0)\n",
      "Requirement already satisfied: annotated-types>=0.4.0 in /Users/adasme/miniconda3/envs/nerenv/lib/python3.12/site-packages (from pydantic!=1.8,!=1.8.1,<3.0.0,>=1.7.4->spacy<3.8.0,>=3.7.2->en-core-web-md==3.7.1) (0.7.0)\n",
      "Requirement already satisfied: pydantic-core==2.20.1 in /Users/adasme/miniconda3/envs/nerenv/lib/python3.12/site-packages (from pydantic!=1.8,!=1.8.1,<3.0.0,>=1.7.4->spacy<3.8.0,>=3.7.2->en-core-web-md==3.7.1) (2.20.1)\n",
      "Requirement already satisfied: typing-extensions>=4.6.1 in /Users/adasme/miniconda3/envs/nerenv/lib/python3.12/site-packages (from pydantic!=1.8,!=1.8.1,<3.0.0,>=1.7.4->spacy<3.8.0,>=3.7.2->en-core-web-md==3.7.1) (4.12.2)\n",
      "Requirement already satisfied: charset-normalizer<4,>=2 in /Users/adasme/miniconda3/envs/nerenv/lib/python3.12/site-packages (from requests<3.0.0,>=2.13.0->spacy<3.8.0,>=3.7.2->en-core-web-md==3.7.1) (3.3.2)\n",
      "Requirement already satisfied: idna<4,>=2.5 in /Users/adasme/miniconda3/envs/nerenv/lib/python3.12/site-packages (from requests<3.0.0,>=2.13.0->spacy<3.8.0,>=3.7.2->en-core-web-md==3.7.1) (3.7)\n",
      "Requirement already satisfied: urllib3<3,>=1.21.1 in /Users/adasme/miniconda3/envs/nerenv/lib/python3.12/site-packages (from requests<3.0.0,>=2.13.0->spacy<3.8.0,>=3.7.2->en-core-web-md==3.7.1) (2.2.2)\n",
      "Requirement already satisfied: certifi>=2017.4.17 in /Users/adasme/miniconda3/envs/nerenv/lib/python3.12/site-packages (from requests<3.0.0,>=2.13.0->spacy<3.8.0,>=3.7.2->en-core-web-md==3.7.1) (2024.7.4)\n",
      "Requirement already satisfied: blis<0.8.0,>=0.7.8 in /Users/adasme/miniconda3/envs/nerenv/lib/python3.12/site-packages (from thinc<8.3.0,>=8.2.2->spacy<3.8.0,>=3.7.2->en-core-web-md==3.7.1) (0.7.11)\n",
      "Requirement already satisfied: confection<1.0.0,>=0.0.1 in /Users/adasme/miniconda3/envs/nerenv/lib/python3.12/site-packages (from thinc<8.3.0,>=8.2.2->spacy<3.8.0,>=3.7.2->en-core-web-md==3.7.1) (0.1.5)\n",
      "Requirement already satisfied: click>=8.0.0 in /Users/adasme/miniconda3/envs/nerenv/lib/python3.12/site-packages (from typer<1.0.0,>=0.3.0->spacy<3.8.0,>=3.7.2->en-core-web-md==3.7.1) (8.1.7)\n",
      "Requirement already satisfied: shellingham>=1.3.0 in /Users/adasme/miniconda3/envs/nerenv/lib/python3.12/site-packages (from typer<1.0.0,>=0.3.0->spacy<3.8.0,>=3.7.2->en-core-web-md==3.7.1) (1.5.4)\n",
      "Requirement already satisfied: rich>=10.11.0 in /Users/adasme/miniconda3/envs/nerenv/lib/python3.12/site-packages (from typer<1.0.0,>=0.3.0->spacy<3.8.0,>=3.7.2->en-core-web-md==3.7.1) (13.7.1)\n",
      "Requirement already satisfied: cloudpathlib<1.0.0,>=0.7.0 in /Users/adasme/miniconda3/envs/nerenv/lib/python3.12/site-packages (from weasel<0.5.0,>=0.1.0->spacy<3.8.0,>=3.7.2->en-core-web-md==3.7.1) (0.18.1)\n",
      "Requirement already satisfied: smart-open<8.0.0,>=5.2.1 in /Users/adasme/miniconda3/envs/nerenv/lib/python3.12/site-packages (from weasel<0.5.0,>=0.1.0->spacy<3.8.0,>=3.7.2->en-core-web-md==3.7.1) (7.0.4)\n",
      "Requirement already satisfied: MarkupSafe>=2.0 in /Users/adasme/miniconda3/envs/nerenv/lib/python3.12/site-packages (from jinja2->spacy<3.8.0,>=3.7.2->en-core-web-md==3.7.1) (2.1.5)\n",
      "Requirement already satisfied: marisa-trie>=0.7.7 in /Users/adasme/miniconda3/envs/nerenv/lib/python3.12/site-packages (from language-data>=1.2->langcodes<4.0.0,>=3.2.0->spacy<3.8.0,>=3.7.2->en-core-web-md==3.7.1) (1.2.0)\n",
      "Requirement already satisfied: markdown-it-py>=2.2.0 in /Users/adasme/miniconda3/envs/nerenv/lib/python3.12/site-packages (from rich>=10.11.0->typer<1.0.0,>=0.3.0->spacy<3.8.0,>=3.7.2->en-core-web-md==3.7.1) (3.0.0)\n",
      "Requirement already satisfied: pygments<3.0.0,>=2.13.0 in /Users/adasme/miniconda3/envs/nerenv/lib/python3.12/site-packages (from rich>=10.11.0->typer<1.0.0,>=0.3.0->spacy<3.8.0,>=3.7.2->en-core-web-md==3.7.1) (2.18.0)\n",
      "Requirement already satisfied: wrapt in /Users/adasme/miniconda3/envs/nerenv/lib/python3.12/site-packages (from smart-open<8.0.0,>=5.2.1->weasel<0.5.0,>=0.1.0->spacy<3.8.0,>=3.7.2->en-core-web-md==3.7.1) (1.16.0)\n",
      "Requirement already satisfied: mdurl~=0.1 in /Users/adasme/miniconda3/envs/nerenv/lib/python3.12/site-packages (from markdown-it-py>=2.2.0->rich>=10.11.0->typer<1.0.0,>=0.3.0->spacy<3.8.0,>=3.7.2->en-core-web-md==3.7.1) (0.1.2)\n",
      "\u001b[38;5;2m✔ Download and installation successful\u001b[0m\n",
      "You can now load the package via spacy.load('en_core_web_md')\n",
      "\u001b[1m\n",
      "============================== preprocess-final ==============================\u001b[0m\n",
      "\u001b[38;5;4mℹ Skipping 'preprocess-final': nothing changed\u001b[0m\n",
      "\u001b[1m\n",
      "================================ train-final ================================\u001b[0m\n",
      "\u001b[38;5;4mℹ Skipping 'train-final': nothing changed\u001b[0m\n",
      "\u001b[1m\n",
      "================================== package ==================================\u001b[0m\n",
      "\u001b[38;5;4mℹ Skipping 'package': nothing changed\u001b[0m\n"
     ]
    },
    {
     "data": {
      "text/plain": [
       "'Model/training'"
      ]
     },
     "execution_count": 15,
     "metadata": {},
     "output_type": "execute_result"
    }
   ],
   "source": [
    "#set up path for training data\n",
    "train = os.path.join(mpath,'assays_training.jsonl')\n",
    "\n",
    "#Copy the current input files to the pipeline path\n",
    "shutil.copy(train, os.path.join('ner_assays/assets/'))\n",
    "\n",
    "#Run the pipeline\n",
    "os.chdir('ner_assays')\n",
    "command = 'python3 -m weasel run model-final'\n",
    "subprocess.run(command, shell=True, capture_output=False, text=True) #set capture_output to True to hide execution outputs\n",
    "os.chdir('../')\n",
    "\n",
    "#Move outputs to the main model folder\n",
    "opath = os.path.join(mpath,'training')\n",
    "shutil.copytree('ner_assays/training', opath, dirs_exist_ok=True)"
   ]
  }
 ],
 "metadata": {
  "kernelspec": {
   "display_name": "nerenv",
   "language": "python",
   "name": "python3"
  },
  "language_info": {
   "codemirror_mode": {
    "name": "ipython",
    "version": 3
   },
   "file_extension": ".py",
   "mimetype": "text/x-python",
   "name": "python",
   "nbconvert_exporter": "python",
   "pygments_lexer": "ipython3",
   "version": "3.12.3"
  }
 },
 "nbformat": 4,
 "nbformat_minor": 2
}
