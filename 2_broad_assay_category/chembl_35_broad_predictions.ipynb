{
 "cells": [
  {
   "cell_type": "code",
   "execution_count": null,
   "id": "795f99bb-311a-4bba-9670-408d21450eeb",
   "metadata": {
    "execution": {
     "iopub.execute_input": "2025-01-31T16:36:51.802066Z",
     "iopub.status.busy": "2025-01-31T16:36:51.801893Z",
     "iopub.status.idle": "2025-01-31T16:36:55.007635Z",
     "shell.execute_reply": "2025-01-31T16:36:55.007139Z"
    }
   },
   "outputs": [],
   "source": [
    "import sqlite3\n",
    "import pandas as pd\n",
    "from sql_query import query1\n",
    "import spacy\n",
    "chemblpath = 'chembl_35_sqlite/chembl_35.db' #path must be modified accordingly"
   ]
  },
  {
   "cell_type": "code",
   "execution_count": 2,
   "id": "9323dbf6-4531-4cef-9f68-6a8aed5b2d21",
   "metadata": {
    "execution": {
     "iopub.execute_input": "2025-01-31T16:36:55.010663Z",
     "iopub.status.busy": "2025-01-31T16:36:55.010390Z",
     "iopub.status.idle": "2025-01-31T16:36:55.017600Z",
     "shell.execute_reply": "2025-01-31T16:36:55.017190Z"
    }
   },
   "outputs": [
    {
     "data": {
      "text/plain": [
       "\"select distinct\\nassay_id\\n, year\\n, description\\n, assay_type\\nfrom \\nchembl_35.assays assays\\njoin chembl_35.docs on assays.doc_id = docs.doc_id\\njoin chembl_35.target_dictionary td on assays.tid = td.tid\\nwhere\\nassays.src_id = 1\\nand td.tid != 22226\\nand description is not NULL\\nand assay_type in ('B', 'F')\""
      ]
     },
     "execution_count": 2,
     "metadata": {},
     "output_type": "execute_result"
    }
   ],
   "source": [
    "query1"
   ]
  },
  {
   "cell_type": "code",
   "execution_count": null,
   "id": "1c066114-65a0-4c16-a09e-fc3d6945ca93",
   "metadata": {},
   "outputs": [],
   "source": [
    "# Connect to DB\n",
    "connection = sqlite3.connect(chemblpath)"
   ]
  },
  {
   "cell_type": "code",
   "execution_count": 3,
   "id": "e3a4f503-7253-42e8-b8fb-d27d772838ae",
   "metadata": {
    "execution": {
     "iopub.execute_input": "2025-01-31T16:36:55.019807Z",
     "iopub.status.busy": "2025-01-31T16:36:55.019629Z",
     "iopub.status.idle": "2025-01-31T16:37:09.448734Z",
     "shell.execute_reply": "2025-01-31T16:37:09.448063Z"
    }
   },
   "outputs": [],
   "source": [
    "results = pd.read_sql_query(query1, connection)"
   ]
  },
  {
   "cell_type": "code",
   "execution_count": 4,
   "id": "6e855b40-082b-4a00-9d2a-9c032e42a3b5",
   "metadata": {
    "execution": {
     "iopub.execute_input": "2025-01-31T16:37:09.451980Z",
     "iopub.status.busy": "2025-01-31T16:37:09.451776Z",
     "iopub.status.idle": "2025-01-31T16:37:09.467681Z",
     "shell.execute_reply": "2025-01-31T16:37:09.467236Z"
    }
   },
   "outputs": [
    {
     "data": {
      "text/html": [
       "<div>\n",
       "<style scoped>\n",
       "    .dataframe tbody tr th:only-of-type {\n",
       "        vertical-align: middle;\n",
       "    }\n",
       "\n",
       "    .dataframe tbody tr th {\n",
       "        vertical-align: top;\n",
       "    }\n",
       "\n",
       "    .dataframe thead th {\n",
       "        text-align: right;\n",
       "    }\n",
       "</style>\n",
       "<table border=\"1\" class=\"dataframe\">\n",
       "  <thead>\n",
       "    <tr style=\"text-align: right;\">\n",
       "      <th></th>\n",
       "      <th>assay_id</th>\n",
       "      <th>year</th>\n",
       "      <th>description</th>\n",
       "      <th>assay_type</th>\n",
       "    </tr>\n",
       "  </thead>\n",
       "  <tbody>\n",
       "    <tr>\n",
       "      <th>0</th>\n",
       "      <td>89</td>\n",
       "      <td>1994.0</td>\n",
       "      <td>Evaluated for its activity to inhibit rat live...</td>\n",
       "      <td>B</td>\n",
       "    </tr>\n",
       "    <tr>\n",
       "      <th>1</th>\n",
       "      <td>235</td>\n",
       "      <td>2003.0</td>\n",
       "      <td>Inhibitory activity against inosine 5'-inosine...</td>\n",
       "      <td>B</td>\n",
       "    </tr>\n",
       "    <tr>\n",
       "      <th>2</th>\n",
       "      <td>667</td>\n",
       "      <td>2003.0</td>\n",
       "      <td>5-hydroxytryptamine 1A receptor antagonism was...</td>\n",
       "      <td>F</td>\n",
       "    </tr>\n",
       "    <tr>\n",
       "      <th>3</th>\n",
       "      <td>758</td>\n",
       "      <td>2001.0</td>\n",
       "      <td>Binding affinity towards human 5-hydroxytrypta...</td>\n",
       "      <td>B</td>\n",
       "    </tr>\n",
       "    <tr>\n",
       "      <th>4</th>\n",
       "      <td>1155</td>\n",
       "      <td>1992.0</td>\n",
       "      <td>Compound was evaluated for in vitro binding af...</td>\n",
       "      <td>B</td>\n",
       "    </tr>\n",
       "  </tbody>\n",
       "</table>\n",
       "</div>"
      ],
      "text/plain": [
       "   assay_id    year                                        description  \\\n",
       "0        89  1994.0  Evaluated for its activity to inhibit rat live...   \n",
       "1       235  2003.0  Inhibitory activity against inosine 5'-inosine...   \n",
       "2       667  2003.0  5-hydroxytryptamine 1A receptor antagonism was...   \n",
       "3       758  2001.0  Binding affinity towards human 5-hydroxytrypta...   \n",
       "4      1155  1992.0  Compound was evaluated for in vitro binding af...   \n",
       "\n",
       "  assay_type  \n",
       "0          B  \n",
       "1          B  \n",
       "2          F  \n",
       "3          B  \n",
       "4          B  "
      ]
     },
     "execution_count": 4,
     "metadata": {},
     "output_type": "execute_result"
    }
   ],
   "source": [
    "results.head()"
   ]
  },
  {
   "cell_type": "code",
   "execution_count": 5,
   "id": "d44d59a4-7421-48ab-92c9-f075ce6fe2b4",
   "metadata": {
    "execution": {
     "iopub.execute_input": "2025-01-31T16:37:09.470121Z",
     "iopub.status.busy": "2025-01-31T16:37:09.469931Z",
     "iopub.status.idle": "2025-01-31T16:37:09.475103Z",
     "shell.execute_reply": "2025-01-31T16:37:09.474667Z"
    }
   },
   "outputs": [
    {
     "data": {
      "text/plain": [
       "1169293"
      ]
     },
     "execution_count": 5,
     "metadata": {},
     "output_type": "execute_result"
    }
   ],
   "source": [
    "len(results)"
   ]
  },
  {
   "cell_type": "code",
   "execution_count": 6,
   "id": "74755a25-e0f6-412a-a7f8-3a870167a143",
   "metadata": {
    "execution": {
     "iopub.execute_input": "2025-01-31T16:37:09.477376Z",
     "iopub.status.busy": "2025-01-31T16:37:09.477201Z",
     "iopub.status.idle": "2025-01-31T16:37:09.480429Z",
     "shell.execute_reply": "2025-01-31T16:37:09.480015Z"
    }
   },
   "outputs": [],
   "source": [
    "#results.to_csv('chembl_35_all_BF_assays.txt', sep='\\t')"
   ]
  },
  {
   "cell_type": "code",
   "execution_count": 7,
   "id": "f440e665-efbd-40cf-aca1-c1c8e371b9db",
   "metadata": {
    "execution": {
     "iopub.execute_input": "2025-01-31T16:37:09.482612Z",
     "iopub.status.busy": "2025-01-31T16:37:09.482441Z",
     "iopub.status.idle": "2025-01-31T16:37:09.912895Z",
     "shell.execute_reply": "2025-01-31T16:37:09.912404Z"
    }
   },
   "outputs": [],
   "source": [
    "nlp = spacy.load(\"./Model/training/model-best\")"
   ]
  },
  {
   "cell_type": "code",
   "execution_count": 8,
   "id": "21af0fc8-1bea-4b4c-a644-c0a6fe4cdd21",
   "metadata": {
    "execution": {
     "iopub.execute_input": "2025-01-31T16:37:09.915678Z",
     "iopub.status.busy": "2025-01-31T16:37:09.915490Z",
     "iopub.status.idle": "2025-01-31T17:32:01.294841Z",
     "shell.execute_reply": "2025-01-31T17:32:01.294141Z"
    }
   },
   "outputs": [],
   "source": [
    "results['cats'] = results['description'].apply(lambda x: nlp(x).cats)"
   ]
  },
  {
   "cell_type": "code",
   "execution_count": 9,
   "id": "179efd59-5766-4afd-855e-f622aa2350b7",
   "metadata": {
    "execution": {
     "iopub.execute_input": "2025-01-31T17:32:01.297973Z",
     "iopub.status.busy": "2025-01-31T17:32:01.297773Z",
     "iopub.status.idle": "2025-01-31T17:32:26.596320Z",
     "shell.execute_reply": "2025-01-31T17:32:26.595658Z"
    }
   },
   "outputs": [],
   "source": [
    "results.to_csv('chembl_35_broad_results.txt', sep='\\t')"
   ]
  }
 ],
 "metadata": {
  "kernelspec": {
   "display_name": "Python 3 (ipykernel)",
   "language": "python",
   "name": "python3"
  },
  "language_info": {
   "codemirror_mode": {
    "name": "ipython",
    "version": 3
   },
   "file_extension": ".py",
   "mimetype": "text/x-python",
   "name": "python",
   "nbconvert_exporter": "python",
   "pygments_lexer": "ipython3",
   "version": "3.11.7"
  }
 },
 "nbformat": 4,
 "nbformat_minor": 5
}
