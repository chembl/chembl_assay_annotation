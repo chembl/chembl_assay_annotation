{
 "cells": [
  {
   "cell_type": "code",
   "execution_count": 1,
   "id": "54cfa5fd-e1ba-469a-bac8-886dbf14a06c",
   "metadata": {},
   "outputs": [],
   "source": [
    "import spacy"
   ]
  },
  {
   "cell_type": "code",
   "execution_count": 3,
   "id": "beddae41-fa62-405e-a8ec-3dff522285a6",
   "metadata": {},
   "outputs": [
    {
     "data": {
      "text/plain": [
       "'/homes/ines/repos/assays_description/2_broad_assay_category'"
      ]
     },
     "execution_count": 3,
     "metadata": {},
     "output_type": "execute_result"
    }
   ],
   "source": [
    "pwd"
   ]
  },
  {
   "cell_type": "code",
   "execution_count": 4,
   "id": "c93907c9-df8a-4705-bba4-5446bd788301",
   "metadata": {},
   "outputs": [],
   "source": [
    "nlp = spacy.load(\"./Model/training/model-best\")"
   ]
  },
  {
   "cell_type": "code",
   "execution_count": 5,
   "id": "e1ea20cd-0c94-4e8e-af01-8c266863025f",
   "metadata": {},
   "outputs": [],
   "source": [
    "sentence = \"\"\"Ability to stimulate binding to delta-opioid receptor using GTP-gamma -S-binding assay in guinea pig caudate membranes, blocked with 20 nM naltrindole (NTI); NS= no stimulation\"\"\""
   ]
  },
  {
   "cell_type": "code",
   "execution_count": 6,
   "id": "d16a1d5f-ef2f-48e9-a0c6-c04c670175c4",
   "metadata": {},
   "outputs": [],
   "source": [
    "result = nlp(sentence)"
   ]
  },
  {
   "cell_type": "code",
   "execution_count": 7,
   "id": "ce66a2e6-bea2-4075-af4f-05216112bfa5",
   "metadata": {},
   "outputs": [
    {
     "data": {
      "text/plain": [
       "{'Radioligand binding (BAO_0002776)': 0.001966184237971902,\n",
       " 'Binding (BAO_0002989)': 0.9907041192054749,\n",
       " 'Protein activity (BAO_0013016)': 9.214541933033615e-05,\n",
       " 'in vivo method (BAO_0040021)': 4.502711453824304e-05,\n",
       " 'Cell phenotype (BAO_0002542)': 6.8179911068000365e-06,\n",
       " 'Nucleic acid binding': 0.002742685144767165,\n",
       " 'Antimicrobial activity': 0.0023708550725132227}"
      ]
     },
     "execution_count": 7,
     "metadata": {},
     "output_type": "execute_result"
    }
   ],
   "source": [
    "result.cats"
   ]
  },
  {
   "cell_type": "code",
   "execution_count": null,
   "id": "f6ace166-df0b-40bc-bd5b-493a3b86bc0d",
   "metadata": {},
   "outputs": [],
   "source": []
  }
 ],
 "metadata": {
  "kernelspec": {
   "display_name": "Python 3 (ipykernel)",
   "language": "python",
   "name": "python3"
  },
  "language_info": {
   "codemirror_mode": {
    "name": "ipython",
    "version": 3
   },
   "file_extension": ".py",
   "mimetype": "text/x-python",
   "name": "python",
   "nbconvert_exporter": "python",
   "pygments_lexer": "ipython3",
   "version": "3.11.7"
  }
 },
 "nbformat": 4,
 "nbformat_minor": 5
}
