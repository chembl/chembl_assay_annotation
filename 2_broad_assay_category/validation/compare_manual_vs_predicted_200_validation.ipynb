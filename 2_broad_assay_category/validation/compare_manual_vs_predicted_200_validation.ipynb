{
 "cells": [
  {
   "cell_type": "code",
   "execution_count": 1,
   "id": "df90d88e-52b8-47eb-aed9-b7ef98e45fcf",
   "metadata": {},
   "outputs": [],
   "source": [
    "import pandas as pd\n",
    "import seaborn as sns\n",
    "import matplotlib.pyplot as plt\n",
    "from sklearn.metrics import confusion_matrix, precision_score, recall_score, accuracy_score"
   ]
  },
  {
   "cell_type": "code",
   "execution_count": 2,
   "id": "1d5b7419-cf5d-4003-8a9b-9ab8c896892a",
   "metadata": {},
   "outputs": [],
   "source": [
    "manual1 = pd.read_excel('sample_subset_chembl35_blind_broad.xlsx', skiprows=1)"
   ]
  },
  {
   "cell_type": "code",
   "execution_count": 3,
   "id": "cdfd7329-ae5c-4133-bd0f-e60f1e608c1e",
   "metadata": {},
   "outputs": [
    {
     "data": {
      "text/html": [
       "<div>\n",
       "<style scoped>\n",
       "    .dataframe tbody tr th:only-of-type {\n",
       "        vertical-align: middle;\n",
       "    }\n",
       "\n",
       "    .dataframe tbody tr th {\n",
       "        vertical-align: top;\n",
       "    }\n",
       "\n",
       "    .dataframe thead th {\n",
       "        text-align: right;\n",
       "    }\n",
       "</style>\n",
       "<table border=\"1\" class=\"dataframe\">\n",
       "  <thead>\n",
       "    <tr style=\"text-align: right;\">\n",
       "      <th></th>\n",
       "      <th>assay_id</th>\n",
       "      <th>assay_type</th>\n",
       "      <th>description</th>\n",
       "      <th>broad</th>\n",
       "    </tr>\n",
       "  </thead>\n",
       "  <tbody>\n",
       "    <tr>\n",
       "      <th>0</th>\n",
       "      <td>2240177</td>\n",
       "      <td>B</td>\n",
       "      <td>Induction of HDAC4 degradation in human HL-60 ...</td>\n",
       "      <td>Protein activity</td>\n",
       "    </tr>\n",
       "    <tr>\n",
       "      <th>1</th>\n",
       "      <td>1708538</td>\n",
       "      <td>B</td>\n",
       "      <td>Binding affinity to ACTR3 in human NCI-H23 cel...</td>\n",
       "      <td>Binding</td>\n",
       "    </tr>\n",
       "    <tr>\n",
       "      <th>2</th>\n",
       "      <td>1837015</td>\n",
       "      <td>B</td>\n",
       "      <td>Inhibition of recombinant human TRKC (510 to e...</td>\n",
       "      <td>Protein activity</td>\n",
       "    </tr>\n",
       "    <tr>\n",
       "      <th>3</th>\n",
       "      <td>46520</td>\n",
       "      <td>B</td>\n",
       "      <td>Inhibitory concentration of compound required ...</td>\n",
       "      <td>Protein activity</td>\n",
       "    </tr>\n",
       "    <tr>\n",
       "      <th>4</th>\n",
       "      <td>533526</td>\n",
       "      <td>B</td>\n",
       "      <td>Inhibition of human trypsin at 100 uM</td>\n",
       "      <td>Protein activity</td>\n",
       "    </tr>\n",
       "  </tbody>\n",
       "</table>\n",
       "</div>"
      ],
      "text/plain": [
       "   assay_id assay_type                                        description  \\\n",
       "0   2240177          B  Induction of HDAC4 degradation in human HL-60 ...   \n",
       "1   1708538          B  Binding affinity to ACTR3 in human NCI-H23 cel...   \n",
       "2   1837015          B  Inhibition of recombinant human TRKC (510 to e...   \n",
       "3     46520          B  Inhibitory concentration of compound required ...   \n",
       "4    533526          B              Inhibition of human trypsin at 100 uM   \n",
       "\n",
       "              broad  \n",
       "0  Protein activity  \n",
       "1           Binding  \n",
       "2  Protein activity  \n",
       "3  Protein activity  \n",
       "4  Protein activity  "
      ]
     },
     "execution_count": 3,
     "metadata": {},
     "output_type": "execute_result"
    }
   ],
   "source": [
    "manual1.head()"
   ]
  },
  {
   "cell_type": "code",
   "execution_count": 4,
   "id": "fc4dda86-c1b4-4937-8641-72a78fc924fc",
   "metadata": {},
   "outputs": [
    {
     "data": {
      "text/plain": [
       "0           Protein activity\n",
       "1                    Binding\n",
       "9        Radioligand binding\n",
       "18                     Other\n",
       "35    Antimicrobial activity\n",
       "38            Cell phenotype\n",
       "39            in vivo method\n",
       "Name: broad, dtype: object"
      ]
     },
     "execution_count": 4,
     "metadata": {},
     "output_type": "execute_result"
    }
   ],
   "source": [
    "manual1['broad'].drop_duplicates()"
   ]
  },
  {
   "cell_type": "code",
   "execution_count": 5,
   "id": "3078f3bf-dfad-4f8a-8984-9ce9ad368414",
   "metadata": {},
   "outputs": [],
   "source": [
    "manual2 = pd.read_excel('sample_subset2_chembl35_blind_2_broad.xlsx', skiprows=1)"
   ]
  },
  {
   "cell_type": "code",
   "execution_count": 6,
   "id": "54ed860f-a5fd-47fc-a0ef-94725fd6fa70",
   "metadata": {},
   "outputs": [
    {
     "data": {
      "text/html": [
       "<div>\n",
       "<style scoped>\n",
       "    .dataframe tbody tr th:only-of-type {\n",
       "        vertical-align: middle;\n",
       "    }\n",
       "\n",
       "    .dataframe tbody tr th {\n",
       "        vertical-align: top;\n",
       "    }\n",
       "\n",
       "    .dataframe thead th {\n",
       "        text-align: right;\n",
       "    }\n",
       "</style>\n",
       "<table border=\"1\" class=\"dataframe\">\n",
       "  <thead>\n",
       "    <tr style=\"text-align: right;\">\n",
       "      <th></th>\n",
       "      <th>assay_id</th>\n",
       "      <th>assay_type</th>\n",
       "      <th>description</th>\n",
       "      <th>broad</th>\n",
       "    </tr>\n",
       "  </thead>\n",
       "  <tbody>\n",
       "    <tr>\n",
       "      <th>0</th>\n",
       "      <td>1586235</td>\n",
       "      <td>B</td>\n",
       "      <td>Displacement of [3H]8-OH-DPAT from human recom...</td>\n",
       "      <td>Radioligand binding</td>\n",
       "    </tr>\n",
       "    <tr>\n",
       "      <th>1</th>\n",
       "      <td>1586152</td>\n",
       "      <td>B</td>\n",
       "      <td>Inhibition of recombinant human C-terminal His...</td>\n",
       "      <td>Protein activity</td>\n",
       "    </tr>\n",
       "    <tr>\n",
       "      <th>2</th>\n",
       "      <td>2284101</td>\n",
       "      <td>B</td>\n",
       "      <td>Binding affinity to human recombinant ALK L119...</td>\n",
       "      <td>Protein activity</td>\n",
       "    </tr>\n",
       "    <tr>\n",
       "      <th>3</th>\n",
       "      <td>1515453</td>\n",
       "      <td>B</td>\n",
       "      <td>Binding affinity to dopamine D4 receptor (unkn...</td>\n",
       "      <td>Radioligand binding</td>\n",
       "    </tr>\n",
       "    <tr>\n",
       "      <th>4</th>\n",
       "      <td>1675172</td>\n",
       "      <td>B</td>\n",
       "      <td>Inhibition of human partial length PIK3CA Q546...</td>\n",
       "      <td>Binding</td>\n",
       "    </tr>\n",
       "  </tbody>\n",
       "</table>\n",
       "</div>"
      ],
      "text/plain": [
       "   assay_id assay_type                                        description  \\\n",
       "0   1586235          B  Displacement of [3H]8-OH-DPAT from human recom...   \n",
       "1   1586152          B  Inhibition of recombinant human C-terminal His...   \n",
       "2   2284101          B  Binding affinity to human recombinant ALK L119...   \n",
       "3   1515453          B  Binding affinity to dopamine D4 receptor (unkn...   \n",
       "4   1675172          B  Inhibition of human partial length PIK3CA Q546...   \n",
       "\n",
       "                 broad  \n",
       "0  Radioligand binding  \n",
       "1     Protein activity  \n",
       "2     Protein activity  \n",
       "3  Radioligand binding  \n",
       "4              Binding  "
      ]
     },
     "execution_count": 6,
     "metadata": {},
     "output_type": "execute_result"
    }
   ],
   "source": [
    "manual2.head()"
   ]
  },
  {
   "cell_type": "code",
   "execution_count": 7,
   "id": "0e1f2ae3-3a19-4953-84b4-2ff2b1077e5a",
   "metadata": {},
   "outputs": [
    {
     "data": {
      "text/plain": [
       "0        Radioligand binding\n",
       "1           Protein activity\n",
       "4                    Binding\n",
       "10                     Other\n",
       "34    Antimicrobial activity\n",
       "37            in vivo method\n",
       "41            Cell phenotype\n",
       "Name: broad, dtype: object"
      ]
     },
     "execution_count": 7,
     "metadata": {},
     "output_type": "execute_result"
    }
   ],
   "source": [
    "manual2['broad'].drop_duplicates()"
   ]
  },
  {
   "cell_type": "code",
   "execution_count": 8,
   "id": "2dce5f3e-f6c5-43b4-94c8-5a93afc756ba",
   "metadata": {},
   "outputs": [],
   "source": [
    "combined_manual = pd.concat([manual1, manual2])"
   ]
  },
  {
   "cell_type": "code",
   "execution_count": 9,
   "id": "bae3d813-5bc7-4a39-b5fb-83a763e5b29c",
   "metadata": {},
   "outputs": [
    {
     "data": {
      "text/plain": [
       "200"
      ]
     },
     "execution_count": 9,
     "metadata": {},
     "output_type": "execute_result"
    }
   ],
   "source": [
    "len(combined_manual)"
   ]
  },
  {
   "cell_type": "code",
   "execution_count": 10,
   "id": "0e8b6f62-0586-4fbb-b5e2-607bba6a0612",
   "metadata": {},
   "outputs": [
    {
     "data": {
      "text/plain": [
       "broad\n",
       "Protein activity          46\n",
       "Cell phenotype            43\n",
       "Antimicrobial activity    42\n",
       "in vivo method            29\n",
       "Other                     19\n",
       "Binding                   11\n",
       "Radioligand binding       10\n",
       "Name: count, dtype: int64"
      ]
     },
     "execution_count": 10,
     "metadata": {},
     "output_type": "execute_result"
    }
   ],
   "source": [
    "combined_manual['broad'].value_counts()"
   ]
  },
  {
   "cell_type": "code",
   "execution_count": 11,
   "id": "fed991b8-855a-4f4d-a81c-cd56e96d4a9d",
   "metadata": {},
   "outputs": [],
   "source": [
    "predictions = pd.read_csv('validation200_broad_unblinded.csv')"
   ]
  },
  {
   "cell_type": "code",
   "execution_count": 12,
   "id": "514a37b6-36d2-4c31-b7e0-20b2681ce91a",
   "metadata": {},
   "outputs": [
    {
     "data": {
      "text/html": [
       "<div>\n",
       "<style scoped>\n",
       "    .dataframe tbody tr th:only-of-type {\n",
       "        vertical-align: middle;\n",
       "    }\n",
       "\n",
       "    .dataframe tbody tr th {\n",
       "        vertical-align: top;\n",
       "    }\n",
       "\n",
       "    .dataframe thead th {\n",
       "        text-align: right;\n",
       "    }\n",
       "</style>\n",
       "<table border=\"1\" class=\"dataframe\">\n",
       "  <thead>\n",
       "    <tr style=\"text-align: right;\">\n",
       "      <th></th>\n",
       "      <th>assay_id</th>\n",
       "      <th>year</th>\n",
       "      <th>description</th>\n",
       "      <th>assay_type</th>\n",
       "      <th>Radioligand binding (BAO_0002776)</th>\n",
       "      <th>Binding (BAO_0002989)</th>\n",
       "      <th>Protein activity (BAO_0013016)</th>\n",
       "      <th>in vivo method (BAO_0040021)</th>\n",
       "      <th>Cell phenotype (BAO_0002542)</th>\n",
       "      <th>Nucleic acid binding</th>\n",
       "      <th>Antimicrobial activity</th>\n",
       "      <th>predicted_cat</th>\n",
       "      <th>prediction_score</th>\n",
       "      <th>second_largest_score</th>\n",
       "    </tr>\n",
       "  </thead>\n",
       "  <tbody>\n",
       "    <tr>\n",
       "      <th>0</th>\n",
       "      <td>456385</td>\n",
       "      <td>2007.0</td>\n",
       "      <td>Ex vivo anticoagulant potency in rat plasma as...</td>\n",
       "      <td>F</td>\n",
       "      <td>0.000044</td>\n",
       "      <td>1.687743e-05</td>\n",
       "      <td>5.459509e-07</td>\n",
       "      <td>1.000000</td>\n",
       "      <td>0.000004</td>\n",
       "      <td>4.804565e-07</td>\n",
       "      <td>7.503688e-07</td>\n",
       "      <td>in vivo method (BAO_0040021)</td>\n",
       "      <td>1.000000</td>\n",
       "      <td>0.000044</td>\n",
       "    </tr>\n",
       "    <tr>\n",
       "      <th>1</th>\n",
       "      <td>2157929</td>\n",
       "      <td>2021.0</td>\n",
       "      <td>Binding affinity to NanoLuc human A1 adenosine...</td>\n",
       "      <td>B</td>\n",
       "      <td>0.000539</td>\n",
       "      <td>9.998216e-01</td>\n",
       "      <td>5.657545e-06</td>\n",
       "      <td>0.000027</td>\n",
       "      <td>0.000099</td>\n",
       "      <td>4.513950e-05</td>\n",
       "      <td>2.979177e-05</td>\n",
       "      <td>Binding (BAO_0002989)</td>\n",
       "      <td>0.999822</td>\n",
       "      <td>0.000539</td>\n",
       "    </tr>\n",
       "    <tr>\n",
       "      <th>2</th>\n",
       "      <td>1907545</td>\n",
       "      <td>2019.0</td>\n",
       "      <td>Growth inhibition of human MOLT4 cells incubat...</td>\n",
       "      <td>F</td>\n",
       "      <td>0.000056</td>\n",
       "      <td>2.949883e-05</td>\n",
       "      <td>3.026868e-06</td>\n",
       "      <td>0.000037</td>\n",
       "      <td>0.999995</td>\n",
       "      <td>4.579080e-05</td>\n",
       "      <td>2.272898e-04</td>\n",
       "      <td>Cell phenotype (BAO_0002542)</td>\n",
       "      <td>0.999995</td>\n",
       "      <td>0.000227</td>\n",
       "    </tr>\n",
       "    <tr>\n",
       "      <th>3</th>\n",
       "      <td>2265211</td>\n",
       "      <td>2022.0</td>\n",
       "      <td>Antagonist activity at human P2Y6R expressed i...</td>\n",
       "      <td>B</td>\n",
       "      <td>0.000005</td>\n",
       "      <td>3.201314e-06</td>\n",
       "      <td>9.999920e-01</td>\n",
       "      <td>0.000004</td>\n",
       "      <td>0.000010</td>\n",
       "      <td>4.184967e-06</td>\n",
       "      <td>2.981297e-06</td>\n",
       "      <td>Protein activity (BAO_0013016)</td>\n",
       "      <td>0.999992</td>\n",
       "      <td>0.000010</td>\n",
       "    </tr>\n",
       "    <tr>\n",
       "      <th>4</th>\n",
       "      <td>1614150</td>\n",
       "      <td>2016.0</td>\n",
       "      <td>Displacement of [125I]-p-iodoclonidine from I1...</td>\n",
       "      <td>B</td>\n",
       "      <td>0.999999</td>\n",
       "      <td>9.383160e-07</td>\n",
       "      <td>6.163500e-06</td>\n",
       "      <td>0.000014</td>\n",
       "      <td>0.000009</td>\n",
       "      <td>1.372803e-05</td>\n",
       "      <td>6.848240e-07</td>\n",
       "      <td>Radioligand binding (BAO_0002776)</td>\n",
       "      <td>0.999999</td>\n",
       "      <td>0.000014</td>\n",
       "    </tr>\n",
       "  </tbody>\n",
       "</table>\n",
       "</div>"
      ],
      "text/plain": [
       "   assay_id    year                                        description  \\\n",
       "0    456385  2007.0  Ex vivo anticoagulant potency in rat plasma as...   \n",
       "1   2157929  2021.0  Binding affinity to NanoLuc human A1 adenosine...   \n",
       "2   1907545  2019.0  Growth inhibition of human MOLT4 cells incubat...   \n",
       "3   2265211  2022.0  Antagonist activity at human P2Y6R expressed i...   \n",
       "4   1614150  2016.0  Displacement of [125I]-p-iodoclonidine from I1...   \n",
       "\n",
       "  assay_type  Radioligand binding (BAO_0002776)  Binding (BAO_0002989)  \\\n",
       "0          F                           0.000044           1.687743e-05   \n",
       "1          B                           0.000539           9.998216e-01   \n",
       "2          F                           0.000056           2.949883e-05   \n",
       "3          B                           0.000005           3.201314e-06   \n",
       "4          B                           0.999999           9.383160e-07   \n",
       "\n",
       "   Protein activity (BAO_0013016)  in vivo method (BAO_0040021)  \\\n",
       "0                    5.459509e-07                      1.000000   \n",
       "1                    5.657545e-06                      0.000027   \n",
       "2                    3.026868e-06                      0.000037   \n",
       "3                    9.999920e-01                      0.000004   \n",
       "4                    6.163500e-06                      0.000014   \n",
       "\n",
       "   Cell phenotype (BAO_0002542)  Nucleic acid binding  Antimicrobial activity  \\\n",
       "0                      0.000004          4.804565e-07            7.503688e-07   \n",
       "1                      0.000099          4.513950e-05            2.979177e-05   \n",
       "2                      0.999995          4.579080e-05            2.272898e-04   \n",
       "3                      0.000010          4.184967e-06            2.981297e-06   \n",
       "4                      0.000009          1.372803e-05            6.848240e-07   \n",
       "\n",
       "                       predicted_cat  prediction_score  second_largest_score  \n",
       "0       in vivo method (BAO_0040021)          1.000000              0.000044  \n",
       "1              Binding (BAO_0002989)          0.999822              0.000539  \n",
       "2       Cell phenotype (BAO_0002542)          0.999995              0.000227  \n",
       "3     Protein activity (BAO_0013016)          0.999992              0.000010  \n",
       "4  Radioligand binding (BAO_0002776)          0.999999              0.000014  "
      ]
     },
     "execution_count": 12,
     "metadata": {},
     "output_type": "execute_result"
    }
   ],
   "source": [
    "predictions.head()"
   ]
  },
  {
   "cell_type": "code",
   "execution_count": 13,
   "id": "96282054-ca39-4338-b01f-f6a0e95d48f9",
   "metadata": {},
   "outputs": [
    {
     "data": {
      "text/plain": [
       "0          in vivo method (BAO_0040021)\n",
       "1                 Binding (BAO_0002989)\n",
       "2          Cell phenotype (BAO_0002542)\n",
       "3        Protein activity (BAO_0013016)\n",
       "4     Radioligand binding (BAO_0002776)\n",
       "11               Antimicrobial activity\n",
       "27                 Nucleic acid binding\n",
       "Name: predicted_cat, dtype: object"
      ]
     },
     "execution_count": 13,
     "metadata": {},
     "output_type": "execute_result"
    }
   ],
   "source": [
    "predictions['predicted_cat'].drop_duplicates()"
   ]
  },
  {
   "cell_type": "code",
   "execution_count": 14,
   "id": "bbabdeda-6e80-46e6-8797-3392617493fd",
   "metadata": {},
   "outputs": [],
   "source": [
    "replacement_dict = {\n",
    "    'Radioligand binding': 'Radioligand binding (BAO_0002776)'\n",
    "    , 'Protein activity': 'Protein activity (BAO_0013016)'\n",
    "    , 'Binding': 'Binding (BAO_0002989)'\n",
    "    , 'in vivo method': 'in vivo method (BAO_0040021)'\n",
    "    , 'Cell phenotype': 'Cell phenotype (BAO_0002542)'\n",
    "}"
   ]
  },
  {
   "cell_type": "code",
   "execution_count": 15,
   "id": "adb055b5-0768-4f74-98d8-db5afb5ccea9",
   "metadata": {},
   "outputs": [],
   "source": [
    "def replace_names(x):\n",
    "    try:\n",
    "        new_value = replacement_dict[x]\n",
    "        return new_value\n",
    "    except KeyError:\n",
    "        return x\n",
    "        "
   ]
  },
  {
   "cell_type": "code",
   "execution_count": 16,
   "id": "5273f6f5-005f-4a07-b894-328765a15d5b",
   "metadata": {},
   "outputs": [],
   "source": [
    "combined_manual['manual_cat'] = combined_manual['broad'].apply(lambda x: replace_names(x))"
   ]
  },
  {
   "cell_type": "code",
   "execution_count": 17,
   "id": "ef21e7b2-f5a3-4d4b-b4d6-cc8ee469d8a6",
   "metadata": {},
   "outputs": [
    {
     "data": {
      "text/html": [
       "<div>\n",
       "<style scoped>\n",
       "    .dataframe tbody tr th:only-of-type {\n",
       "        vertical-align: middle;\n",
       "    }\n",
       "\n",
       "    .dataframe tbody tr th {\n",
       "        vertical-align: top;\n",
       "    }\n",
       "\n",
       "    .dataframe thead th {\n",
       "        text-align: right;\n",
       "    }\n",
       "</style>\n",
       "<table border=\"1\" class=\"dataframe\">\n",
       "  <thead>\n",
       "    <tr style=\"text-align: right;\">\n",
       "      <th></th>\n",
       "      <th>broad</th>\n",
       "      <th>manual_cat</th>\n",
       "    </tr>\n",
       "  </thead>\n",
       "  <tbody>\n",
       "    <tr>\n",
       "      <th>0</th>\n",
       "      <td>Protein activity</td>\n",
       "      <td>Protein activity (BAO_0013016)</td>\n",
       "    </tr>\n",
       "    <tr>\n",
       "      <th>1</th>\n",
       "      <td>Binding</td>\n",
       "      <td>Binding (BAO_0002989)</td>\n",
       "    </tr>\n",
       "    <tr>\n",
       "      <th>9</th>\n",
       "      <td>Radioligand binding</td>\n",
       "      <td>Radioligand binding (BAO_0002776)</td>\n",
       "    </tr>\n",
       "    <tr>\n",
       "      <th>18</th>\n",
       "      <td>Other</td>\n",
       "      <td>Other</td>\n",
       "    </tr>\n",
       "    <tr>\n",
       "      <th>35</th>\n",
       "      <td>Antimicrobial activity</td>\n",
       "      <td>Antimicrobial activity</td>\n",
       "    </tr>\n",
       "    <tr>\n",
       "      <th>38</th>\n",
       "      <td>Cell phenotype</td>\n",
       "      <td>Cell phenotype (BAO_0002542)</td>\n",
       "    </tr>\n",
       "    <tr>\n",
       "      <th>39</th>\n",
       "      <td>in vivo method</td>\n",
       "      <td>in vivo method (BAO_0040021)</td>\n",
       "    </tr>\n",
       "  </tbody>\n",
       "</table>\n",
       "</div>"
      ],
      "text/plain": [
       "                     broad                         manual_cat\n",
       "0         Protein activity     Protein activity (BAO_0013016)\n",
       "1                  Binding              Binding (BAO_0002989)\n",
       "9      Radioligand binding  Radioligand binding (BAO_0002776)\n",
       "18                   Other                              Other\n",
       "35  Antimicrobial activity             Antimicrobial activity\n",
       "38          Cell phenotype       Cell phenotype (BAO_0002542)\n",
       "39          in vivo method       in vivo method (BAO_0040021)"
      ]
     },
     "execution_count": 17,
     "metadata": {},
     "output_type": "execute_result"
    }
   ],
   "source": [
    "combined_manual[['broad', 'manual_cat']].drop_duplicates()"
   ]
  },
  {
   "cell_type": "code",
   "execution_count": 18,
   "id": "397faed5-d706-40bc-b40e-39235f74d4ed",
   "metadata": {},
   "outputs": [],
   "source": [
    "def determine_second_category(row):\n",
    "    cats = ['Radioligand binding (BAO_0002776)', 'Binding (BAO_0002989)',\n",
    "       'Protein activity (BAO_0013016)', 'in vivo method (BAO_0040021)',\n",
    "       'Cell phenotype (BAO_0002542)', 'Nucleic acid binding',\n",
    "       'Antimicrobial activity']\n",
    "    values = row[cats]\n",
    "    for number, value in enumerate(values):\n",
    "        if row['second_largest_score'] == value:\n",
    "            return cats[number]"
   ]
  },
  {
   "cell_type": "code",
   "execution_count": 19,
   "id": "513f1b53-ec33-4409-8ae8-0bdb8b15ae5b",
   "metadata": {},
   "outputs": [],
   "source": [
    "predictions['second_predicted_cat'] = predictions.apply(determine_second_category, axis=1)"
   ]
  },
  {
   "cell_type": "code",
   "execution_count": 20,
   "id": "5cb2830b-8284-4804-85e7-8b430f69bb8a",
   "metadata": {},
   "outputs": [
    {
     "data": {
      "text/html": [
       "<div>\n",
       "<style scoped>\n",
       "    .dataframe tbody tr th:only-of-type {\n",
       "        vertical-align: middle;\n",
       "    }\n",
       "\n",
       "    .dataframe tbody tr th {\n",
       "        vertical-align: top;\n",
       "    }\n",
       "\n",
       "    .dataframe thead th {\n",
       "        text-align: right;\n",
       "    }\n",
       "</style>\n",
       "<table border=\"1\" class=\"dataframe\">\n",
       "  <thead>\n",
       "    <tr style=\"text-align: right;\">\n",
       "      <th></th>\n",
       "      <th>assay_id</th>\n",
       "      <th>year</th>\n",
       "      <th>description</th>\n",
       "      <th>assay_type</th>\n",
       "      <th>Radioligand binding (BAO_0002776)</th>\n",
       "      <th>Binding (BAO_0002989)</th>\n",
       "      <th>Protein activity (BAO_0013016)</th>\n",
       "      <th>in vivo method (BAO_0040021)</th>\n",
       "      <th>Cell phenotype (BAO_0002542)</th>\n",
       "      <th>Nucleic acid binding</th>\n",
       "      <th>Antimicrobial activity</th>\n",
       "      <th>predicted_cat</th>\n",
       "      <th>prediction_score</th>\n",
       "      <th>second_largest_score</th>\n",
       "      <th>second_predicted_cat</th>\n",
       "    </tr>\n",
       "  </thead>\n",
       "  <tbody>\n",
       "    <tr>\n",
       "      <th>0</th>\n",
       "      <td>456385</td>\n",
       "      <td>2007.0</td>\n",
       "      <td>Ex vivo anticoagulant potency in rat plasma as...</td>\n",
       "      <td>F</td>\n",
       "      <td>0.000044</td>\n",
       "      <td>1.687743e-05</td>\n",
       "      <td>5.459509e-07</td>\n",
       "      <td>1.000000</td>\n",
       "      <td>0.000004</td>\n",
       "      <td>4.804565e-07</td>\n",
       "      <td>7.503688e-07</td>\n",
       "      <td>in vivo method (BAO_0040021)</td>\n",
       "      <td>1.000000</td>\n",
       "      <td>0.000044</td>\n",
       "      <td>Radioligand binding (BAO_0002776)</td>\n",
       "    </tr>\n",
       "    <tr>\n",
       "      <th>1</th>\n",
       "      <td>2157929</td>\n",
       "      <td>2021.0</td>\n",
       "      <td>Binding affinity to NanoLuc human A1 adenosine...</td>\n",
       "      <td>B</td>\n",
       "      <td>0.000539</td>\n",
       "      <td>9.998216e-01</td>\n",
       "      <td>5.657545e-06</td>\n",
       "      <td>0.000027</td>\n",
       "      <td>0.000099</td>\n",
       "      <td>4.513950e-05</td>\n",
       "      <td>2.979177e-05</td>\n",
       "      <td>Binding (BAO_0002989)</td>\n",
       "      <td>0.999822</td>\n",
       "      <td>0.000539</td>\n",
       "      <td>Radioligand binding (BAO_0002776)</td>\n",
       "    </tr>\n",
       "    <tr>\n",
       "      <th>2</th>\n",
       "      <td>1907545</td>\n",
       "      <td>2019.0</td>\n",
       "      <td>Growth inhibition of human MOLT4 cells incubat...</td>\n",
       "      <td>F</td>\n",
       "      <td>0.000056</td>\n",
       "      <td>2.949883e-05</td>\n",
       "      <td>3.026868e-06</td>\n",
       "      <td>0.000037</td>\n",
       "      <td>0.999995</td>\n",
       "      <td>4.579080e-05</td>\n",
       "      <td>2.272898e-04</td>\n",
       "      <td>Cell phenotype (BAO_0002542)</td>\n",
       "      <td>0.999995</td>\n",
       "      <td>0.000227</td>\n",
       "      <td>Antimicrobial activity</td>\n",
       "    </tr>\n",
       "    <tr>\n",
       "      <th>3</th>\n",
       "      <td>2265211</td>\n",
       "      <td>2022.0</td>\n",
       "      <td>Antagonist activity at human P2Y6R expressed i...</td>\n",
       "      <td>B</td>\n",
       "      <td>0.000005</td>\n",
       "      <td>3.201314e-06</td>\n",
       "      <td>9.999920e-01</td>\n",
       "      <td>0.000004</td>\n",
       "      <td>0.000010</td>\n",
       "      <td>4.184967e-06</td>\n",
       "      <td>2.981297e-06</td>\n",
       "      <td>Protein activity (BAO_0013016)</td>\n",
       "      <td>0.999992</td>\n",
       "      <td>0.000010</td>\n",
       "      <td>Cell phenotype (BAO_0002542)</td>\n",
       "    </tr>\n",
       "    <tr>\n",
       "      <th>4</th>\n",
       "      <td>1614150</td>\n",
       "      <td>2016.0</td>\n",
       "      <td>Displacement of [125I]-p-iodoclonidine from I1...</td>\n",
       "      <td>B</td>\n",
       "      <td>0.999999</td>\n",
       "      <td>9.383160e-07</td>\n",
       "      <td>6.163500e-06</td>\n",
       "      <td>0.000014</td>\n",
       "      <td>0.000009</td>\n",
       "      <td>1.372803e-05</td>\n",
       "      <td>6.848240e-07</td>\n",
       "      <td>Radioligand binding (BAO_0002776)</td>\n",
       "      <td>0.999999</td>\n",
       "      <td>0.000014</td>\n",
       "      <td>in vivo method (BAO_0040021)</td>\n",
       "    </tr>\n",
       "  </tbody>\n",
       "</table>\n",
       "</div>"
      ],
      "text/plain": [
       "   assay_id    year                                        description  \\\n",
       "0    456385  2007.0  Ex vivo anticoagulant potency in rat plasma as...   \n",
       "1   2157929  2021.0  Binding affinity to NanoLuc human A1 adenosine...   \n",
       "2   1907545  2019.0  Growth inhibition of human MOLT4 cells incubat...   \n",
       "3   2265211  2022.0  Antagonist activity at human P2Y6R expressed i...   \n",
       "4   1614150  2016.0  Displacement of [125I]-p-iodoclonidine from I1...   \n",
       "\n",
       "  assay_type  Radioligand binding (BAO_0002776)  Binding (BAO_0002989)  \\\n",
       "0          F                           0.000044           1.687743e-05   \n",
       "1          B                           0.000539           9.998216e-01   \n",
       "2          F                           0.000056           2.949883e-05   \n",
       "3          B                           0.000005           3.201314e-06   \n",
       "4          B                           0.999999           9.383160e-07   \n",
       "\n",
       "   Protein activity (BAO_0013016)  in vivo method (BAO_0040021)  \\\n",
       "0                    5.459509e-07                      1.000000   \n",
       "1                    5.657545e-06                      0.000027   \n",
       "2                    3.026868e-06                      0.000037   \n",
       "3                    9.999920e-01                      0.000004   \n",
       "4                    6.163500e-06                      0.000014   \n",
       "\n",
       "   Cell phenotype (BAO_0002542)  Nucleic acid binding  Antimicrobial activity  \\\n",
       "0                      0.000004          4.804565e-07            7.503688e-07   \n",
       "1                      0.000099          4.513950e-05            2.979177e-05   \n",
       "2                      0.999995          4.579080e-05            2.272898e-04   \n",
       "3                      0.000010          4.184967e-06            2.981297e-06   \n",
       "4                      0.000009          1.372803e-05            6.848240e-07   \n",
       "\n",
       "                       predicted_cat  prediction_score  second_largest_score  \\\n",
       "0       in vivo method (BAO_0040021)          1.000000              0.000044   \n",
       "1              Binding (BAO_0002989)          0.999822              0.000539   \n",
       "2       Cell phenotype (BAO_0002542)          0.999995              0.000227   \n",
       "3     Protein activity (BAO_0013016)          0.999992              0.000010   \n",
       "4  Radioligand binding (BAO_0002776)          0.999999              0.000014   \n",
       "\n",
       "                second_predicted_cat  \n",
       "0  Radioligand binding (BAO_0002776)  \n",
       "1  Radioligand binding (BAO_0002776)  \n",
       "2             Antimicrobial activity  \n",
       "3       Cell phenotype (BAO_0002542)  \n",
       "4       in vivo method (BAO_0040021)  "
      ]
     },
     "execution_count": 20,
     "metadata": {},
     "output_type": "execute_result"
    }
   ],
   "source": [
    "predictions.head()"
   ]
  },
  {
   "cell_type": "code",
   "execution_count": 21,
   "id": "3be6b460-9fa4-4e31-8557-cb18c8420399",
   "metadata": {},
   "outputs": [],
   "source": [
    "merged_df = combined_manual.merge(predictions, on=['assay_id', 'description', 'assay_type'])"
   ]
  },
  {
   "cell_type": "code",
   "execution_count": 22,
   "id": "1788f54e-0296-442a-9ed1-59ee67209493",
   "metadata": {},
   "outputs": [
    {
     "data": {
      "text/plain": [
       "200"
      ]
     },
     "execution_count": 22,
     "metadata": {},
     "output_type": "execute_result"
    }
   ],
   "source": [
    "len(merged_df)"
   ]
  },
  {
   "cell_type": "code",
   "execution_count": 23,
   "id": "ec5e52ef-12a6-4d07-9084-6d4d51ee39e1",
   "metadata": {},
   "outputs": [],
   "source": [
    "merged_df.drop(labels=['broad','Radioligand binding (BAO_0002776)', 'Binding (BAO_0002989)',\n",
    "       'Protein activity (BAO_0013016)', 'in vivo method (BAO_0040021)',\n",
    "       'Cell phenotype (BAO_0002542)', 'Nucleic acid binding',\n",
    "       'Antimicrobial activity'], axis='columns', inplace=True)"
   ]
  },
  {
   "cell_type": "code",
   "execution_count": 24,
   "id": "72c8096f-17f9-49fd-87bf-e4a041a0f033",
   "metadata": {},
   "outputs": [],
   "source": [
    "merged_df.sort_values(by='prediction_score', ascending=False, inplace=True)"
   ]
  },
  {
   "cell_type": "code",
   "execution_count": 25,
   "id": "f20618f9-8344-4c1e-b2c6-002876687ed9",
   "metadata": {
    "scrolled": true
   },
   "outputs": [
    {
     "data": {
      "text/html": [
       "<div>\n",
       "<style scoped>\n",
       "    .dataframe tbody tr th:only-of-type {\n",
       "        vertical-align: middle;\n",
       "    }\n",
       "\n",
       "    .dataframe tbody tr th {\n",
       "        vertical-align: top;\n",
       "    }\n",
       "\n",
       "    .dataframe thead th {\n",
       "        text-align: right;\n",
       "    }\n",
       "</style>\n",
       "<table border=\"1\" class=\"dataframe\">\n",
       "  <thead>\n",
       "    <tr style=\"text-align: right;\">\n",
       "      <th></th>\n",
       "      <th>assay_id</th>\n",
       "      <th>assay_type</th>\n",
       "      <th>description</th>\n",
       "      <th>manual_cat</th>\n",
       "      <th>year</th>\n",
       "      <th>predicted_cat</th>\n",
       "      <th>prediction_score</th>\n",
       "      <th>second_largest_score</th>\n",
       "      <th>second_predicted_cat</th>\n",
       "    </tr>\n",
       "  </thead>\n",
       "  <tbody>\n",
       "    <tr>\n",
       "      <th>90</th>\n",
       "      <td>2148298</td>\n",
       "      <td>F</td>\n",
       "      <td>Antiosteoporotic activity against OVX-induced ...</td>\n",
       "      <td>in vivo method (BAO_0040021)</td>\n",
       "      <td>2021.0</td>\n",
       "      <td>in vivo method (BAO_0040021)</td>\n",
       "      <td>1.0</td>\n",
       "      <td>0.000047</td>\n",
       "      <td>Radioligand binding (BAO_0002776)</td>\n",
       "    </tr>\n",
       "    <tr>\n",
       "      <th>160</th>\n",
       "      <td>1515666</td>\n",
       "      <td>F</td>\n",
       "      <td>Induction of diuresis in mongrel dog at 3 mg/k...</td>\n",
       "      <td>in vivo method (BAO_0040021)</td>\n",
       "      <td>2015.0</td>\n",
       "      <td>in vivo method (BAO_0040021)</td>\n",
       "      <td>1.0</td>\n",
       "      <td>0.000053</td>\n",
       "      <td>Radioligand binding (BAO_0002776)</td>\n",
       "    </tr>\n",
       "    <tr>\n",
       "      <th>54</th>\n",
       "      <td>913285</td>\n",
       "      <td>F</td>\n",
       "      <td>Antidiabetic activity in Rattus norvegicus Wis...</td>\n",
       "      <td>in vivo method (BAO_0040021)</td>\n",
       "      <td>2011.0</td>\n",
       "      <td>in vivo method (BAO_0040021)</td>\n",
       "      <td>1.0</td>\n",
       "      <td>0.000036</td>\n",
       "      <td>Radioligand binding (BAO_0002776)</td>\n",
       "    </tr>\n",
       "    <tr>\n",
       "      <th>63</th>\n",
       "      <td>456385</td>\n",
       "      <td>F</td>\n",
       "      <td>Ex vivo anticoagulant potency in rat plasma as...</td>\n",
       "      <td>Protein activity (BAO_0013016)</td>\n",
       "      <td>2007.0</td>\n",
       "      <td>in vivo method (BAO_0040021)</td>\n",
       "      <td>1.0</td>\n",
       "      <td>0.000044</td>\n",
       "      <td>Radioligand binding (BAO_0002776)</td>\n",
       "    </tr>\n",
       "    <tr>\n",
       "      <th>144</th>\n",
       "      <td>1839283</td>\n",
       "      <td>F</td>\n",
       "      <td>Antibacterial activity against Acinetobacter b...</td>\n",
       "      <td>Antimicrobial activity</td>\n",
       "      <td>2019.0</td>\n",
       "      <td>Antimicrobial activity</td>\n",
       "      <td>1.0</td>\n",
       "      <td>0.000007</td>\n",
       "      <td>in vivo method (BAO_0040021)</td>\n",
       "    </tr>\n",
       "  </tbody>\n",
       "</table>\n",
       "</div>"
      ],
      "text/plain": [
       "     assay_id assay_type                                        description  \\\n",
       "90    2148298          F  Antiosteoporotic activity against OVX-induced ...   \n",
       "160   1515666          F  Induction of diuresis in mongrel dog at 3 mg/k...   \n",
       "54     913285          F  Antidiabetic activity in Rattus norvegicus Wis...   \n",
       "63     456385          F  Ex vivo anticoagulant potency in rat plasma as...   \n",
       "144   1839283          F  Antibacterial activity against Acinetobacter b...   \n",
       "\n",
       "                         manual_cat    year                 predicted_cat  \\\n",
       "90     in vivo method (BAO_0040021)  2021.0  in vivo method (BAO_0040021)   \n",
       "160    in vivo method (BAO_0040021)  2015.0  in vivo method (BAO_0040021)   \n",
       "54     in vivo method (BAO_0040021)  2011.0  in vivo method (BAO_0040021)   \n",
       "63   Protein activity (BAO_0013016)  2007.0  in vivo method (BAO_0040021)   \n",
       "144          Antimicrobial activity  2019.0        Antimicrobial activity   \n",
       "\n",
       "     prediction_score  second_largest_score               second_predicted_cat  \n",
       "90                1.0              0.000047  Radioligand binding (BAO_0002776)  \n",
       "160               1.0              0.000053  Radioligand binding (BAO_0002776)  \n",
       "54                1.0              0.000036  Radioligand binding (BAO_0002776)  \n",
       "63                1.0              0.000044  Radioligand binding (BAO_0002776)  \n",
       "144               1.0              0.000007       in vivo method (BAO_0040021)  "
      ]
     },
     "execution_count": 25,
     "metadata": {},
     "output_type": "execute_result"
    }
   ],
   "source": [
    "merged_df.head()"
   ]
  },
  {
   "cell_type": "code",
   "execution_count": 26,
   "id": "933b6051-4455-4e4c-b8a0-a8e4235d5178",
   "metadata": {},
   "outputs": [
    {
     "data": {
      "text/html": [
       "<div>\n",
       "<style scoped>\n",
       "    .dataframe tbody tr th:only-of-type {\n",
       "        vertical-align: middle;\n",
       "    }\n",
       "\n",
       "    .dataframe tbody tr th {\n",
       "        vertical-align: top;\n",
       "    }\n",
       "\n",
       "    .dataframe thead th {\n",
       "        text-align: right;\n",
       "    }\n",
       "</style>\n",
       "<table border=\"1\" class=\"dataframe\">\n",
       "  <thead>\n",
       "    <tr style=\"text-align: right;\">\n",
       "      <th></th>\n",
       "      <th>assay_id</th>\n",
       "      <th>assay_type</th>\n",
       "      <th>description</th>\n",
       "      <th>manual_cat</th>\n",
       "      <th>year</th>\n",
       "      <th>predicted_cat</th>\n",
       "      <th>prediction_score</th>\n",
       "      <th>second_largest_score</th>\n",
       "      <th>second_predicted_cat</th>\n",
       "    </tr>\n",
       "  </thead>\n",
       "  <tbody>\n",
       "    <tr>\n",
       "      <th>131</th>\n",
       "      <td>105834</td>\n",
       "      <td>B</td>\n",
       "      <td>In vitro inhibitory concentration against huma...</td>\n",
       "      <td>Protein activity (BAO_0013016)</td>\n",
       "      <td>2003.0</td>\n",
       "      <td>Protein activity (BAO_0013016)</td>\n",
       "      <td>0.081626</td>\n",
       "      <td>0.030992</td>\n",
       "      <td>Cell phenotype (BAO_0002542)</td>\n",
       "    </tr>\n",
       "    <tr>\n",
       "      <th>110</th>\n",
       "      <td>2148810</td>\n",
       "      <td>B</td>\n",
       "      <td>Stabilization of human plasma TTR assessed as ...</td>\n",
       "      <td>Other</td>\n",
       "      <td>2021.0</td>\n",
       "      <td>Nucleic acid binding</td>\n",
       "      <td>0.081064</td>\n",
       "      <td>0.065778</td>\n",
       "      <td>Protein activity (BAO_0013016)</td>\n",
       "    </tr>\n",
       "    <tr>\n",
       "      <th>135</th>\n",
       "      <td>542049</td>\n",
       "      <td>F</td>\n",
       "      <td>Ex vivo inhibition of intracellular interferon...</td>\n",
       "      <td>Other</td>\n",
       "      <td>2003.0</td>\n",
       "      <td>Protein activity (BAO_0013016)</td>\n",
       "      <td>0.028727</td>\n",
       "      <td>0.002884</td>\n",
       "      <td>in vivo method (BAO_0040021)</td>\n",
       "    </tr>\n",
       "    <tr>\n",
       "      <th>97</th>\n",
       "      <td>2275052</td>\n",
       "      <td>F</td>\n",
       "      <td>Antioxidant activity assessed as DPPH radical ...</td>\n",
       "      <td>Other</td>\n",
       "      <td>2020.0</td>\n",
       "      <td>Protein activity (BAO_0013016)</td>\n",
       "      <td>0.024111</td>\n",
       "      <td>0.017978</td>\n",
       "      <td>in vivo method (BAO_0040021)</td>\n",
       "    </tr>\n",
       "    <tr>\n",
       "      <th>3</th>\n",
       "      <td>46520</td>\n",
       "      <td>B</td>\n",
       "      <td>Inhibitory concentration of compound required ...</td>\n",
       "      <td>Protein activity (BAO_0013016)</td>\n",
       "      <td>2002.0</td>\n",
       "      <td>Protein activity (BAO_0013016)</td>\n",
       "      <td>0.020367</td>\n",
       "      <td>0.019019</td>\n",
       "      <td>Antimicrobial activity</td>\n",
       "    </tr>\n",
       "  </tbody>\n",
       "</table>\n",
       "</div>"
      ],
      "text/plain": [
       "     assay_id assay_type                                        description  \\\n",
       "131    105834          B  In vitro inhibitory concentration against huma...   \n",
       "110   2148810          B  Stabilization of human plasma TTR assessed as ...   \n",
       "135    542049          F  Ex vivo inhibition of intracellular interferon...   \n",
       "97    2275052          F  Antioxidant activity assessed as DPPH radical ...   \n",
       "3       46520          B  Inhibitory concentration of compound required ...   \n",
       "\n",
       "                         manual_cat    year                   predicted_cat  \\\n",
       "131  Protein activity (BAO_0013016)  2003.0  Protein activity (BAO_0013016)   \n",
       "110                           Other  2021.0            Nucleic acid binding   \n",
       "135                           Other  2003.0  Protein activity (BAO_0013016)   \n",
       "97                            Other  2020.0  Protein activity (BAO_0013016)   \n",
       "3    Protein activity (BAO_0013016)  2002.0  Protein activity (BAO_0013016)   \n",
       "\n",
       "     prediction_score  second_largest_score            second_predicted_cat  \n",
       "131          0.081626              0.030992    Cell phenotype (BAO_0002542)  \n",
       "110          0.081064              0.065778  Protein activity (BAO_0013016)  \n",
       "135          0.028727              0.002884    in vivo method (BAO_0040021)  \n",
       "97           0.024111              0.017978    in vivo method (BAO_0040021)  \n",
       "3            0.020367              0.019019          Antimicrobial activity  "
      ]
     },
     "execution_count": 26,
     "metadata": {},
     "output_type": "execute_result"
    }
   ],
   "source": [
    "merged_df.tail()"
   ]
  },
  {
   "cell_type": "code",
   "execution_count": 27,
   "id": "6ed495ef-75e8-479d-acd7-6f37633a7365",
   "metadata": {},
   "outputs": [],
   "source": [
    "def determine_agreement(row):\n",
    "    if row['manual_cat'] == row['predicted_cat']:\n",
    "        return True\n",
    "    else:\n",
    "        return False"
   ]
  },
  {
   "cell_type": "code",
   "execution_count": 28,
   "id": "af368337-ee8a-47c0-8392-3bcd8987c5e3",
   "metadata": {},
   "outputs": [],
   "source": [
    "merged_df['agreement_manual_predicted'] = merged_df.apply(determine_agreement, axis=1)"
   ]
  },
  {
   "cell_type": "code",
   "execution_count": 29,
   "id": "e40c090d-bf29-4dd5-b714-b3b4bd4b7afa",
   "metadata": {},
   "outputs": [
    {
     "data": {
      "text/html": [
       "<div>\n",
       "<style scoped>\n",
       "    .dataframe tbody tr th:only-of-type {\n",
       "        vertical-align: middle;\n",
       "    }\n",
       "\n",
       "    .dataframe tbody tr th {\n",
       "        vertical-align: top;\n",
       "    }\n",
       "\n",
       "    .dataframe thead th {\n",
       "        text-align: right;\n",
       "    }\n",
       "</style>\n",
       "<table border=\"1\" class=\"dataframe\">\n",
       "  <thead>\n",
       "    <tr style=\"text-align: right;\">\n",
       "      <th></th>\n",
       "      <th>assay_id</th>\n",
       "      <th>assay_type</th>\n",
       "      <th>description</th>\n",
       "      <th>manual_cat</th>\n",
       "      <th>year</th>\n",
       "      <th>predicted_cat</th>\n",
       "      <th>prediction_score</th>\n",
       "      <th>second_largest_score</th>\n",
       "      <th>second_predicted_cat</th>\n",
       "      <th>agreement_manual_predicted</th>\n",
       "    </tr>\n",
       "  </thead>\n",
       "  <tbody>\n",
       "    <tr>\n",
       "      <th>90</th>\n",
       "      <td>2148298</td>\n",
       "      <td>F</td>\n",
       "      <td>Antiosteoporotic activity against OVX-induced ...</td>\n",
       "      <td>in vivo method (BAO_0040021)</td>\n",
       "      <td>2021.0</td>\n",
       "      <td>in vivo method (BAO_0040021)</td>\n",
       "      <td>1.0</td>\n",
       "      <td>0.000047</td>\n",
       "      <td>Radioligand binding (BAO_0002776)</td>\n",
       "      <td>True</td>\n",
       "    </tr>\n",
       "    <tr>\n",
       "      <th>160</th>\n",
       "      <td>1515666</td>\n",
       "      <td>F</td>\n",
       "      <td>Induction of diuresis in mongrel dog at 3 mg/k...</td>\n",
       "      <td>in vivo method (BAO_0040021)</td>\n",
       "      <td>2015.0</td>\n",
       "      <td>in vivo method (BAO_0040021)</td>\n",
       "      <td>1.0</td>\n",
       "      <td>0.000053</td>\n",
       "      <td>Radioligand binding (BAO_0002776)</td>\n",
       "      <td>True</td>\n",
       "    </tr>\n",
       "    <tr>\n",
       "      <th>54</th>\n",
       "      <td>913285</td>\n",
       "      <td>F</td>\n",
       "      <td>Antidiabetic activity in Rattus norvegicus Wis...</td>\n",
       "      <td>in vivo method (BAO_0040021)</td>\n",
       "      <td>2011.0</td>\n",
       "      <td>in vivo method (BAO_0040021)</td>\n",
       "      <td>1.0</td>\n",
       "      <td>0.000036</td>\n",
       "      <td>Radioligand binding (BAO_0002776)</td>\n",
       "      <td>True</td>\n",
       "    </tr>\n",
       "    <tr>\n",
       "      <th>63</th>\n",
       "      <td>456385</td>\n",
       "      <td>F</td>\n",
       "      <td>Ex vivo anticoagulant potency in rat plasma as...</td>\n",
       "      <td>Protein activity (BAO_0013016)</td>\n",
       "      <td>2007.0</td>\n",
       "      <td>in vivo method (BAO_0040021)</td>\n",
       "      <td>1.0</td>\n",
       "      <td>0.000044</td>\n",
       "      <td>Radioligand binding (BAO_0002776)</td>\n",
       "      <td>False</td>\n",
       "    </tr>\n",
       "    <tr>\n",
       "      <th>144</th>\n",
       "      <td>1839283</td>\n",
       "      <td>F</td>\n",
       "      <td>Antibacterial activity against Acinetobacter b...</td>\n",
       "      <td>Antimicrobial activity</td>\n",
       "      <td>2019.0</td>\n",
       "      <td>Antimicrobial activity</td>\n",
       "      <td>1.0</td>\n",
       "      <td>0.000007</td>\n",
       "      <td>in vivo method (BAO_0040021)</td>\n",
       "      <td>True</td>\n",
       "    </tr>\n",
       "  </tbody>\n",
       "</table>\n",
       "</div>"
      ],
      "text/plain": [
       "     assay_id assay_type                                        description  \\\n",
       "90    2148298          F  Antiosteoporotic activity against OVX-induced ...   \n",
       "160   1515666          F  Induction of diuresis in mongrel dog at 3 mg/k...   \n",
       "54     913285          F  Antidiabetic activity in Rattus norvegicus Wis...   \n",
       "63     456385          F  Ex vivo anticoagulant potency in rat plasma as...   \n",
       "144   1839283          F  Antibacterial activity against Acinetobacter b...   \n",
       "\n",
       "                         manual_cat    year                 predicted_cat  \\\n",
       "90     in vivo method (BAO_0040021)  2021.0  in vivo method (BAO_0040021)   \n",
       "160    in vivo method (BAO_0040021)  2015.0  in vivo method (BAO_0040021)   \n",
       "54     in vivo method (BAO_0040021)  2011.0  in vivo method (BAO_0040021)   \n",
       "63   Protein activity (BAO_0013016)  2007.0  in vivo method (BAO_0040021)   \n",
       "144          Antimicrobial activity  2019.0        Antimicrobial activity   \n",
       "\n",
       "     prediction_score  second_largest_score  \\\n",
       "90                1.0              0.000047   \n",
       "160               1.0              0.000053   \n",
       "54                1.0              0.000036   \n",
       "63                1.0              0.000044   \n",
       "144               1.0              0.000007   \n",
       "\n",
       "                  second_predicted_cat  agreement_manual_predicted  \n",
       "90   Radioligand binding (BAO_0002776)                        True  \n",
       "160  Radioligand binding (BAO_0002776)                        True  \n",
       "54   Radioligand binding (BAO_0002776)                        True  \n",
       "63   Radioligand binding (BAO_0002776)                       False  \n",
       "144       in vivo method (BAO_0040021)                        True  "
      ]
     },
     "execution_count": 29,
     "metadata": {},
     "output_type": "execute_result"
    }
   ],
   "source": [
    "merged_df.head()"
   ]
  },
  {
   "cell_type": "code",
   "execution_count": 30,
   "id": "fdd20494-d47f-4e5e-9ef6-509f314d9436",
   "metadata": {},
   "outputs": [
    {
     "data": {
      "text/plain": [
       "count    200.000000\n",
       "mean       0.913532\n",
       "std        0.224362\n",
       "min        0.020367\n",
       "25%        0.991243\n",
       "50%        0.999982\n",
       "75%        0.999997\n",
       "max        1.000000\n",
       "Name: prediction_score, dtype: float64"
      ]
     },
     "execution_count": 30,
     "metadata": {},
     "output_type": "execute_result"
    }
   ],
   "source": [
    "merged_df['prediction_score'].describe()"
   ]
  },
  {
   "cell_type": "code",
   "execution_count": 31,
   "id": "1ee17944-b848-454c-85a4-2494237ab628",
   "metadata": {},
   "outputs": [],
   "source": [
    "thresholds = [(0.01, 0.4), (0.4, 0.7),(0.7, 0.9), (0.9, 1)]\n",
    "accuracies = []\n",
    "lengths = []\n",
    "for threshold in thresholds:\n",
    "    temp_df = merged_df.loc[(merged_df['prediction_score']>threshold[0])&(merged_df['prediction_score']<=threshold[1])]\n",
    "    lengths.append(len(temp_df))\n",
    "    correct = temp_df.loc[temp_df['manual_cat']==temp_df['predicted_cat']]\n",
    "    incorrect = temp_df.loc[temp_df['manual_cat']!=temp_df['predicted_cat']]\n",
    "    accuracy = len(correct)/len(temp_df)*100\n",
    "    accuracies.append(accuracy)"
   ]
  },
  {
   "cell_type": "code",
   "execution_count": null,
   "id": "add1cdd1-7009-4926-b855-9f3e1421b8a4",
   "metadata": {},
   "outputs": [],
   "source": []
  },
  {
   "cell_type": "code",
   "execution_count": 32,
   "id": "e5067725-4971-41a1-935a-cd92568948e7",
   "metadata": {},
   "outputs": [
    {
     "data": {
      "text/plain": [
       "[13, 8, 11, 168]"
      ]
     },
     "execution_count": 32,
     "metadata": {},
     "output_type": "execute_result"
    }
   ],
   "source": [
    "lengths"
   ]
  },
  {
   "cell_type": "code",
   "execution_count": 33,
   "id": "b0f0adc0-b829-4de8-9b23-3fafdb9b4f49",
   "metadata": {},
   "outputs": [],
   "source": [
    "frame = {'Threshold': [\"(0.01, 0.4]\", \"(0.4, 0.7]\", \"(0.7, 0.9]\", \"(0.9, 1]\"],\n",
    "         'Accuracy': accuracies}\n",
    "accuracy_data = pd.DataFrame(frame)"
   ]
  },
  {
   "cell_type": "code",
   "execution_count": 34,
   "id": "7a03f2a7-c5f0-47c7-bd4c-88a7d3ba2aa0",
   "metadata": {},
   "outputs": [
    {
     "data": {
      "text/html": [
       "<div>\n",
       "<style scoped>\n",
       "    .dataframe tbody tr th:only-of-type {\n",
       "        vertical-align: middle;\n",
       "    }\n",
       "\n",
       "    .dataframe tbody tr th {\n",
       "        vertical-align: top;\n",
       "    }\n",
       "\n",
       "    .dataframe thead th {\n",
       "        text-align: right;\n",
       "    }\n",
       "</style>\n",
       "<table border=\"1\" class=\"dataframe\">\n",
       "  <thead>\n",
       "    <tr style=\"text-align: right;\">\n",
       "      <th></th>\n",
       "      <th>Threshold</th>\n",
       "      <th>Accuracy</th>\n",
       "    </tr>\n",
       "  </thead>\n",
       "  <tbody>\n",
       "    <tr>\n",
       "      <th>0</th>\n",
       "      <td>(0.01, 0.4]</td>\n",
       "      <td>30.769231</td>\n",
       "    </tr>\n",
       "    <tr>\n",
       "      <th>1</th>\n",
       "      <td>(0.4, 0.7]</td>\n",
       "      <td>37.500000</td>\n",
       "    </tr>\n",
       "    <tr>\n",
       "      <th>2</th>\n",
       "      <td>(0.7, 0.9]</td>\n",
       "      <td>72.727273</td>\n",
       "    </tr>\n",
       "    <tr>\n",
       "      <th>3</th>\n",
       "      <td>(0.9, 1]</td>\n",
       "      <td>86.904762</td>\n",
       "    </tr>\n",
       "  </tbody>\n",
       "</table>\n",
       "</div>"
      ],
      "text/plain": [
       "     Threshold   Accuracy\n",
       "0  (0.01, 0.4]  30.769231\n",
       "1   (0.4, 0.7]  37.500000\n",
       "2   (0.7, 0.9]  72.727273\n",
       "3     (0.9, 1]  86.904762"
      ]
     },
     "execution_count": 34,
     "metadata": {},
     "output_type": "execute_result"
    }
   ],
   "source": [
    "accuracy_data"
   ]
  },
  {
   "cell_type": "code",
   "execution_count": 35,
   "id": "5f33e185-7814-4cfe-b686-ee9d8520e60b",
   "metadata": {},
   "outputs": [
    {
     "data": {
      "text/html": [
       "<div>\n",
       "<style scoped>\n",
       "    .dataframe tbody tr th:only-of-type {\n",
       "        vertical-align: middle;\n",
       "    }\n",
       "\n",
       "    .dataframe tbody tr th {\n",
       "        vertical-align: top;\n",
       "    }\n",
       "\n",
       "    .dataframe thead th {\n",
       "        text-align: right;\n",
       "    }\n",
       "</style>\n",
       "<table border=\"1\" class=\"dataframe\">\n",
       "  <thead>\n",
       "    <tr style=\"text-align: right;\">\n",
       "      <th></th>\n",
       "      <th>Threshold</th>\n",
       "      <th>Accuracy</th>\n",
       "    </tr>\n",
       "  </thead>\n",
       "  <tbody>\n",
       "    <tr>\n",
       "      <th>0</th>\n",
       "      <td>(0.01, 0.4]</td>\n",
       "      <td>30.8</td>\n",
       "    </tr>\n",
       "    <tr>\n",
       "      <th>1</th>\n",
       "      <td>(0.4, 0.7]</td>\n",
       "      <td>37.5</td>\n",
       "    </tr>\n",
       "    <tr>\n",
       "      <th>2</th>\n",
       "      <td>(0.7, 0.9]</td>\n",
       "      <td>72.7</td>\n",
       "    </tr>\n",
       "    <tr>\n",
       "      <th>3</th>\n",
       "      <td>(0.9, 1]</td>\n",
       "      <td>86.9</td>\n",
       "    </tr>\n",
       "  </tbody>\n",
       "</table>\n",
       "</div>"
      ],
      "text/plain": [
       "     Threshold  Accuracy\n",
       "0  (0.01, 0.4]      30.8\n",
       "1   (0.4, 0.7]      37.5\n",
       "2   (0.7, 0.9]      72.7\n",
       "3     (0.9, 1]      86.9"
      ]
     },
     "execution_count": 35,
     "metadata": {},
     "output_type": "execute_result"
    }
   ],
   "source": [
    "accuracy_data.round(1)"
   ]
  },
  {
   "cell_type": "code",
   "execution_count": 37,
   "id": "c18ef97f-bf8a-4252-9925-38734234b368",
   "metadata": {},
   "outputs": [],
   "source": [
    "accuracy_data.rename(columns={'Threshold': 'Prediction Score'}, inplace=True)"
   ]
  },
  {
   "cell_type": "code",
   "execution_count": 41,
   "id": "d9f47d83-4673-436f-9c47-6023dfb3195e",
   "metadata": {},
   "outputs": [
    {
     "data": {
      "image/png": "[encoded data removed]",
      "text/plain": [
       "<Figure size 400x400 with 1 Axes>"
      ]
     },
     "metadata": {},
     "output_type": "display_data"
    }
   ],
   "source": [
    "fig, ax = plt.subplots(figsize=(4, 4))\n",
    "splot = sns.barplot(data=accuracy_data.round(1), x='Prediction Score', y='Accuracy', color='#028ca1')\n",
    "for p, mylabel in zip(splot.patches, lengths):\n",
    "    splot.annotate(\"n={}\".format(mylabel), \n",
    "                   (p.get_x() + p.get_width() / 2., p.get_height()), \n",
    "                   ha = 'center', va = 'center', \n",
    "                   size=10, color='white',\n",
    "                   xytext = (0, -12), \n",
    "                   textcoords = 'offset points')\n",
    "for container in splot.containers:\n",
    "    splot.bar_label(container)\n",
    "fig.savefig(\"thresholds_validation_set.png\", bbox_inches = \"tight\")"
   ]
  },
  {
   "cell_type": "code",
   "execution_count": 135,
   "id": "01a0115e-8159-4cbd-b4fa-f3742725ef1b",
   "metadata": {},
   "outputs": [],
   "source": [
    "thresholds = [0.01, 0.05, 0.1, 0.2, 0.3, 0.5, 0.7, 0.8, 0.9, 0.95, 0.99]\n",
    "accuracies = []\n",
    "for threshold in thresholds:\n",
    "    temp_df = merged_df.loc[merged_df['prediction_score']>threshold]\n",
    "    correct = temp_df.loc[temp_df['manual_cat']==temp_df['predicted_cat']]\n",
    "    incorrect = temp_df.loc[temp_df['manual_cat']!=temp_df['predicted_cat']]\n",
    "    accuracy = len(correct)/len(temp_df)*100\n",
    "    accuracies.append(accuracy)"
   ]
  },
  {
   "cell_type": "code",
   "execution_count": 136,
   "id": "3e79c6b9-f551-4d44-8d7c-a1e0492cc7f1",
   "metadata": {},
   "outputs": [],
   "source": []
  },
  {
   "cell_type": "code",
   "execution_count": 139,
   "id": "656142d4-4483-484e-a7f8-d828701cd49d",
   "metadata": {},
   "outputs": [],
   "source": [
    "frame = {'Threshold': thresholds,\n",
    "         'Accuracy': accuracies}\n",
    "accuracy_data = pd.DataFrame(frame)"
   ]
  },
  {
   "cell_type": "code",
   "execution_count": 140,
   "id": "f6198833-ff98-4b58-9736-fb95f5a893e3",
   "metadata": {},
   "outputs": [
    {
     "data": {
      "text/plain": [
       "<Axes: xlabel='Threshold', ylabel='Accuracy'>"
      ]
     },
     "execution_count": 140,
     "metadata": {},
     "output_type": "execute_result"
    },
    {
     "data": {
      "image/png": "[encoded data removed]",
      "text/plain": [
       "<Figure size 640x480 with 1 Axes>"
      ]
     },
     "metadata": {},
     "output_type": "display_data"
    }
   ],
   "source": [
    "sns.scatterplot(data=accuracy_data, x='Threshold', y='Accuracy')"
   ]
  },
  {
   "cell_type": "code",
   "execution_count": 142,
   "id": "0a22ca6f-05ec-4dc7-87b0-151444bff608",
   "metadata": {},
   "outputs": [],
   "source": [
    "thresholds = [0.05, 0.1, 0.2, 0.3, 0.5, 0.7, 0.8, 0.9, 0.95, 0.99]\n",
    "fracs_incorrect = []\n",
    "for threshold in thresholds:\n",
    "    temp_df = merged_df.loc[merged_df['prediction_score']<threshold]\n",
    "    correct = temp_df.loc[temp_df['manual_cat']==temp_df['predicted_cat']]\n",
    "    incorrect = temp_df.loc[temp_df['manual_cat']!=temp_df['predicted_cat']]\n",
    "    frac_incorrect = len(incorrect)/len(temp_df)*100\n",
    "    fracs_incorrect.append(frac_incorrect)"
   ]
  },
  {
   "cell_type": "code",
   "execution_count": 143,
   "id": "66d1e6df-4cae-4ffd-9be9-9f81baeb8d37",
   "metadata": {},
   "outputs": [],
   "source": [
    "frame = {'Threshold': thresholds,\n",
    "         'Fraction incorrect': fracs_incorrect}\n",
    "inaccuracy_data = pd.DataFrame(frame)"
   ]
  },
  {
   "cell_type": "code",
   "execution_count": 144,
   "id": "8c59d249-e5b3-4648-9bc5-9cb9bf035a80",
   "metadata": {},
   "outputs": [
    {
     "data": {
      "text/plain": [
       "<Axes: xlabel='Threshold', ylabel='Fraction incorrect'>"
      ]
     },
     "execution_count": 144,
     "metadata": {},
     "output_type": "execute_result"
    },
    {
     "data": {
      "image/png": "[encoded data removed]",
      "text/plain": [
       "<Figure size 640x480 with 1 Axes>"
      ]
     },
     "metadata": {},
     "output_type": "display_data"
    }
   ],
   "source": [
    "sns.scatterplot(data=inaccuracy_data, x='Threshold', y='Fraction incorrect')"
   ]
  },
  {
   "cell_type": "code",
   "execution_count": null,
   "id": "25f4323c-08df-424f-96a8-b548865cb1a8",
   "metadata": {},
   "outputs": [],
   "source": []
  },
  {
   "cell_type": "code",
   "execution_count": null,
   "id": "2f825f38-d188-4790-a549-ae5450eae11c",
   "metadata": {},
   "outputs": [],
   "source": []
  },
  {
   "cell_type": "code",
   "execution_count": 106,
   "id": "8c328773-ca63-4117-ae07-b72949725414",
   "metadata": {},
   "outputs": [
    {
     "data": {
      "text/plain": [
       "179"
      ]
     },
     "execution_count": 106,
     "metadata": {},
     "output_type": "execute_result"
    }
   ],
   "source": [
    "len(high_conf)"
   ]
  },
  {
   "cell_type": "code",
   "execution_count": 107,
   "id": "d7973daf-b329-49e2-8e92-5472cc56016d",
   "metadata": {},
   "outputs": [],
   "source": [
    "high_conf = merged_df.loc[merged_df['prediction_score']>0.7]\n",
    "y_true = high_conf['manual_cat']\n",
    "y_pred = high_conf['predicted_cat']"
   ]
  },
  {
   "cell_type": "code",
   "execution_count": 110,
   "id": "f67ec038-1093-4c1b-952a-8515f8619ffc",
   "metadata": {},
   "outputs": [
    {
     "data": {
      "text/plain": [
       "predicted_cat\n",
       "Protein activity (BAO_0013016)       46\n",
       "Antimicrobial activity               45\n",
       "Cell phenotype (BAO_0002542)         40\n",
       "in vivo method (BAO_0040021)         24\n",
       "Binding (BAO_0002989)                12\n",
       "Radioligand binding (BAO_0002776)    10\n",
       "Nucleic acid binding                  2\n",
       "Name: count, dtype: int64"
      ]
     },
     "execution_count": 110,
     "metadata": {},
     "output_type": "execute_result"
    }
   ],
   "source": [
    "high_conf['predicted_cat'].value_counts()"
   ]
  },
  {
   "cell_type": "code",
   "execution_count": 108,
   "id": "6820c947-6eb7-478f-b2fe-03bc13963fd7",
   "metadata": {},
   "outputs": [],
   "source": [
    "categories = ['Protein activity (BAO_0013016)'\n",
    "              , 'Cell phenotype (BAO_0002542)'\n",
    "              , 'Antimicrobial activity'\n",
    "              , 'in vivo method (BAO_0040021)'\n",
    "              ,'Binding (BAO_0002989)'\n",
    "              ,'Radioligand binding (BAO_0002776)'\n",
    "           , 'Nucleic acid binding'\n",
    "              , 'Other'\n",
    "       ]"
   ]
  },
  {
   "cell_type": "code",
   "execution_count": 109,
   "id": "c941af3c-3265-46d6-8cb0-93e6a6a6ed9d",
   "metadata": {},
   "outputs": [
    {
     "name": "stdout",
     "output_type": "stream",
     "text": [
      "Confusion Matrix:\n",
      " [[37  1  0  1  1  0  1  0]\n",
      " [ 2 38  0  1  0  0  0  0]\n",
      " [ 1  0 37  0  0  0  0  0]\n",
      " [ 2  1  1 21  0  0  0  0]\n",
      " [ 0  0  0  0 11  0  0  0]\n",
      " [ 0  0  0  0  0 10  0  0]\n",
      " [ 0  0  0  0  0  0  0  0]\n",
      " [ 4  0  7  1  0  0  1  0]]\n",
      "Precision per class: [0.80434783 0.95       0.82222222 0.875      0.91666667 1.\n",
      " 0.         0.        ]\n",
      "Recall per class: [0.90243902 0.92682927 0.97368421 0.84       1.         1.\n",
      " 0.         0.        ]\n",
      "Accuracy: 0.8603351955307262\n"
     ]
    },
    {
     "name": "stderr",
     "output_type": "stream",
     "text": [
      "/hps/software/users/chembl/ines/assays_description/lib/python3.11/site-packages/sklearn/metrics/_classification.py:1531: UndefinedMetricWarning: Precision is ill-defined and being set to 0.0 in labels with no predicted samples. Use `zero_division` parameter to control this behavior.\n",
      "  _warn_prf(average, modifier, f\"{metric.capitalize()} is\", len(result))\n",
      "/hps/software/users/chembl/ines/assays_description/lib/python3.11/site-packages/sklearn/metrics/_classification.py:1531: UndefinedMetricWarning: Recall is ill-defined and being set to 0.0 in labels with no true samples. Use `zero_division` parameter to control this behavior.\n",
      "  _warn_prf(average, modifier, f\"{metric.capitalize()} is\", len(result))\n"
     ]
    }
   ],
   "source": [
    "cm = confusion_matrix(y_true, y_pred, labels=categories)\n",
    "print(\"Confusion Matrix:\\n\", cm)\n",
    "\n",
    "precision = precision_score(y_true, y_pred, average=None, labels=categories)\n",
    "recall = recall_score(y_true, y_pred, average=None, labels=categories)\n",
    "accuracy = accuracy_score(y_true, y_pred)\n",
    "print(\"Precision per class:\", precision)\n",
    "print(\"Recall per class:\", recall)\n",
    "print(\"Accuracy:\", accuracy)"
   ]
  },
  {
   "cell_type": "code",
   "execution_count": 108,
   "id": "bb4c2796-da5e-4136-8404-9f2b47bb7ee6",
   "metadata": {},
   "outputs": [
    {
     "data": {
      "text/plain": [
       "predicted_cat\n",
       "Protein activity (BAO_0013016)       46\n",
       "Antimicrobial activity               45\n",
       "Cell phenotype (BAO_0002542)         40\n",
       "in vivo method (BAO_0040021)         24\n",
       "Binding (BAO_0002989)                12\n",
       "Radioligand binding (BAO_0002776)    10\n",
       "Nucleic acid binding                  2\n",
       "Name: count, dtype: int64"
      ]
     },
     "execution_count": 108,
     "metadata": {},
     "output_type": "execute_result"
    }
   ],
   "source": [
    "high_conf['predicted_cat'].value_counts()"
   ]
  },
  {
   "cell_type": "code",
   "execution_count": null,
   "id": "be096c1b-f164-4438-93ec-f346935fdcca",
   "metadata": {},
   "outputs": [],
   "source": []
  },
  {
   "cell_type": "code",
   "execution_count": null,
   "id": "0262a9c9-f84d-4aa0-bf3c-8467c1556714",
   "metadata": {},
   "outputs": [],
   "source": []
  },
  {
   "cell_type": "code",
   "execution_count": null,
   "id": "5eba575c-8661-4abb-b8a5-f47fe3eedb4a",
   "metadata": {},
   "outputs": [],
   "source": []
  },
  {
   "cell_type": "markdown",
   "id": "862152e7-037c-4708-85f4-c22a1a168ef4",
   "metadata": {},
   "source": [
    "#### Do some stats"
   ]
  },
  {
   "cell_type": "code",
   "execution_count": 28,
   "id": "26f5ce76-fbac-4de6-b39e-8ca8aae50717",
   "metadata": {
    "scrolled": true
   },
   "outputs": [
    {
     "data": {
      "text/html": [
       "<div>\n",
       "<style scoped>\n",
       "    .dataframe tbody tr th:only-of-type {\n",
       "        vertical-align: middle;\n",
       "    }\n",
       "\n",
       "    .dataframe tbody tr th {\n",
       "        vertical-align: top;\n",
       "    }\n",
       "\n",
       "    .dataframe thead th {\n",
       "        text-align: right;\n",
       "    }\n",
       "</style>\n",
       "<table border=\"1\" class=\"dataframe\">\n",
       "  <thead>\n",
       "    <tr style=\"text-align: right;\">\n",
       "      <th></th>\n",
       "      <th>assay_id</th>\n",
       "      <th>assay_type_x</th>\n",
       "      <th>description_x</th>\n",
       "      <th>broad</th>\n",
       "      <th>manual_cat</th>\n",
       "      <th>year</th>\n",
       "      <th>description_y</th>\n",
       "      <th>assay_type_y</th>\n",
       "      <th>Radioligand binding (BAO_0002776)</th>\n",
       "      <th>Binding (BAO_0002989)</th>\n",
       "      <th>Protein activity (BAO_0013016)</th>\n",
       "      <th>in vivo method (BAO_0040021)</th>\n",
       "      <th>Cell phenotype (BAO_0002542)</th>\n",
       "      <th>Nucleic acid binding</th>\n",
       "      <th>Antimicrobial activity</th>\n",
       "      <th>predicted_cat</th>\n",
       "      <th>prediction_score</th>\n",
       "      <th>second_largest_score</th>\n",
       "    </tr>\n",
       "  </thead>\n",
       "  <tbody>\n",
       "    <tr>\n",
       "      <th>1</th>\n",
       "      <td>1708538</td>\n",
       "      <td>B</td>\n",
       "      <td>Binding affinity to ACTR3 in human NCI-H23 cel...</td>\n",
       "      <td>Binding</td>\n",
       "      <td>Binding (BAO_0002989)</td>\n",
       "      <td>2017.0</td>\n",
       "      <td>Binding affinity to ACTR3 in human NCI-H23 cel...</td>\n",
       "      <td>B</td>\n",
       "      <td>0.000495</td>\n",
       "      <td>0.999961</td>\n",
       "      <td>8.505132e-06</td>\n",
       "      <td>0.000659</td>\n",
       "      <td>3.711966e-04</td>\n",
       "      <td>3.026486e-04</td>\n",
       "      <td>8.754423e-05</td>\n",
       "      <td>Binding (BAO_0002989)</td>\n",
       "      <td>0.999961</td>\n",
       "      <td>0.000659</td>\n",
       "    </tr>\n",
       "    <tr>\n",
       "      <th>2</th>\n",
       "      <td>1837015</td>\n",
       "      <td>B</td>\n",
       "      <td>Inhibition of recombinant human TRKC (510 to e...</td>\n",
       "      <td>Protein activity</td>\n",
       "      <td>Protein activity (BAO_0013016)</td>\n",
       "      <td>2019.0</td>\n",
       "      <td>Inhibition of recombinant human TRKC (510 to e...</td>\n",
       "      <td>B</td>\n",
       "      <td>0.000009</td>\n",
       "      <td>0.000005</td>\n",
       "      <td>9.999962e-01</td>\n",
       "      <td>0.000003</td>\n",
       "      <td>1.071839e-07</td>\n",
       "      <td>9.576959e-06</td>\n",
       "      <td>4.971198e-05</td>\n",
       "      <td>Protein activity (BAO_0013016)</td>\n",
       "      <td>0.999996</td>\n",
       "      <td>0.000050</td>\n",
       "    </tr>\n",
       "    <tr>\n",
       "      <th>3</th>\n",
       "      <td>46520</td>\n",
       "      <td>B</td>\n",
       "      <td>Inhibitory concentration of compound required ...</td>\n",
       "      <td>Protein activity</td>\n",
       "      <td>Protein activity (BAO_0013016)</td>\n",
       "      <td>2002.0</td>\n",
       "      <td>Inhibitory concentration of compound required ...</td>\n",
       "      <td>B</td>\n",
       "      <td>0.000086</td>\n",
       "      <td>0.004876</td>\n",
       "      <td>2.036673e-02</td>\n",
       "      <td>0.000002</td>\n",
       "      <td>1.030713e-04</td>\n",
       "      <td>2.147260e-03</td>\n",
       "      <td>1.901946e-02</td>\n",
       "      <td>Protein activity (BAO_0013016)</td>\n",
       "      <td>0.020367</td>\n",
       "      <td>0.019019</td>\n",
       "    </tr>\n",
       "    <tr>\n",
       "      <th>4</th>\n",
       "      <td>533526</td>\n",
       "      <td>B</td>\n",
       "      <td>Inhibition of human trypsin at 100 uM</td>\n",
       "      <td>Protein activity</td>\n",
       "      <td>Protein activity (BAO_0013016)</td>\n",
       "      <td>2007.0</td>\n",
       "      <td>Inhibition of human trypsin at 100 uM</td>\n",
       "      <td>B</td>\n",
       "      <td>0.000047</td>\n",
       "      <td>0.000004</td>\n",
       "      <td>9.999969e-01</td>\n",
       "      <td>0.000005</td>\n",
       "      <td>1.139881e-06</td>\n",
       "      <td>5.753865e-06</td>\n",
       "      <td>8.350688e-06</td>\n",
       "      <td>Protein activity (BAO_0013016)</td>\n",
       "      <td>0.999997</td>\n",
       "      <td>0.000047</td>\n",
       "    </tr>\n",
       "    <tr>\n",
       "      <th>5</th>\n",
       "      <td>2102748</td>\n",
       "      <td>B</td>\n",
       "      <td>Inhibition of equine serum BChE using butyrylt...</td>\n",
       "      <td>Protein activity</td>\n",
       "      <td>Protein activity (BAO_0013016)</td>\n",
       "      <td>2021.0</td>\n",
       "      <td>Inhibition of equine serum BChE using butyrylt...</td>\n",
       "      <td>B</td>\n",
       "      <td>0.000069</td>\n",
       "      <td>0.000074</td>\n",
       "      <td>9.999324e-01</td>\n",
       "      <td>0.000026</td>\n",
       "      <td>2.907617e-06</td>\n",
       "      <td>1.340925e-04</td>\n",
       "      <td>1.023548e-04</td>\n",
       "      <td>Protein activity (BAO_0013016)</td>\n",
       "      <td>0.999932</td>\n",
       "      <td>0.000134</td>\n",
       "    </tr>\n",
       "    <tr>\n",
       "      <th>...</th>\n",
       "      <td>...</td>\n",
       "      <td>...</td>\n",
       "      <td>...</td>\n",
       "      <td>...</td>\n",
       "      <td>...</td>\n",
       "      <td>...</td>\n",
       "      <td>...</td>\n",
       "      <td>...</td>\n",
       "      <td>...</td>\n",
       "      <td>...</td>\n",
       "      <td>...</td>\n",
       "      <td>...</td>\n",
       "      <td>...</td>\n",
       "      <td>...</td>\n",
       "      <td>...</td>\n",
       "      <td>...</td>\n",
       "      <td>...</td>\n",
       "      <td>...</td>\n",
       "    </tr>\n",
       "    <tr>\n",
       "      <th>194</th>\n",
       "      <td>912337</td>\n",
       "      <td>F</td>\n",
       "      <td>Antiamnesic activity in scopolamine-induced am...</td>\n",
       "      <td>in vivo method</td>\n",
       "      <td>in vivo method (BAO_0040021)</td>\n",
       "      <td>2012.0</td>\n",
       "      <td>Antiamnesic activity in scopolamine-induced am...</td>\n",
       "      <td>F</td>\n",
       "      <td>0.000017</td>\n",
       "      <td>0.000007</td>\n",
       "      <td>8.639789e-07</td>\n",
       "      <td>0.999999</td>\n",
       "      <td>7.303982e-06</td>\n",
       "      <td>5.044836e-07</td>\n",
       "      <td>5.129971e-07</td>\n",
       "      <td>in vivo method (BAO_0040021)</td>\n",
       "      <td>0.999999</td>\n",
       "      <td>0.000017</td>\n",
       "    </tr>\n",
       "    <tr>\n",
       "      <th>195</th>\n",
       "      <td>1983534</td>\n",
       "      <td>F</td>\n",
       "      <td>Effect on cell cycle pathway in human T47D cel...</td>\n",
       "      <td>Cell phenotype</td>\n",
       "      <td>Cell phenotype (BAO_0002542)</td>\n",
       "      <td>2020.0</td>\n",
       "      <td>Effect on cell cycle pathway in human T47D cel...</td>\n",
       "      <td>F</td>\n",
       "      <td>0.001705</td>\n",
       "      <td>0.000547</td>\n",
       "      <td>3.196381e-04</td>\n",
       "      <td>0.000320</td>\n",
       "      <td>9.913378e-01</td>\n",
       "      <td>1.328783e-03</td>\n",
       "      <td>1.125974e-04</td>\n",
       "      <td>Cell phenotype (BAO_0002542)</td>\n",
       "      <td>0.991338</td>\n",
       "      <td>0.001705</td>\n",
       "    </tr>\n",
       "    <tr>\n",
       "      <th>197</th>\n",
       "      <td>987925</td>\n",
       "      <td>F</td>\n",
       "      <td>Induction of apoptosis in human EC109 cells as...</td>\n",
       "      <td>Cell phenotype</td>\n",
       "      <td>Cell phenotype (BAO_0002542)</td>\n",
       "      <td>2013.0</td>\n",
       "      <td>Induction of apoptosis in human EC109 cells as...</td>\n",
       "      <td>F</td>\n",
       "      <td>0.000029</td>\n",
       "      <td>0.000005</td>\n",
       "      <td>2.762005e-06</td>\n",
       "      <td>0.000014</td>\n",
       "      <td>9.999938e-01</td>\n",
       "      <td>1.746263e-07</td>\n",
       "      <td>7.514590e-06</td>\n",
       "      <td>Cell phenotype (BAO_0002542)</td>\n",
       "      <td>0.999994</td>\n",
       "      <td>0.000029</td>\n",
       "    </tr>\n",
       "    <tr>\n",
       "      <th>198</th>\n",
       "      <td>768145</td>\n",
       "      <td>F</td>\n",
       "      <td>Antiparasitic activity against Fasciola hepati...</td>\n",
       "      <td>in vivo method</td>\n",
       "      <td>in vivo method (BAO_0040021)</td>\n",
       "      <td>2011.0</td>\n",
       "      <td>Antiparasitic activity against Fasciola hepati...</td>\n",
       "      <td>F</td>\n",
       "      <td>0.000039</td>\n",
       "      <td>0.000012</td>\n",
       "      <td>5.881536e-07</td>\n",
       "      <td>0.999999</td>\n",
       "      <td>5.838699e-06</td>\n",
       "      <td>2.691201e-07</td>\n",
       "      <td>1.362932e-06</td>\n",
       "      <td>in vivo method (BAO_0040021)</td>\n",
       "      <td>0.999999</td>\n",
       "      <td>0.000039</td>\n",
       "    </tr>\n",
       "    <tr>\n",
       "      <th>199</th>\n",
       "      <td>1906241</td>\n",
       "      <td>F</td>\n",
       "      <td>Bactericidal activity against methicilline-res...</td>\n",
       "      <td>Antimicrobial activity</td>\n",
       "      <td>Antimicrobial activity</td>\n",
       "      <td>2019.0</td>\n",
       "      <td>Bactericidal activity against methicilline-res...</td>\n",
       "      <td>F</td>\n",
       "      <td>0.000059</td>\n",
       "      <td>0.000186</td>\n",
       "      <td>5.476777e-06</td>\n",
       "      <td>0.000080</td>\n",
       "      <td>3.461256e-06</td>\n",
       "      <td>1.697247e-05</td>\n",
       "      <td>9.999900e-01</td>\n",
       "      <td>Antimicrobial activity</td>\n",
       "      <td>0.999990</td>\n",
       "      <td>0.000186</td>\n",
       "    </tr>\n",
       "  </tbody>\n",
       "</table>\n",
       "<p>161 rows × 18 columns</p>\n",
       "</div>"
      ],
      "text/plain": [
       "     assay_id assay_type_x                                      description_x  \\\n",
       "1     1708538            B  Binding affinity to ACTR3 in human NCI-H23 cel...   \n",
       "2     1837015            B  Inhibition of recombinant human TRKC (510 to e...   \n",
       "3       46520            B  Inhibitory concentration of compound required ...   \n",
       "4      533526            B              Inhibition of human trypsin at 100 uM   \n",
       "5     2102748            B  Inhibition of equine serum BChE using butyrylt...   \n",
       "..        ...          ...                                                ...   \n",
       "194    912337            F  Antiamnesic activity in scopolamine-induced am...   \n",
       "195   1983534            F  Effect on cell cycle pathway in human T47D cel...   \n",
       "197    987925            F  Induction of apoptosis in human EC109 cells as...   \n",
       "198    768145            F  Antiparasitic activity against Fasciola hepati...   \n",
       "199   1906241            F  Bactericidal activity against methicilline-res...   \n",
       "\n",
       "                      broad                      manual_cat    year  \\\n",
       "1                   Binding           Binding (BAO_0002989)  2017.0   \n",
       "2          Protein activity  Protein activity (BAO_0013016)  2019.0   \n",
       "3          Protein activity  Protein activity (BAO_0013016)  2002.0   \n",
       "4          Protein activity  Protein activity (BAO_0013016)  2007.0   \n",
       "5          Protein activity  Protein activity (BAO_0013016)  2021.0   \n",
       "..                      ...                             ...     ...   \n",
       "194          in vivo method    in vivo method (BAO_0040021)  2012.0   \n",
       "195          Cell phenotype    Cell phenotype (BAO_0002542)  2020.0   \n",
       "197          Cell phenotype    Cell phenotype (BAO_0002542)  2013.0   \n",
       "198          in vivo method    in vivo method (BAO_0040021)  2011.0   \n",
       "199  Antimicrobial activity          Antimicrobial activity  2019.0   \n",
       "\n",
       "                                         description_y assay_type_y  \\\n",
       "1    Binding affinity to ACTR3 in human NCI-H23 cel...            B   \n",
       "2    Inhibition of recombinant human TRKC (510 to e...            B   \n",
       "3    Inhibitory concentration of compound required ...            B   \n",
       "4                Inhibition of human trypsin at 100 uM            B   \n",
       "5    Inhibition of equine serum BChE using butyrylt...            B   \n",
       "..                                                 ...          ...   \n",
       "194  Antiamnesic activity in scopolamine-induced am...            F   \n",
       "195  Effect on cell cycle pathway in human T47D cel...            F   \n",
       "197  Induction of apoptosis in human EC109 cells as...            F   \n",
       "198  Antiparasitic activity against Fasciola hepati...            F   \n",
       "199  Bactericidal activity against methicilline-res...            F   \n",
       "\n",
       "     Radioligand binding (BAO_0002776)  Binding (BAO_0002989)  \\\n",
       "1                             0.000495               0.999961   \n",
       "2                             0.000009               0.000005   \n",
       "3                             0.000086               0.004876   \n",
       "4                             0.000047               0.000004   \n",
       "5                             0.000069               0.000074   \n",
       "..                                 ...                    ...   \n",
       "194                           0.000017               0.000007   \n",
       "195                           0.001705               0.000547   \n",
       "197                           0.000029               0.000005   \n",
       "198                           0.000039               0.000012   \n",
       "199                           0.000059               0.000186   \n",
       "\n",
       "     Protein activity (BAO_0013016)  in vivo method (BAO_0040021)  \\\n",
       "1                      8.505132e-06                      0.000659   \n",
       "2                      9.999962e-01                      0.000003   \n",
       "3                      2.036673e-02                      0.000002   \n",
       "4                      9.999969e-01                      0.000005   \n",
       "5                      9.999324e-01                      0.000026   \n",
       "..                              ...                           ...   \n",
       "194                    8.639789e-07                      0.999999   \n",
       "195                    3.196381e-04                      0.000320   \n",
       "197                    2.762005e-06                      0.000014   \n",
       "198                    5.881536e-07                      0.999999   \n",
       "199                    5.476777e-06                      0.000080   \n",
       "\n",
       "     Cell phenotype (BAO_0002542)  Nucleic acid binding  \\\n",
       "1                    3.711966e-04          3.026486e-04   \n",
       "2                    1.071839e-07          9.576959e-06   \n",
       "3                    1.030713e-04          2.147260e-03   \n",
       "4                    1.139881e-06          5.753865e-06   \n",
       "5                    2.907617e-06          1.340925e-04   \n",
       "..                            ...                   ...   \n",
       "194                  7.303982e-06          5.044836e-07   \n",
       "195                  9.913378e-01          1.328783e-03   \n",
       "197                  9.999938e-01          1.746263e-07   \n",
       "198                  5.838699e-06          2.691201e-07   \n",
       "199                  3.461256e-06          1.697247e-05   \n",
       "\n",
       "     Antimicrobial activity                   predicted_cat  prediction_score  \\\n",
       "1              8.754423e-05           Binding (BAO_0002989)          0.999961   \n",
       "2              4.971198e-05  Protein activity (BAO_0013016)          0.999996   \n",
       "3              1.901946e-02  Protein activity (BAO_0013016)          0.020367   \n",
       "4              8.350688e-06  Protein activity (BAO_0013016)          0.999997   \n",
       "5              1.023548e-04  Protein activity (BAO_0013016)          0.999932   \n",
       "..                      ...                             ...               ...   \n",
       "194            5.129971e-07    in vivo method (BAO_0040021)          0.999999   \n",
       "195            1.125974e-04    Cell phenotype (BAO_0002542)          0.991338   \n",
       "197            7.514590e-06    Cell phenotype (BAO_0002542)          0.999994   \n",
       "198            1.362932e-06    in vivo method (BAO_0040021)          0.999999   \n",
       "199            9.999900e-01          Antimicrobial activity          0.999990   \n",
       "\n",
       "     second_largest_score  \n",
       "1                0.000659  \n",
       "2                0.000050  \n",
       "3                0.019019  \n",
       "4                0.000047  \n",
       "5                0.000134  \n",
       "..                    ...  \n",
       "194              0.000017  \n",
       "195              0.001705  \n",
       "197              0.000029  \n",
       "198              0.000039  \n",
       "199              0.000186  \n",
       "\n",
       "[161 rows x 18 columns]"
      ]
     },
     "execution_count": 28,
     "metadata": {},
     "output_type": "execute_result"
    }
   ],
   "source": [
    "merged_df.loc[merged_df['manual_cat']==merged_df['predicted_cat']]"
   ]
  },
  {
   "cell_type": "code",
   "execution_count": 29,
   "id": "68897114-b095-4aa6-b5dd-404392a57284",
   "metadata": {},
   "outputs": [
    {
     "data": {
      "text/plain": [
       "0.805"
      ]
     },
     "execution_count": 29,
     "metadata": {},
     "output_type": "execute_result"
    }
   ],
   "source": [
    "161/200"
   ]
  },
  {
   "cell_type": "code",
   "execution_count": 44,
   "id": "a026d69c-5f4d-4338-82d6-3b35a3a9b580",
   "metadata": {},
   "outputs": [
    {
     "data": {
      "text/plain": [
       "14"
      ]
     },
     "execution_count": 44,
     "metadata": {},
     "output_type": "execute_result"
    }
   ],
   "source": [
    "len(merged_df.loc[(merged_df['prediction_score']<0.7)&(merged_df['manual_cat']!=merged_df['predicted_cat'])])"
   ]
  },
  {
   "cell_type": "code",
   "execution_count": 46,
   "id": "16361ee4-73e1-4534-a19d-bd85cc881fa9",
   "metadata": {},
   "outputs": [
    {
     "data": {
      "text/plain": [
       "21"
      ]
     },
     "execution_count": 46,
     "metadata": {},
     "output_type": "execute_result"
    }
   ],
   "source": [
    "len(merged_df.loc[merged_df['prediction_score']<0.7])"
   ]
  },
  {
   "cell_type": "code",
   "execution_count": 34,
   "id": "359a0585-74b9-459e-95ac-2e8719b45c61",
   "metadata": {},
   "outputs": [
    {
     "data": {
      "text/plain": [
       "0.895"
      ]
     },
     "execution_count": 34,
     "metadata": {},
     "output_type": "execute_result"
    }
   ],
   "source": [
    "179/200"
   ]
  },
  {
   "cell_type": "code",
   "execution_count": 36,
   "id": "c19ebb94-bab9-431e-a3ed-b61a8995e8eb",
   "metadata": {},
   "outputs": [
    {
     "data": {
      "text/plain": [
       "154"
      ]
     },
     "execution_count": 36,
     "metadata": {},
     "output_type": "execute_result"
    }
   ],
   "source": [
    "len(merged_df.loc[(merged_df['prediction_score']>0.7)&(merged_df['manual_cat']==merged_df['predicted_cat'])])"
   ]
  },
  {
   "cell_type": "code",
   "execution_count": 37,
   "id": "0af37547-7b00-4861-a807-1b6cce7b5c39",
   "metadata": {},
   "outputs": [
    {
     "data": {
      "text/plain": [
       "0.8603351955307262"
      ]
     },
     "execution_count": 37,
     "metadata": {},
     "output_type": "execute_result"
    }
   ],
   "source": [
    "154/179"
   ]
  },
  {
   "cell_type": "code",
   "execution_count": null,
   "id": "f39bb950-ac71-4211-a2f6-bb252fb25cb5",
   "metadata": {},
   "outputs": [],
   "source": []
  },
  {
   "cell_type": "code",
   "execution_count": 30,
   "id": "94eff167-ec9a-42af-9725-14c8da95ab64",
   "metadata": {},
   "outputs": [
    {
     "data": {
      "text/plain": [
       "count    200.000000\n",
       "mean       0.913532\n",
       "std        0.224362\n",
       "min        0.020367\n",
       "25%        0.991243\n",
       "50%        0.999982\n",
       "75%        0.999997\n",
       "max        1.000000\n",
       "Name: prediction_score, dtype: float64"
      ]
     },
     "execution_count": 30,
     "metadata": {},
     "output_type": "execute_result"
    }
   ],
   "source": [
    "predictions['prediction_score'].describe()"
   ]
  },
  {
   "cell_type": "code",
   "execution_count": 47,
   "id": "69a2d6dd-c5d7-41e2-8eed-e0027101db57",
   "metadata": {},
   "outputs": [],
   "source": [
    "# plot % correct with prediction score"
   ]
  },
  {
   "cell_type": "code",
   "execution_count": null,
   "id": "c1a5e70b-3ace-40d9-a78d-f8d0b62cca4c",
   "metadata": {},
   "outputs": [],
   "source": []
  },
  {
   "cell_type": "code",
   "execution_count": null,
   "id": "ad00fa05-2e9a-492a-9a90-13b202197f6a",
   "metadata": {},
   "outputs": [],
   "source": []
  },
  {
   "cell_type": "code",
   "execution_count": null,
   "id": "1515bcf8-3dc0-4cb5-bfd7-b14009e446c1",
   "metadata": {},
   "outputs": [],
   "source": []
  },
  {
   "cell_type": "code",
   "execution_count": 14,
   "id": "10b9e1e2-7a39-4ffe-958c-40c5176e0e57",
   "metadata": {},
   "outputs": [
    {
     "data": {
      "text/plain": [
       "count    200.000000\n",
       "mean       0.009828\n",
       "std        0.036311\n",
       "min        0.000004\n",
       "25%        0.000037\n",
       "50%        0.000151\n",
       "75%        0.002227\n",
       "max        0.415641\n",
       "Name: second_largest_score, dtype: float64"
      ]
     },
     "execution_count": 14,
     "metadata": {},
     "output_type": "execute_result"
    }
   ],
   "source": [
    "predictions['second_largest_score'].describe()"
   ]
  },
  {
   "cell_type": "code",
   "execution_count": null,
   "id": "268ec7a7-6522-4ee8-bad1-fd08604c2319",
   "metadata": {},
   "outputs": [],
   "source": []
  }
 ],
 "metadata": {
  "kernelspec": {
   "display_name": "Python 3 (ipykernel)",
   "language": "python",
   "name": "python3"
  },
  "language_info": {
   "codemirror_mode": {
    "name": "ipython",
    "version": 3
   },
   "file_extension": ".py",
   "mimetype": "text/x-python",
   "name": "python",
   "nbconvert_exporter": "python",
   "pygments_lexer": "ipython3",
   "version": "3.11.7"
  }
 },
 "nbformat": 4,
 "nbformat_minor": 5
}
