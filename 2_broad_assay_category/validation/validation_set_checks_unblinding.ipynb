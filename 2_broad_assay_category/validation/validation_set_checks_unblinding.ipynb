{
 "cells": [
  {
   "cell_type": "code",
   "execution_count": 2,
   "id": "95621e66-0a36-4b47-9f63-f7d129e99520",
   "metadata": {},
   "outputs": [],
   "source": [
    "import pandas as pd"
   ]
  },
  {
   "cell_type": "code",
   "execution_count": 3,
   "id": "28893ebd-8285-42ca-8a07-0025fc71f947",
   "metadata": {},
   "outputs": [],
   "source": [
    "sample1 = pd.read_csv('../../1_NER_method/Results/sample_subset_chembl35_blind.tsv', sep='\\t')"
   ]
  },
  {
   "cell_type": "code",
   "execution_count": 4,
   "id": "05667e41-8ba3-4cbe-a67c-ada258d90ced",
   "metadata": {},
   "outputs": [],
   "source": [
    "sample2 = pd.read_csv('../../1_NER_method/Results/sample_subset2_chembl35_blind.tsv', sep='\\t')"
   ]
  },
  {
   "cell_type": "code",
   "execution_count": 5,
   "id": "e9229069-bfce-48ad-b054-cae34726522e",
   "metadata": {},
   "outputs": [],
   "source": [
    "training_set = pd.read_csv('../data/2_broad_category_training_data.csv')"
   ]
  },
  {
   "cell_type": "code",
   "execution_count": 8,
   "id": "8d346f5a-9a46-47a2-84f8-3148cf86e64f",
   "metadata": {},
   "outputs": [],
   "source": [
    "training_ids_set = set(training_set['assay_id'])\n",
    "sample1_set = set(sample1['assay_id'])\n",
    "sample2_set = set(sample2['assay_id'])"
   ]
  },
  {
   "cell_type": "code",
   "execution_count": 17,
   "id": "714c8293-c743-496b-a140-e0b222a4707e",
   "metadata": {},
   "outputs": [
    {
     "data": {
      "text/plain": [
       "[708614,\n",
       " 55304,\n",
       " 208908,\n",
       " 790543,\n",
       " 1908752,\n",
       " 1677334,\n",
       " 1845273,\n",
       " 2052126,\n",
       " 1329184,\n",
       " 942120]"
      ]
     },
     "execution_count": 17,
     "metadata": {},
     "output_type": "execute_result"
    }
   ],
   "source": [
    "list(training_ids_set)[:10]"
   ]
  },
  {
   "cell_type": "code",
   "execution_count": 15,
   "id": "a19d9cac-4458-4c68-839e-36ab4c37b69d",
   "metadata": {},
   "outputs": [
    {
     "data": {
      "text/plain": [
       "[1630210,\n",
       " 2184197,\n",
       " 451078,\n",
       " 696331,\n",
       " 433677,\n",
       " 533526,\n",
       " 2235417,\n",
       " 579615,\n",
       " 1454627,\n",
       " 150010]"
      ]
     },
     "execution_count": 15,
     "metadata": {},
     "output_type": "execute_result"
    }
   ],
   "source": [
    "list(sample1_set)[:10]"
   ]
  },
  {
   "cell_type": "code",
   "execution_count": 9,
   "id": "ae7f3b58-719a-4107-80cc-1e341668d529",
   "metadata": {},
   "outputs": [
    {
     "data": {
      "text/plain": [
       "set()"
      ]
     },
     "execution_count": 9,
     "metadata": {},
     "output_type": "execute_result"
    }
   ],
   "source": [
    "training_ids_set & sample1_set"
   ]
  },
  {
   "cell_type": "code",
   "execution_count": 10,
   "id": "e3b4723f-3bb1-4357-9e79-fe8cb5971e86",
   "metadata": {},
   "outputs": [
    {
     "data": {
      "text/plain": [
       "set()"
      ]
     },
     "execution_count": 10,
     "metadata": {},
     "output_type": "execute_result"
    }
   ],
   "source": [
    "training_ids_set & sample2_set"
   ]
  },
  {
   "cell_type": "code",
   "execution_count": 11,
   "id": "bd6a0c5c-f0c8-49db-95b4-d02f0e0bf3ad",
   "metadata": {},
   "outputs": [
    {
     "data": {
      "text/plain": [
       "set()"
      ]
     },
     "execution_count": 11,
     "metadata": {},
     "output_type": "execute_result"
    }
   ],
   "source": [
    "sample1_set & sample2_set"
   ]
  },
  {
   "cell_type": "code",
   "execution_count": 12,
   "id": "30937d56-f34a-4fb2-b525-9bbc1c4d912a",
   "metadata": {},
   "outputs": [
    {
     "data": {
      "text/plain": [
       "{1708538}"
      ]
     },
     "execution_count": 12,
     "metadata": {},
     "output_type": "execute_result"
    }
   ],
   "source": [
    "sample1_set & set([1708538])"
   ]
  },
  {
   "cell_type": "markdown",
   "id": "d2a977c9-456c-4abe-aebb-41a0b2f02a1c",
   "metadata": {},
   "source": [
    "## Create unblinding files"
   ]
  },
  {
   "cell_type": "code",
   "execution_count": 18,
   "id": "6b273f51-25a1-4590-8209-25e63cac9436",
   "metadata": {},
   "outputs": [],
   "source": [
    "validation_assay_ids = sample1_set | sample2_set"
   ]
  },
  {
   "cell_type": "code",
   "execution_count": 19,
   "id": "be549827-07fa-4f0d-809f-6d0916e55c93",
   "metadata": {},
   "outputs": [
    {
     "data": {
      "text/plain": [
       "200"
      ]
     },
     "execution_count": 19,
     "metadata": {},
     "output_type": "execute_result"
    }
   ],
   "source": [
    "len(validation_assay_ids)"
   ]
  },
  {
   "cell_type": "code",
   "execution_count": 20,
   "id": "6b04ae77-8fb7-44f7-abe6-2cf44deab836",
   "metadata": {},
   "outputs": [],
   "source": [
    "all_results = pd.read_csv('chembl_35_broad_results_processed.txt', sep='\\t')"
   ]
  },
  {
   "cell_type": "code",
   "execution_count": 21,
   "id": "d566250a-36be-4cc8-9461-5bb982a0fdf8",
   "metadata": {},
   "outputs": [
    {
     "data": {
      "text/html": [
       "<div>\n",
       "<style scoped>\n",
       "    .dataframe tbody tr th:only-of-type {\n",
       "        vertical-align: middle;\n",
       "    }\n",
       "\n",
       "    .dataframe tbody tr th {\n",
       "        vertical-align: top;\n",
       "    }\n",
       "\n",
       "    .dataframe thead th {\n",
       "        text-align: right;\n",
       "    }\n",
       "</style>\n",
       "<table border=\"1\" class=\"dataframe\">\n",
       "  <thead>\n",
       "    <tr style=\"text-align: right;\">\n",
       "      <th></th>\n",
       "      <th>assay_id</th>\n",
       "      <th>year</th>\n",
       "      <th>description</th>\n",
       "      <th>assay_type</th>\n",
       "      <th>Radioligand binding (BAO_0002776)</th>\n",
       "      <th>Binding (BAO_0002989)</th>\n",
       "      <th>Protein activity (BAO_0013016)</th>\n",
       "      <th>in vivo method (BAO_0040021)</th>\n",
       "      <th>Cell phenotype (BAO_0002542)</th>\n",
       "      <th>Nucleic acid binding</th>\n",
       "      <th>Antimicrobial activity</th>\n",
       "      <th>predicted_cat</th>\n",
       "      <th>prediction_score</th>\n",
       "      <th>second_largest_score</th>\n",
       "    </tr>\n",
       "  </thead>\n",
       "  <tbody>\n",
       "    <tr>\n",
       "      <th>0</th>\n",
       "      <td>89</td>\n",
       "      <td>1994.0</td>\n",
       "      <td>Evaluated for its activity to inhibit rat live...</td>\n",
       "      <td>B</td>\n",
       "      <td>0.000141</td>\n",
       "      <td>0.020719</td>\n",
       "      <td>0.820549</td>\n",
       "      <td>0.000340</td>\n",
       "      <td>0.000403</td>\n",
       "      <td>0.000183</td>\n",
       "      <td>0.004031</td>\n",
       "      <td>Protein activity (BAO_0013016)</td>\n",
       "      <td>0.820549</td>\n",
       "      <td>0.020719</td>\n",
       "    </tr>\n",
       "    <tr>\n",
       "      <th>1</th>\n",
       "      <td>235</td>\n",
       "      <td>2003.0</td>\n",
       "      <td>Inhibitory activity against inosine 5'-inosine...</td>\n",
       "      <td>B</td>\n",
       "      <td>0.000047</td>\n",
       "      <td>0.000101</td>\n",
       "      <td>0.760096</td>\n",
       "      <td>0.000034</td>\n",
       "      <td>0.368850</td>\n",
       "      <td>0.000012</td>\n",
       "      <td>0.003083</td>\n",
       "      <td>Protein activity (BAO_0013016)</td>\n",
       "      <td>0.760096</td>\n",
       "      <td>0.368850</td>\n",
       "    </tr>\n",
       "    <tr>\n",
       "      <th>2</th>\n",
       "      <td>667</td>\n",
       "      <td>2003.0</td>\n",
       "      <td>5-hydroxytryptamine 1A receptor antagonism was...</td>\n",
       "      <td>F</td>\n",
       "      <td>0.749272</td>\n",
       "      <td>0.003896</td>\n",
       "      <td>0.000237</td>\n",
       "      <td>0.000165</td>\n",
       "      <td>0.005068</td>\n",
       "      <td>0.005397</td>\n",
       "      <td>0.000072</td>\n",
       "      <td>Radioligand binding (BAO_0002776)</td>\n",
       "      <td>0.749272</td>\n",
       "      <td>0.005397</td>\n",
       "    </tr>\n",
       "    <tr>\n",
       "      <th>3</th>\n",
       "      <td>758</td>\n",
       "      <td>2001.0</td>\n",
       "      <td>Binding affinity towards human 5-hydroxytrypta...</td>\n",
       "      <td>B</td>\n",
       "      <td>0.001450</td>\n",
       "      <td>0.999711</td>\n",
       "      <td>0.000007</td>\n",
       "      <td>0.000063</td>\n",
       "      <td>0.000013</td>\n",
       "      <td>0.000615</td>\n",
       "      <td>0.000136</td>\n",
       "      <td>Binding (BAO_0002989)</td>\n",
       "      <td>0.999711</td>\n",
       "      <td>0.001450</td>\n",
       "    </tr>\n",
       "    <tr>\n",
       "      <th>4</th>\n",
       "      <td>1155</td>\n",
       "      <td>1992.0</td>\n",
       "      <td>Compound was evaluated for in vitro binding af...</td>\n",
       "      <td>B</td>\n",
       "      <td>0.999998</td>\n",
       "      <td>0.000010</td>\n",
       "      <td>0.000030</td>\n",
       "      <td>0.001088</td>\n",
       "      <td>0.000005</td>\n",
       "      <td>0.000031</td>\n",
       "      <td>0.000692</td>\n",
       "      <td>Radioligand binding (BAO_0002776)</td>\n",
       "      <td>0.999998</td>\n",
       "      <td>0.001088</td>\n",
       "    </tr>\n",
       "  </tbody>\n",
       "</table>\n",
       "</div>"
      ],
      "text/plain": [
       "   assay_id    year                                        description  \\\n",
       "0        89  1994.0  Evaluated for its activity to inhibit rat live...   \n",
       "1       235  2003.0  Inhibitory activity against inosine 5'-inosine...   \n",
       "2       667  2003.0  5-hydroxytryptamine 1A receptor antagonism was...   \n",
       "3       758  2001.0  Binding affinity towards human 5-hydroxytrypta...   \n",
       "4      1155  1992.0  Compound was evaluated for in vitro binding af...   \n",
       "\n",
       "  assay_type  Radioligand binding (BAO_0002776)  Binding (BAO_0002989)  \\\n",
       "0          B                           0.000141               0.020719   \n",
       "1          B                           0.000047               0.000101   \n",
       "2          F                           0.749272               0.003896   \n",
       "3          B                           0.001450               0.999711   \n",
       "4          B                           0.999998               0.000010   \n",
       "\n",
       "   Protein activity (BAO_0013016)  in vivo method (BAO_0040021)  \\\n",
       "0                        0.820549                      0.000340   \n",
       "1                        0.760096                      0.000034   \n",
       "2                        0.000237                      0.000165   \n",
       "3                        0.000007                      0.000063   \n",
       "4                        0.000030                      0.001088   \n",
       "\n",
       "   Cell phenotype (BAO_0002542)  Nucleic acid binding  Antimicrobial activity  \\\n",
       "0                      0.000403              0.000183                0.004031   \n",
       "1                      0.368850              0.000012                0.003083   \n",
       "2                      0.005068              0.005397                0.000072   \n",
       "3                      0.000013              0.000615                0.000136   \n",
       "4                      0.000005              0.000031                0.000692   \n",
       "\n",
       "                       predicted_cat  prediction_score  second_largest_score  \n",
       "0     Protein activity (BAO_0013016)          0.820549              0.020719  \n",
       "1     Protein activity (BAO_0013016)          0.760096              0.368850  \n",
       "2  Radioligand binding (BAO_0002776)          0.749272              0.005397  \n",
       "3              Binding (BAO_0002989)          0.999711              0.001450  \n",
       "4  Radioligand binding (BAO_0002776)          0.999998              0.001088  "
      ]
     },
     "execution_count": 21,
     "metadata": {},
     "output_type": "execute_result"
    }
   ],
   "source": [
    "all_results.head()"
   ]
  },
  {
   "cell_type": "code",
   "execution_count": 23,
   "id": "dd2a1b5c-7c57-4aad-83f8-1608eb5742c8",
   "metadata": {},
   "outputs": [],
   "source": [
    "unblinded = all_results.loc[all_results['assay_id'].isin(validation_assay_ids)]"
   ]
  },
  {
   "cell_type": "code",
   "execution_count": 25,
   "id": "a582f1ee-8a06-40d5-88f6-778748de1b51",
   "metadata": {},
   "outputs": [
    {
     "data": {
      "text/html": [
       "<div>\n",
       "<style scoped>\n",
       "    .dataframe tbody tr th:only-of-type {\n",
       "        vertical-align: middle;\n",
       "    }\n",
       "\n",
       "    .dataframe tbody tr th {\n",
       "        vertical-align: top;\n",
       "    }\n",
       "\n",
       "    .dataframe thead th {\n",
       "        text-align: right;\n",
       "    }\n",
       "</style>\n",
       "<table border=\"1\" class=\"dataframe\">\n",
       "  <thead>\n",
       "    <tr style=\"text-align: right;\">\n",
       "      <th></th>\n",
       "      <th>assay_id</th>\n",
       "      <th>year</th>\n",
       "      <th>description</th>\n",
       "      <th>assay_type</th>\n",
       "      <th>Radioligand binding (BAO_0002776)</th>\n",
       "      <th>Binding (BAO_0002989)</th>\n",
       "      <th>Protein activity (BAO_0013016)</th>\n",
       "      <th>in vivo method (BAO_0040021)</th>\n",
       "      <th>Cell phenotype (BAO_0002542)</th>\n",
       "      <th>Nucleic acid binding</th>\n",
       "      <th>Antimicrobial activity</th>\n",
       "      <th>predicted_cat</th>\n",
       "      <th>prediction_score</th>\n",
       "      <th>second_largest_score</th>\n",
       "    </tr>\n",
       "  </thead>\n",
       "  <tbody>\n",
       "    <tr>\n",
       "      <th>1800</th>\n",
       "      <td>456385</td>\n",
       "      <td>2007.0</td>\n",
       "      <td>Ex vivo anticoagulant potency in rat plasma as...</td>\n",
       "      <td>F</td>\n",
       "      <td>0.000044</td>\n",
       "      <td>1.687743e-05</td>\n",
       "      <td>5.459509e-07</td>\n",
       "      <td>1.000000</td>\n",
       "      <td>0.000004</td>\n",
       "      <td>4.804565e-07</td>\n",
       "      <td>7.503688e-07</td>\n",
       "      <td>in vivo method (BAO_0040021)</td>\n",
       "      <td>1.000000</td>\n",
       "      <td>0.000044</td>\n",
       "    </tr>\n",
       "    <tr>\n",
       "      <th>6565</th>\n",
       "      <td>2157929</td>\n",
       "      <td>2021.0</td>\n",
       "      <td>Binding affinity to NanoLuc human A1 adenosine...</td>\n",
       "      <td>B</td>\n",
       "      <td>0.000539</td>\n",
       "      <td>9.998216e-01</td>\n",
       "      <td>5.657545e-06</td>\n",
       "      <td>0.000027</td>\n",
       "      <td>0.000099</td>\n",
       "      <td>4.513950e-05</td>\n",
       "      <td>2.979177e-05</td>\n",
       "      <td>Binding (BAO_0002989)</td>\n",
       "      <td>0.999822</td>\n",
       "      <td>0.000539</td>\n",
       "    </tr>\n",
       "    <tr>\n",
       "      <th>15473</th>\n",
       "      <td>1907545</td>\n",
       "      <td>2019.0</td>\n",
       "      <td>Growth inhibition of human MOLT4 cells incubat...</td>\n",
       "      <td>F</td>\n",
       "      <td>0.000056</td>\n",
       "      <td>2.949883e-05</td>\n",
       "      <td>3.026868e-06</td>\n",
       "      <td>0.000037</td>\n",
       "      <td>0.999995</td>\n",
       "      <td>4.579080e-05</td>\n",
       "      <td>2.272898e-04</td>\n",
       "      <td>Cell phenotype (BAO_0002542)</td>\n",
       "      <td>0.999995</td>\n",
       "      <td>0.000227</td>\n",
       "    </tr>\n",
       "    <tr>\n",
       "      <th>17759</th>\n",
       "      <td>2265211</td>\n",
       "      <td>2022.0</td>\n",
       "      <td>Antagonist activity at human P2Y6R expressed i...</td>\n",
       "      <td>B</td>\n",
       "      <td>0.000005</td>\n",
       "      <td>3.201314e-06</td>\n",
       "      <td>9.999920e-01</td>\n",
       "      <td>0.000004</td>\n",
       "      <td>0.000010</td>\n",
       "      <td>4.184967e-06</td>\n",
       "      <td>2.981297e-06</td>\n",
       "      <td>Protein activity (BAO_0013016)</td>\n",
       "      <td>0.999992</td>\n",
       "      <td>0.000010</td>\n",
       "    </tr>\n",
       "    <tr>\n",
       "      <th>26580</th>\n",
       "      <td>1614150</td>\n",
       "      <td>2016.0</td>\n",
       "      <td>Displacement of [125I]-p-iodoclonidine from I1...</td>\n",
       "      <td>B</td>\n",
       "      <td>0.999999</td>\n",
       "      <td>9.383160e-07</td>\n",
       "      <td>6.163500e-06</td>\n",
       "      <td>0.000014</td>\n",
       "      <td>0.000009</td>\n",
       "      <td>1.372803e-05</td>\n",
       "      <td>6.848240e-07</td>\n",
       "      <td>Radioligand binding (BAO_0002776)</td>\n",
       "      <td>0.999999</td>\n",
       "      <td>0.000014</td>\n",
       "    </tr>\n",
       "  </tbody>\n",
       "</table>\n",
       "</div>"
      ],
      "text/plain": [
       "       assay_id    year                                        description  \\\n",
       "1800     456385  2007.0  Ex vivo anticoagulant potency in rat plasma as...   \n",
       "6565    2157929  2021.0  Binding affinity to NanoLuc human A1 adenosine...   \n",
       "15473   1907545  2019.0  Growth inhibition of human MOLT4 cells incubat...   \n",
       "17759   2265211  2022.0  Antagonist activity at human P2Y6R expressed i...   \n",
       "26580   1614150  2016.0  Displacement of [125I]-p-iodoclonidine from I1...   \n",
       "\n",
       "      assay_type  Radioligand binding (BAO_0002776)  Binding (BAO_0002989)  \\\n",
       "1800           F                           0.000044           1.687743e-05   \n",
       "6565           B                           0.000539           9.998216e-01   \n",
       "15473          F                           0.000056           2.949883e-05   \n",
       "17759          B                           0.000005           3.201314e-06   \n",
       "26580          B                           0.999999           9.383160e-07   \n",
       "\n",
       "       Protein activity (BAO_0013016)  in vivo method (BAO_0040021)  \\\n",
       "1800                     5.459509e-07                      1.000000   \n",
       "6565                     5.657545e-06                      0.000027   \n",
       "15473                    3.026868e-06                      0.000037   \n",
       "17759                    9.999920e-01                      0.000004   \n",
       "26580                    6.163500e-06                      0.000014   \n",
       "\n",
       "       Cell phenotype (BAO_0002542)  Nucleic acid binding  \\\n",
       "1800                       0.000004          4.804565e-07   \n",
       "6565                       0.000099          4.513950e-05   \n",
       "15473                      0.999995          4.579080e-05   \n",
       "17759                      0.000010          4.184967e-06   \n",
       "26580                      0.000009          1.372803e-05   \n",
       "\n",
       "       Antimicrobial activity                      predicted_cat  \\\n",
       "1800             7.503688e-07       in vivo method (BAO_0040021)   \n",
       "6565             2.979177e-05              Binding (BAO_0002989)   \n",
       "15473            2.272898e-04       Cell phenotype (BAO_0002542)   \n",
       "17759            2.981297e-06     Protein activity (BAO_0013016)   \n",
       "26580            6.848240e-07  Radioligand binding (BAO_0002776)   \n",
       "\n",
       "       prediction_score  second_largest_score  \n",
       "1800           1.000000              0.000044  \n",
       "6565           0.999822              0.000539  \n",
       "15473          0.999995              0.000227  \n",
       "17759          0.999992              0.000010  \n",
       "26580          0.999999              0.000014  "
      ]
     },
     "execution_count": 25,
     "metadata": {},
     "output_type": "execute_result"
    }
   ],
   "source": [
    "unblinded.head()"
   ]
  },
  {
   "cell_type": "code",
   "execution_count": 26,
   "id": "53e1dae8-85eb-4b5e-afd2-ea89fa87be26",
   "metadata": {},
   "outputs": [],
   "source": [
    "unblinded.to_csv('validation200_broad_unblinded.csv', index=False)"
   ]
  },
  {
   "cell_type": "code",
   "execution_count": null,
   "id": "e26e03bb-d74f-413c-8b0a-2b60647f4353",
   "metadata": {},
   "outputs": [],
   "source": []
  }
 ],
 "metadata": {
  "kernelspec": {
   "display_name": "Python 3 (ipykernel)",
   "language": "python",
   "name": "python3"
  },
  "language_info": {
   "codemirror_mode": {
    "name": "ipython",
    "version": 3
   },
   "file_extension": ".py",
   "mimetype": "text/x-python",
   "name": "python",
   "nbconvert_exporter": "python",
   "pygments_lexer": "ipython3",
   "version": "3.11.7"
  }
 },
 "nbformat": 4,
 "nbformat_minor": 5
}
