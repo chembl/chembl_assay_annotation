{
 "cells": [
  {
   "cell_type": "markdown",
   "id": "ce6358f7-e52a-4660-a384-e3e49894853b",
   "metadata": {},
   "source": [
    "## Broad category model for assay descriptions\n",
    "The notebook manages the main pipeline for model training in 100% data"
   ]
  },
  {
   "cell_type": "code",
   "execution_count": 7,
   "id": "49928a72-bf19-4e47-b107-90c0d03f132e",
   "metadata": {},
   "outputs": [],
   "source": [
    "import pandas as pd\n",
    "from pathlib import Path\n",
    "import os\n",
    "import json\n",
    "import spacy\n",
    "from sklearn.model_selection import RepeatedKFold\n",
    "import shutil\n",
    "import subprocess"
   ]
  },
  {
   "cell_type": "markdown",
   "id": "bb1f13f7-3a7e-493a-b0b6-a41fb45ed723",
   "metadata": {},
   "source": [
    "### Setup"
   ]
  },
  {
   "cell_type": "code",
   "execution_count": 8,
   "id": "58b1b764-5a18-415e-a049-11b87d23527a",
   "metadata": {},
   "outputs": [],
   "source": [
    "# Set path to python in the environment to use for model training\n",
    "env_path = \"/hps/software/users/chembl/ines/assays_description/bin/python\""
   ]
  },
  {
   "cell_type": "code",
   "execution_count": 9,
   "id": "8f8c859b-ac0a-4b95-b93b-9054322e6a3d",
   "metadata": {},
   "outputs": [],
   "source": [
    "#Settings for display (if needed)\n",
    "pd.set_option('display.max_colwidth', None)  # Set to None to display the full column width\n",
    "pd.set_option('display.max_rows', None)      # Set to None to display al"
   ]
  },
  {
   "cell_type": "markdown",
   "id": "58581e08-6072-4f00-b1be-d5c6de62c997",
   "metadata": {},
   "source": [
    "### Model training: Binding assays and functional assays"
   ]
  },
  {
   "cell_type": "markdown",
   "id": "c49b01c2-bed9-429c-b84e-216d955affae",
   "metadata": {},
   "source": [
    "##### Clean up dataset"
   ]
  },
  {
   "cell_type": "code",
   "execution_count": 10,
   "id": "2cc5f5d7-6d53-49fb-9458-50f1ea7e6fbf",
   "metadata": {},
   "outputs": [],
   "source": [
    "dataset = pd.read_csv('data/2_broad_category_training_data.csv')"
   ]
  },
  {
   "cell_type": "code",
   "execution_count": 11,
   "id": "e6842bfd-d211-44e9-a3fe-c03927f4a928",
   "metadata": {},
   "outputs": [
    {
     "data": {
      "text/html": [
       "<div>\n",
       "<style scoped>\n",
       "    .dataframe tbody tr th:only-of-type {\n",
       "        vertical-align: middle;\n",
       "    }\n",
       "\n",
       "    .dataframe tbody tr th {\n",
       "        vertical-align: top;\n",
       "    }\n",
       "\n",
       "    .dataframe thead th {\n",
       "        text-align: right;\n",
       "    }\n",
       "</style>\n",
       "<table border=\"1\" class=\"dataframe\">\n",
       "  <thead>\n",
       "    <tr style=\"text-align: right;\">\n",
       "      <th></th>\n",
       "      <th>assay_id</th>\n",
       "      <th>assay_type</th>\n",
       "      <th>description</th>\n",
       "      <th>label</th>\n",
       "      <th>bao_preferred_term</th>\n",
       "      <th>bao_id</th>\n",
       "    </tr>\n",
       "  </thead>\n",
       "  <tbody>\n",
       "    <tr>\n",
       "      <th>0</th>\n",
       "      <td>868</td>\n",
       "      <td>B</td>\n",
       "      <td>Inhibition of [3H]8-hydroxy-2-dipropylamino-1,2,3,4-tetrahydronaphthalene binding to 5-hydroxytryptamine 1A receptor in hippocampus region of rat brain; Residual radioligand binding higher than 50%</td>\n",
       "      <td>Radioligand competition, displacement, binding</td>\n",
       "      <td>radioligand binding assay</td>\n",
       "      <td>BAO_0002776</td>\n",
       "    </tr>\n",
       "    <tr>\n",
       "      <th>1</th>\n",
       "      <td>2027</td>\n",
       "      <td>B</td>\n",
       "      <td>Displacement of [3H]-5-HT from human 5-hydroxytryptamine 1D receptor beta</td>\n",
       "      <td>Radioligand competition, displacement, binding</td>\n",
       "      <td>radioligand binding assay</td>\n",
       "      <td>BAO_0002776</td>\n",
       "    </tr>\n",
       "    <tr>\n",
       "      <th>2</th>\n",
       "      <td>2430</td>\n",
       "      <td>B</td>\n",
       "      <td>Inhibition constant for in vitro inhibition of [3H]ketanserin binding to rat frontal cortex membranes 5-hydroxytryptamine 2A receptor</td>\n",
       "      <td>Radioligand competition, displacement, binding</td>\n",
       "      <td>radioligand binding assay</td>\n",
       "      <td>BAO_0002776</td>\n",
       "    </tr>\n",
       "    <tr>\n",
       "      <th>3</th>\n",
       "      <td>3306</td>\n",
       "      <td>B</td>\n",
       "      <td>Compound was evaluated for the binding affinity against human cloned 5-hydroxytryptamine 4 receptor in HeLa cells using [3H]-LSD as the radioligand</td>\n",
       "      <td>Radioligand competition, displacement, binding</td>\n",
       "      <td>radioligand binding assay</td>\n",
       "      <td>BAO_0002776</td>\n",
       "    </tr>\n",
       "    <tr>\n",
       "      <th>4</th>\n",
       "      <td>3703</td>\n",
       "      <td>B</td>\n",
       "      <td>In vitro binding affinity by radioligand binding assay using cell line expressing human 5-hydroxytryptamine 7 receptor; ND means not determined</td>\n",
       "      <td>Radioligand competition, displacement, binding</td>\n",
       "      <td>radioligand binding assay</td>\n",
       "      <td>BAO_0002776</td>\n",
       "    </tr>\n",
       "  </tbody>\n",
       "</table>\n",
       "</div>"
      ],
      "text/plain": [
       "   assay_id assay_type  \\\n",
       "0       868          B   \n",
       "1      2027          B   \n",
       "2      2430          B   \n",
       "3      3306          B   \n",
       "4      3703          B   \n",
       "\n",
       "                                                                                                                                                                                             description  \\\n",
       "0  Inhibition of [3H]8-hydroxy-2-dipropylamino-1,2,3,4-tetrahydronaphthalene binding to 5-hydroxytryptamine 1A receptor in hippocampus region of rat brain; Residual radioligand binding higher than 50%   \n",
       "1                                                                                                                              Displacement of [3H]-5-HT from human 5-hydroxytryptamine 1D receptor beta   \n",
       "2                                                                  Inhibition constant for in vitro inhibition of [3H]ketanserin binding to rat frontal cortex membranes 5-hydroxytryptamine 2A receptor   \n",
       "3                                                    Compound was evaluated for the binding affinity against human cloned 5-hydroxytryptamine 4 receptor in HeLa cells using [3H]-LSD as the radioligand   \n",
       "4                                                        In vitro binding affinity by radioligand binding assay using cell line expressing human 5-hydroxytryptamine 7 receptor; ND means not determined   \n",
       "\n",
       "                                            label         bao_preferred_term  \\\n",
       "0  Radioligand competition, displacement, binding  radioligand binding assay   \n",
       "1  Radioligand competition, displacement, binding  radioligand binding assay   \n",
       "2  Radioligand competition, displacement, binding  radioligand binding assay   \n",
       "3  Radioligand competition, displacement, binding  radioligand binding assay   \n",
       "4  Radioligand competition, displacement, binding  radioligand binding assay   \n",
       "\n",
       "        bao_id  \n",
       "0  BAO_0002776  \n",
       "1  BAO_0002776  \n",
       "2  BAO_0002776  \n",
       "3  BAO_0002776  \n",
       "4  BAO_0002776  "
      ]
     },
     "execution_count": 11,
     "metadata": {},
     "output_type": "execute_result"
    }
   ],
   "source": [
    "dataset.head()"
   ]
  },
  {
   "cell_type": "code",
   "execution_count": 12,
   "id": "3883b003-2e51-4a36-9205-5eaffa6bc496",
   "metadata": {},
   "outputs": [
    {
     "data": {
      "text/plain": [
       "label\n",
       "Nucleic acid binding                              176\n",
       "Protein activity                                  171\n",
       "Binding affinity, displacement, competition       134\n",
       "Radioligand competition, displacement, binding    118\n",
       "Cell phenotype                                    113\n",
       "Antimicrobial activity                             88\n",
       "in vivo method                                     63\n",
       "Name: count, dtype: int64"
      ]
     },
     "execution_count": 12,
     "metadata": {},
     "output_type": "execute_result"
    }
   ],
   "source": [
    "dataset.value_counts(subset='label')"
   ]
  },
  {
   "cell_type": "code",
   "execution_count": 7,
   "id": "dc6be0d4-8981-4a39-8ed7-8ba753374478",
   "metadata": {
    "execution": {
     "iopub.execute_input": "2025-01-22T15:47:26.690884Z",
     "iopub.status.busy": "2025-01-22T15:47:26.690699Z",
     "iopub.status.idle": "2025-01-22T15:47:26.694448Z",
     "shell.execute_reply": "2025-01-22T15:47:26.694001Z"
    }
   },
   "outputs": [],
   "source": [
    "# Can only train the large categories\n",
    "chosen_categories = [\n",
    "    'Nucleic acid binding'\n",
    "    , 'Protein activity'\n",
    "    , 'Binding affinity, displacement, competition'\n",
    "    , 'Radioligand competition, displacement, binding'\n",
    "    , 'Cell phenotype'\n",
    "    , 'Antimicrobial activity'\n",
    "    , 'in vivo method'\n",
    "]"
   ]
  },
  {
   "cell_type": "code",
   "execution_count": 8,
   "id": "73943633-b52b-40b8-b219-ec220d806067",
   "metadata": {
    "execution": {
     "iopub.execute_input": "2025-01-22T15:47:26.696712Z",
     "iopub.status.busy": "2025-01-22T15:47:26.696525Z",
     "iopub.status.idle": "2025-01-22T15:47:26.725102Z",
     "shell.execute_reply": "2025-01-22T15:47:26.724695Z"
    }
   },
   "outputs": [],
   "source": [
    "processed_df = dataset.loc[dataset['label'].isin(chosen_categories)]"
   ]
  },
  {
   "cell_type": "code",
   "execution_count": 9,
   "id": "dc5ab5d0-4280-497d-a2a1-909387271eda",
   "metadata": {
    "execution": {
     "iopub.execute_input": "2025-01-22T15:47:26.727606Z",
     "iopub.status.busy": "2025-01-22T15:47:26.727426Z",
     "iopub.status.idle": "2025-01-22T15:47:26.733866Z",
     "shell.execute_reply": "2025-01-22T15:47:26.733427Z"
    }
   },
   "outputs": [],
   "source": [
    "value_dict = {\n",
    "    'Radioligand competition, displacement, binding': {'Radioligand binding (BAO_0002776)': 1.0, 'Binding (BAO_0002989)': 0.0, 'Protein activity (BAO_0013016)': 0.0, 'in vivo method (BAO_0040021)': 0.0, 'Cell phenotype (BAO_0002542)': 0.0, 'Nucleic acid binding': 0.0, 'Antimicrobial activity': 0.0}\n",
    "    , 'Binding affinity, displacement, competition': {'Radioligand binding (BAO_0002776)': 0.0, 'Binding (BAO_0002989)': 1.0, 'Protein activity (BAO_0013016)': 0.0, 'in vivo method (BAO_0040021)': 0.0, 'Cell phenotype (BAO_0002542)': 0.0, 'Nucleic acid binding': 0.0, 'Antimicrobial activity': 0.0}\n",
    "    , 'Protein activity': {'Radioligand binding (BAO_0002776)': 0.0, 'Binding (BAO_0002989)': 0.0, 'Protein activity (BAO_0013016)': 1.0, 'in vivo method (BAO_0040021)': 0.0, 'Cell phenotype (BAO_0002542)': 0.0, 'Nucleic acid binding': 0.0, 'Antimicrobial activity': 0.0}\n",
    "    , 'in vivo method': {'Radioligand binding (BAO_0002776)': 0.0, 'Binding (BAO_0002989)': 0.0, 'Protein activity (BAO_0013016)': 0.0, 'in vivo method (BAO_0040021)': 1.0, 'Cell phenotype (BAO_0002542)': 0.0, 'Nucleic acid binding': 0.0, 'Antimicrobial activity': 0.0}\n",
    "    , 'Cell phenotype': {'Radioligand binding (BAO_0002776)': 0.0, 'Binding (BAO_0002989)': 0.0, 'Protein activity (BAO_0013016)': 0.0, 'in vivo method (BAO_0040021)': 0.0, 'Cell phenotype (BAO_0002542)': 1.0, 'Nucleic acid binding': 0.0, 'Antimicrobial activity': 0.0}\n",
    "    , 'Nucleic acid binding': {'Radioligand binding (BAO_0002776)': 0.0, 'Binding (BAO_0002989)': 0.0, 'Protein activity (BAO_0013016)': 0.0, 'in vivo method (BAO_0040021)': 0.0, 'Cell phenotype (BAO_0002542)': 0.0, 'Nucleic acid binding': 1.0, 'Antimicrobial activity': 0.0}\n",
    "    , 'Antimicrobial activity': {'Radioligand binding (BAO_0002776)': 0.0, 'Binding (BAO_0002989)': 0.0, 'Protein activity (BAO_0013016)': 0.0, 'in vivo method (BAO_0040021)': 0.0, 'Cell phenotype (BAO_0002542)': 0.0, 'Nucleic acid binding': 0.0, 'Antimicrobial activity': 1.0}\n",
    "\n",
    "}"
   ]
  },
  {
   "cell_type": "code",
   "execution_count": 10,
   "id": "6ec7c20f-8851-4e3f-ba4a-26bd8772689f",
   "metadata": {
    "execution": {
     "iopub.execute_input": "2025-01-22T15:47:26.736266Z",
     "iopub.status.busy": "2025-01-22T15:47:26.736080Z",
     "iopub.status.idle": "2025-01-22T15:47:26.741776Z",
     "shell.execute_reply": "2025-01-22T15:47:26.741311Z"
    }
   },
   "outputs": [
    {
     "name": "stderr",
     "output_type": "stream",
     "text": [
      "/tmp/ipykernel_199556/479963469.py:1: SettingWithCopyWarning: \n",
      "A value is trying to be set on a copy of a slice from a DataFrame.\n",
      "Try using .loc[row_indexer,col_indexer] = value instead\n",
      "\n",
      "See the caveats in the documentation: https://pandas.pydata.org/pandas-docs/stable/user_guide/indexing.html#returning-a-view-versus-a-copy\n",
      "  processed_df['cats'] = (\n"
     ]
    }
   ],
   "source": [
    "processed_df['cats'] = (\n",
    "    processed_df['label']\n",
    "    .apply(lambda x: value_dict[x])\n",
    ")"
   ]
  },
  {
   "cell_type": "code",
   "execution_count": 11,
   "id": "cb1d5d4f-df7a-432a-9f09-6d3ca0db333e",
   "metadata": {
    "execution": {
     "iopub.execute_input": "2025-01-22T15:47:26.744111Z",
     "iopub.status.busy": "2025-01-22T15:47:26.743930Z",
     "iopub.status.idle": "2025-01-22T15:47:26.749024Z",
     "shell.execute_reply": "2025-01-22T15:47:26.748559Z"
    }
   },
   "outputs": [
    {
     "name": "stderr",
     "output_type": "stream",
     "text": [
      "/tmp/ipykernel_199556/3262683888.py:1: SettingWithCopyWarning: \n",
      "A value is trying to be set on a copy of a slice from a DataFrame\n",
      "\n",
      "See the caveats in the documentation: https://pandas.pydata.org/pandas-docs/stable/user_guide/indexing.html#returning-a-view-versus-a-copy\n",
      "  processed_df.rename(columns={'description': 'text'}, inplace=True)\n"
     ]
    }
   ],
   "source": [
    "processed_df.rename(columns={'description': 'text'}, inplace=True)"
   ]
  },
  {
   "cell_type": "code",
   "execution_count": 12,
   "id": "3c213c29-fbb6-449f-a7ca-50211c84bf1c",
   "metadata": {
    "execution": {
     "iopub.execute_input": "2025-01-22T15:47:26.751306Z",
     "iopub.status.busy": "2025-01-22T15:47:26.751121Z",
     "iopub.status.idle": "2025-01-22T15:47:26.762276Z",
     "shell.execute_reply": "2025-01-22T15:47:26.761846Z"
    }
   },
   "outputs": [],
   "source": [
    "processed_df = processed_df[['text', 'cats']]"
   ]
  },
  {
   "cell_type": "markdown",
   "id": "9c17806a-f42c-41df-ba82-397be6560b85",
   "metadata": {},
   "source": [
    "#### Save training file"
   ]
  },
  {
   "cell_type": "code",
   "execution_count": 13,
   "id": "653badf8-833e-4b70-9169-8767c639e4ee",
   "metadata": {
    "execution": {
     "iopub.execute_input": "2025-01-22T15:47:26.764631Z",
     "iopub.status.busy": "2025-01-22T15:47:26.764453Z",
     "iopub.status.idle": "2025-01-22T15:47:26.791650Z",
     "shell.execute_reply": "2025-01-22T15:47:26.791220Z"
    }
   },
   "outputs": [],
   "source": [
    "mpath = \"Model\"\n",
    "dirpath = Path(mpath)\n",
    "if dirpath.exists():\n",
    "    shutil.rmtree(dirpath)\n",
    "os.makedirs(mpath)\n",
    "\n",
    "# Write to JSONL files\n",
    "with open(os.path.join(mpath,'assays_train.jsonl'), 'w') as f:\n",
    "    f.write(processed_df.to_json(orient='records', lines=True))"
   ]
  },
  {
   "cell_type": "markdown",
   "id": "89517860-3fb3-4a3e-b145-1dc49df2c80f",
   "metadata": {},
   "source": [
    "#### Do training"
   ]
  },
  {
   "cell_type": "code",
   "execution_count": 14,
   "id": "766f0e39-9248-484b-b6ef-f85f9051f921",
   "metadata": {
    "execution": {
     "iopub.execute_input": "2025-01-22T15:47:26.794153Z",
     "iopub.status.busy": "2025-01-22T15:47:26.793973Z",
     "iopub.status.idle": "2025-01-22T15:47:26.799171Z",
     "shell.execute_reply": "2025-01-22T15:47:26.798741Z"
    }
   },
   "outputs": [
    {
     "data": {
      "text/plain": [
       "'/homes/ines/repos/assays_description/2_broad_assay_category'"
      ]
     },
     "execution_count": 14,
     "metadata": {},
     "output_type": "execute_result"
    }
   ],
   "source": [
    "pwd"
   ]
  },
  {
   "cell_type": "code",
   "execution_count": 15,
   "id": "285cb710-6494-48c6-9933-760a5f385ea1",
   "metadata": {
    "execution": {
     "iopub.execute_input": "2025-01-22T15:47:26.801480Z",
     "iopub.status.busy": "2025-01-22T15:47:26.801291Z",
     "iopub.status.idle": "2025-01-22T15:58:23.792623Z",
     "shell.execute_reply": "2025-01-22T15:58:23.792122Z"
    }
   },
   "outputs": [
    {
     "name": "stdout",
     "output_type": "stream",
     "text": [
      "\u001b[38;5;4mℹ Saving to output directory: training\u001b[0m\n",
      "\u001b[38;5;4mℹ Using CPU\u001b[0m\n",
      "\u001b[1m\n",
      "=========================== Initializing pipeline ===========================\u001b[0m\n",
      "\u001b[38;5;2m✔ Initialized pipeline\u001b[0m\n",
      "\u001b[1m\n",
      "============================= Training pipeline =============================\u001b[0m\n",
      "\u001b[38;5;4mℹ Pipeline: ['tok2vec', 'textcat_multilabel']\u001b[0m\n",
      "\u001b[38;5;4mℹ Initial learn rate: 0.0\u001b[0m\n",
      "E    #       LOSS TOK2VEC  LOSS TEXTC...  CATS_SCORE  SCORE \n",
      "---  ------  ------------  -------------  ----------  ------\n"
     ]
    },
    {
     "name": "stdout",
     "output_type": "stream",
     "text": [
      "  0       0          0.58           0.43       52.96    0.53\n"
     ]
    },
    {
     "name": "stdout",
     "output_type": "stream",
     "text": [
      "  1     200         92.62          60.48       61.01    0.61\n"
     ]
    },
    {
     "name": "stdout",
     "output_type": "stream",
     "text": [
      "  2     400         47.02          29.76       79.00    0.79\n"
     ]
    },
    {
     "name": "stdout",
     "output_type": "stream",
     "text": [
      "  4     600         31.08          21.00       89.29    0.89\n"
     ]
    },
    {
     "name": "stdout",
     "output_type": "stream",
     "text": [
      "  6     800         31.99          15.39       93.65    0.94\n"
     ]
    },
    {
     "name": "stdout",
     "output_type": "stream",
     "text": [
      "  8    1000         34.01          12.31       95.90    0.96\n"
     ]
    },
    {
     "name": "stdout",
     "output_type": "stream",
     "text": [
      " 11    1200         37.30           9.70       97.12    0.97\n"
     ]
    },
    {
     "name": "stdout",
     "output_type": "stream",
     "text": [
      " 15    1400         35.54           8.11       97.93    0.98\n"
     ]
    },
    {
     "name": "stdout",
     "output_type": "stream",
     "text": [
      " 20    1600         42.54           6.54       98.62    0.99\n"
     ]
    },
    {
     "name": "stdout",
     "output_type": "stream",
     "text": [
      " 26    1800         44.57           5.26       98.85    0.99\n"
     ]
    },
    {
     "name": "stdout",
     "output_type": "stream",
     "text": [
      " 33    2000         43.40           4.12       99.33    0.99\n"
     ]
    },
    {
     "name": "stdout",
     "output_type": "stream",
     "text": [
      " 41    2200         48.43           3.17       99.48    0.99\n"
     ]
    },
    {
     "name": "stdout",
     "output_type": "stream",
     "text": [
      " 52    2400         49.04           2.44       99.53    1.00\n"
     ]
    },
    {
     "name": "stdout",
     "output_type": "stream",
     "text": [
      " 62    2600         41.28           1.88       99.60    1.00\n"
     ]
    },
    {
     "name": "stdout",
     "output_type": "stream",
     "text": [
      " 73    2800         31.80           1.49       99.62    1.00\n"
     ]
    },
    {
     "name": "stdout",
     "output_type": "stream",
     "text": [
      " 83    3000         25.34           1.10       99.65    1.00\n"
     ]
    },
    {
     "name": "stdout",
     "output_type": "stream",
     "text": [
      " 94    3200         25.31           0.96       99.69    1.00\n"
     ]
    },
    {
     "name": "stdout",
     "output_type": "stream",
     "text": [
      "104    3400         20.44           0.70       99.77    1.00\n"
     ]
    },
    {
     "name": "stdout",
     "output_type": "stream",
     "text": [
      "115    3600         14.80           0.55       99.76    1.00\n"
     ]
    },
    {
     "name": "stdout",
     "output_type": "stream",
     "text": [
      "125    3800         15.27           0.47       99.79    1.00\n"
     ]
    },
    {
     "name": "stdout",
     "output_type": "stream",
     "text": [
      "136    4000         11.09           0.37       99.83    1.00\n"
     ]
    },
    {
     "name": "stdout",
     "output_type": "stream",
     "text": [
      "146    4200         10.46           0.36       99.88    1.00\n"
     ]
    },
    {
     "name": "stdout",
     "output_type": "stream",
     "text": [
      "157    4400          9.07           0.28       99.90    1.00\n"
     ]
    },
    {
     "name": "stdout",
     "output_type": "stream",
     "text": [
      "167    4600          9.23           0.30       99.92    1.00\n"
     ]
    },
    {
     "name": "stdout",
     "output_type": "stream",
     "text": [
      "178    4800          4.35           0.23       99.94    1.00\n"
     ]
    },
    {
     "name": "stdout",
     "output_type": "stream",
     "text": [
      "188    5000          5.90           0.20       99.97    1.00\n"
     ]
    },
    {
     "name": "stdout",
     "output_type": "stream",
     "text": [
      "199    5200          3.68           0.18       99.98    1.00\n"
     ]
    },
    {
     "name": "stdout",
     "output_type": "stream",
     "text": [
      "209    5400          5.60           0.16       99.98    1.00\n"
     ]
    },
    {
     "name": "stdout",
     "output_type": "stream",
     "text": [
      "220    5600          2.65           0.16       99.99    1.00\n"
     ]
    },
    {
     "name": "stdout",
     "output_type": "stream",
     "text": [
      "231    5800          4.87           0.14      100.00    1.00\n"
     ]
    },
    {
     "name": "stdout",
     "output_type": "stream",
     "text": [
      "241    6000          3.38           0.12      100.00    1.00\n"
     ]
    },
    {
     "name": "stdout",
     "output_type": "stream",
     "text": [
      "252    6200          2.48           0.09      100.00    1.00\n"
     ]
    },
    {
     "name": "stdout",
     "output_type": "stream",
     "text": [
      "262    6400          3.65           0.09      100.00    1.00\n"
     ]
    },
    {
     "name": "stdout",
     "output_type": "stream",
     "text": [
      "273    6600          4.23           0.06      100.00    1.00\n"
     ]
    },
    {
     "name": "stdout",
     "output_type": "stream",
     "text": [
      "283    6800          2.68           0.05      100.00    1.00\n"
     ]
    },
    {
     "name": "stdout",
     "output_type": "stream",
     "text": [
      "294    7000          1.79           0.03      100.00    1.00\n"
     ]
    },
    {
     "name": "stdout",
     "output_type": "stream",
     "text": [
      "304    7200          1.34           0.04      100.00    1.00\n"
     ]
    },
    {
     "name": "stdout",
     "output_type": "stream",
     "text": [
      "315    7400          2.11           0.03      100.00    1.00\n"
     ]
    },
    {
     "name": "stdout",
     "output_type": "stream",
     "text": [
      "325    7600          3.97           0.04      100.00    1.00\n"
     ]
    },
    {
     "name": "stdout",
     "output_type": "stream",
     "text": [
      "336    7800          1.72           0.02      100.00    1.00\n",
      "\u001b[38;5;2m✔ Saved pipeline to output directory\u001b[0m\n",
      "training/model-last\n"
     ]
    },
    {
     "name": "stdout",
     "output_type": "stream",
     "text": [
      "\u001b[38;5;4mℹ Running workflow 'final'\u001b[0m\n",
      "\u001b[1m\n",
      "=========================== convert-training-only ===========================\u001b[0m\n",
      "Running command: /hps/software/users/chembl/ines/assays_description/bin/python scripts/convert.py en assets/assays_train.jsonl corpus/train.spacy\n",
      "\u001b[1m\n",
      "================================ train-final ================================\u001b[0m\n",
      "Running command: /hps/software/users/chembl/ines/assays_description/bin/python -m spacy train configs/config.cfg --output training/ --paths.train corpus/train.spacy --nlp.lang en --gpu-id -1\n"
     ]
    }
   ],
   "source": [
    "#set up path for training data\n",
    "train = os.path.join('../', mpath,'assays_train.jsonl')\n",
    "\n",
    "# Chdir to the pipeline template folder\n",
    "os.chdir('textcat_broad_categories')\n",
    "\n",
    "os.mkdir('assets')\n",
    "os.mkdir('training')\n",
    "\n",
    "#Copy the current input files to the pipeline path\n",
    "shutil.copy(train, os.path.join('assets/'))\n",
    "\n",
    "#Run the pipeline\n",
    "command = f'{env_path} -m weasel run final'\n",
    "subprocess.run(command, shell=True, capture_output=False, text=True)\n",
    "\n",
    "#Move outputs to the folder\n",
    "opath = os.path.join('../', mpath, 'training')\n",
    "shutil.copytree('training', opath, dirs_exist_ok=True)\n",
    "\n",
    "# Remove directories to start clean\n",
    "shutil.rmtree('assets')\n",
    "shutil.rmtree('training')\n",
    "shutil.rmtree('corpus')\n",
    "os.remove('project.lock')\n",
    "\n",
    "os.chdir('../')"
   ]
  },
  {
   "cell_type": "code",
   "execution_count": null,
   "id": "cd0f2d90-457b-4ed0-8793-9ed3acbd9d06",
   "metadata": {},
   "outputs": [],
   "source": []
  }
 ],
 "metadata": {
  "kernelspec": {
   "display_name": "Python 3 (ipykernel)",
   "language": "python",
   "name": "python3"
  },
  "language_info": {
   "codemirror_mode": {
    "name": "ipython",
    "version": 3
   },
   "file_extension": ".py",
   "mimetype": "text/x-python",
   "name": "python",
   "nbconvert_exporter": "python",
   "pygments_lexer": "ipython3",
   "version": "3.11.7"
  }
 },
 "nbformat": 4,
 "nbformat_minor": 5
}
