{
 "cells": [
  {
   "cell_type": "code",
   "execution_count": 1,
   "id": "2dfc18f2-624f-4987-bf1f-8da8d0ff80b7",
   "metadata": {},
   "outputs": [],
   "source": [
    "# Physical detection method BAO_0000035\n",
    "# assay bioassay component > bioassay BAO_0000015\n",
    "# assay method component > assay method BAO_0003028\n",
    "# BAO_0000248 assay kit\n",
    "# secondary assay BAO_0000032\n",
    "## molecular entity BAO_0003043"
   ]
  },
  {
   "cell_type": "markdown",
   "id": "081df8d4-8d97-408b-906d-50bb53f172a1",
   "metadata": {},
   "source": [
    "## Use BioPortal API to get descendants for branches of interest and save to file"
   ]
  },
  {
   "cell_type": "code",
   "execution_count": 2,
   "id": "e2bdf42a-4a09-4e66-a532-dc4c139f5b54",
   "metadata": {},
   "outputs": [],
   "source": [
    "import urllib.request, urllib.error, urllib.parse\n",
    "import json\n",
    "import pandas as pd"
   ]
  },
  {
   "cell_type": "code",
   "execution_count": 3,
   "id": "f97c362b-1394-41da-b43a-dee99397051c",
   "metadata": {},
   "outputs": [],
   "source": [
    "REST_URL = \"http://data.bioontology.org\"\n",
    "encoded_url = \"http%3A%2F%2Fwww.bioassayontology.org%2Fbao%23\"\n",
    "\n",
    "with open('bioportal_api_key.txt') as f:\n",
    "    API_KEY = f.read()"
   ]
  },
  {
   "cell_type": "code",
   "execution_count": 4,
   "id": "905c2347-cea0-48c7-abcc-66f3c0133d30",
   "metadata": {},
   "outputs": [],
   "source": [
    "def get_json(url):\n",
    "    opener = urllib.request.build_opener()\n",
    "    opener.addheaders = [('Authorization', 'apikey token=' + API_KEY)]\n",
    "    return json.loads(opener.open(url).read())"
   ]
  },
  {
   "cell_type": "code",
   "execution_count": 5,
   "id": "9d5a7859-9e42-4dc8-9b2e-f0bedbb419cd",
   "metadata": {},
   "outputs": [],
   "source": [
    "def get_children(term):\n",
    "    request = REST_URL + '/ontologies/BAO/classes/' + encoded_url + term + '/children?pagesize=200'\n",
    "    result = get_json(request)['collection']\n",
    "    \n",
    "    for i in result:\n",
    "        id = i['@id']\n",
    "        pref_name = i['prefLabel']\n",
    "        search_results.append((id, pref_name))\n",
    "        \n",
    "        if 'bioassay' in id:\n",
    "            term_id = i['@id'].split('#')[-1]\n",
    "            get_children(term_id)"
   ]
  },
  {
   "cell_type": "code",
   "execution_count": 6,
   "id": "76e02522-445a-47a4-882a-4222ae6b4b78",
   "metadata": {},
   "outputs": [],
   "source": [
    "def get_descendants(term):\n",
    "    request = REST_URL + '/ontologies/BAO/classes/' + encoded_url + term + '/descendants?pagesize=200'\n",
    "    result = get_json(request)['collection']\n",
    "    \n",
    "    for i in result:\n",
    "        id = i['@id']\n",
    "        pref_name = i['prefLabel']\n",
    "        search_results.append((id, pref_name))"
   ]
  },
  {
   "cell_type": "code",
   "execution_count": 7,
   "id": "a886bd81-6ae5-4936-beec-4d7758b5750a",
   "metadata": {},
   "outputs": [],
   "source": [
    "def get_pref_name(term):\n",
    "    request = REST_URL + '/ontologies/BAO/classes/' + encoded_url + term\n",
    "    result = get_json(request)['prefLabel']\n",
    "    return result"
   ]
  },
  {
   "cell_type": "code",
   "execution_count": 8,
   "id": "e0c0c0a7-075a-4615-b9fc-e071ef8cb5da",
   "metadata": {},
   "outputs": [],
   "source": [
    "dfs = []\n",
    "for bao_id in ['BAO_0000032', 'BAO_0000035', 'BAO_0000015', 'BAO_0003028', 'BAO_0000248', 'BAO_0003043']:    \n",
    "    search_results = []\n",
    "    get_children(bao_id)\n",
    "    dfs.append(search_results)"
   ]
  },
  {
   "cell_type": "code",
   "execution_count": 9,
   "id": "21de290f-a155-4a90-ae84-4f8508a96d19",
   "metadata": {},
   "outputs": [
    {
     "data": {
      "text/plain": [
       "6"
      ]
     },
     "execution_count": 9,
     "metadata": {},
     "output_type": "execute_result"
    }
   ],
   "source": [
    "len(dfs)"
   ]
  },
  {
   "cell_type": "code",
   "execution_count": 10,
   "id": "c670fb66-15e3-41f5-9fab-12b80ceaa025",
   "metadata": {},
   "outputs": [],
   "source": [
    "list_of_term_dfs = []\n",
    "\n",
    "for df, bao_id in zip(dfs, ['BAO_0000032', 'BAO_0000035', 'BAO_0000015', 'BAO_0003028', 'BAO_0000248', 'BAO_0003043']):\n",
    "    terms_df = pd.DataFrame(df)\n",
    "    terms_df.columns = ['link', 'term']\n",
    "    terms_df['branch_id'] = bao_id\n",
    "    pref_name = get_pref_name(bao_id)\n",
    "    terms_df['branch_pref_name'] = pref_name\n",
    "\n",
    "    list_of_term_dfs.append(terms_df)"
   ]
  },
  {
   "cell_type": "code",
   "execution_count": 11,
   "id": "9a8025eb-2672-425d-89dd-d4d614083a22",
   "metadata": {},
   "outputs": [],
   "source": [
    "combined_df = pd.concat(list_of_term_dfs)\n",
    "combined_df['id'] = combined_df['link'].apply(lambda x: x.split('#')[-1] if 'bao#' in x else x.split('/')[-1])"
   ]
  },
  {
   "cell_type": "code",
   "execution_count": 12,
   "id": "d4e40495-789a-4ba1-b421-3b988adc112a",
   "metadata": {
    "scrolled": true
   },
   "outputs": [
    {
     "data": {
      "text/html": [
       "<div>\n",
       "<style scoped>\n",
       "    .dataframe tbody tr th:only-of-type {\n",
       "        vertical-align: middle;\n",
       "    }\n",
       "\n",
       "    .dataframe tbody tr th {\n",
       "        vertical-align: top;\n",
       "    }\n",
       "\n",
       "    .dataframe thead th {\n",
       "        text-align: right;\n",
       "    }\n",
       "</style>\n",
       "<table border=\"1\" class=\"dataframe\">\n",
       "  <thead>\n",
       "    <tr style=\"text-align: right;\">\n",
       "      <th></th>\n",
       "      <th>link</th>\n",
       "      <th>term</th>\n",
       "      <th>branch_id</th>\n",
       "      <th>branch_pref_name</th>\n",
       "      <th>id</th>\n",
       "    </tr>\n",
       "  </thead>\n",
       "  <tbody>\n",
       "    <tr>\n",
       "      <th>406</th>\n",
       "      <td>http://www.bioassayontology.org/bao#BAO_0000796</td>\n",
       "      <td>ketoconazole</td>\n",
       "      <td>BAO_0003043</td>\n",
       "      <td>molecular entity</td>\n",
       "      <td>BAO_0000796</td>\n",
       "    </tr>\n",
       "    <tr>\n",
       "      <th>407</th>\n",
       "      <td>http://www.bioassayontology.org/bao#BAO_0000844</td>\n",
       "      <td>alkaline phosphatase-cAMP</td>\n",
       "      <td>BAO_0003043</td>\n",
       "      <td>molecular entity</td>\n",
       "      <td>BAO_0000844</td>\n",
       "    </tr>\n",
       "    <tr>\n",
       "      <th>408</th>\n",
       "      <td>http://www.bioassayontology.org/bao#BAO_0000846</td>\n",
       "      <td>7-amino-4-methylcoumarin</td>\n",
       "      <td>BAO_0003043</td>\n",
       "      <td>molecular entity</td>\n",
       "      <td>BAO_0000846</td>\n",
       "    </tr>\n",
       "    <tr>\n",
       "      <th>409</th>\n",
       "      <td>http://www.bioassayontology.org/bao#BAO_0000840</td>\n",
       "      <td>7-amino-4-trifluoromethylcoumarin</td>\n",
       "      <td>BAO_0003043</td>\n",
       "      <td>molecular entity</td>\n",
       "      <td>BAO_0000840</td>\n",
       "    </tr>\n",
       "    <tr>\n",
       "      <th>410</th>\n",
       "      <td>http://www.bioassayontology.org/bao#BAO_0000848</td>\n",
       "      <td>angiotensin II</td>\n",
       "      <td>BAO_0003043</td>\n",
       "      <td>molecular entity</td>\n",
       "      <td>BAO_0000848</td>\n",
       "    </tr>\n",
       "  </tbody>\n",
       "</table>\n",
       "</div>"
      ],
      "text/plain": [
       "                                                link  \\\n",
       "406  http://www.bioassayontology.org/bao#BAO_0000796   \n",
       "407  http://www.bioassayontology.org/bao#BAO_0000844   \n",
       "408  http://www.bioassayontology.org/bao#BAO_0000846   \n",
       "409  http://www.bioassayontology.org/bao#BAO_0000840   \n",
       "410  http://www.bioassayontology.org/bao#BAO_0000848   \n",
       "\n",
       "                                  term    branch_id  branch_pref_name  \\\n",
       "406                       ketoconazole  BAO_0003043  molecular entity   \n",
       "407          alkaline phosphatase-cAMP  BAO_0003043  molecular entity   \n",
       "408           7-amino-4-methylcoumarin  BAO_0003043  molecular entity   \n",
       "409  7-amino-4-trifluoromethylcoumarin  BAO_0003043  molecular entity   \n",
       "410                     angiotensin II  BAO_0003043  molecular entity   \n",
       "\n",
       "              id  \n",
       "406  BAO_0000796  \n",
       "407  BAO_0000844  \n",
       "408  BAO_0000846  \n",
       "409  BAO_0000840  \n",
       "410  BAO_0000848  "
      ]
     },
     "execution_count": 12,
     "metadata": {},
     "output_type": "execute_result"
    }
   ],
   "source": [
    "combined_df.tail()"
   ]
  },
  {
   "cell_type": "code",
   "execution_count": 13,
   "id": "6c9cb259-9cfb-4292-b399-b1b67f376452",
   "metadata": {},
   "outputs": [],
   "source": [
    "combined_df.to_csv('bao_branches_of_interest_descendants.csv', index=False)"
   ]
  },
  {
   "cell_type": "markdown",
   "id": "be12a236-085b-4073-9121-0440293caac4",
   "metadata": {},
   "source": [
    "## Load previously obtained branches + descendents"
   ]
  },
  {
   "cell_type": "code",
   "execution_count": 3,
   "id": "2386e6d1-e74a-4176-917a-00f46bb3baf0",
   "metadata": {},
   "outputs": [],
   "source": [
    "combined_df = pd.read_csv('bao_branches_of_interest_descendants.csv')"
   ]
  },
  {
   "cell_type": "code",
   "execution_count": 4,
   "id": "e759dad4-ca2d-4c9a-9ba9-5bc474f613ff",
   "metadata": {},
   "outputs": [],
   "source": [
    "id_dict = combined_df.groupby('branch_id').agg({'id': set, 'branch_pref_name': 'first'}).to_dict(orient='index')"
   ]
  },
  {
   "cell_type": "code",
   "execution_count": 5,
   "id": "ae79ae38-1383-4598-8146-8ad3e7c29b77",
   "metadata": {},
   "outputs": [
    {
     "data": {
      "text/plain": [
       "dict_keys(['BAO_0000015', 'BAO_0000032', 'BAO_0000035', 'BAO_0000248', 'BAO_0003028', 'BAO_0003043'])"
      ]
     },
     "execution_count": 5,
     "metadata": {},
     "output_type": "execute_result"
    }
   ],
   "source": [
    "id_dict.keys()"
   ]
  },
  {
   "cell_type": "code",
   "execution_count": 6,
   "id": "ec345a49-c2f5-48c2-a084-5a418dcd1ac4",
   "metadata": {},
   "outputs": [
    {
     "data": {
      "text/plain": [
       "[('BAO_0000015', 'bioassay'),\n",
       " ('BAO_0000032', 'secondary assay'),\n",
       " ('BAO_0000035', 'physical detection method'),\n",
       " ('BAO_0000248', 'assay kit'),\n",
       " ('BAO_0003028', 'assay method'),\n",
       " ('BAO_0003043', 'molecular entity')]"
      ]
     },
     "execution_count": 6,
     "metadata": {},
     "output_type": "execute_result"
    }
   ],
   "source": [
    "[(key, id_dict[key]['branch_pref_name']) for key in id_dict.keys()]"
   ]
  },
  {
   "cell_type": "markdown",
   "id": "8370952f-02a1-4ce5-9cf6-14d63de9b143",
   "metadata": {},
   "source": [
    "## Analyse branches in the gold standard"
   ]
  },
  {
   "cell_type": "code",
   "execution_count": 7,
   "id": "a34bfbac-6396-425f-b400-87426e9f2453",
   "metadata": {},
   "outputs": [],
   "source": [
    "# done on 12 Feb\n",
    "gold_standard = pd.read_csv('../data/BAO_linking_gold_standard.csv')"
   ]
  },
  {
   "cell_type": "code",
   "execution_count": 8,
   "id": "28c736e8-6fe8-47c2-9d15-3b4dac559caa",
   "metadata": {},
   "outputs": [],
   "source": [
    "gold_standard_bao = gold_standard.loc[~gold_standard['bao_id'].isnull()]"
   ]
  },
  {
   "cell_type": "code",
   "execution_count": 9,
   "id": "71962a1e-f7c7-4332-9163-547312808292",
   "metadata": {},
   "outputs": [
    {
     "data": {
      "text/html": [
       "<div>\n",
       "<style scoped>\n",
       "    .dataframe tbody tr th:only-of-type {\n",
       "        vertical-align: middle;\n",
       "    }\n",
       "\n",
       "    .dataframe tbody tr th {\n",
       "        vertical-align: top;\n",
       "    }\n",
       "\n",
       "    .dataframe thead th {\n",
       "        text-align: right;\n",
       "    }\n",
       "</style>\n",
       "<table border=\"1\" class=\"dataframe\">\n",
       "  <thead>\n",
       "    <tr style=\"text-align: right;\">\n",
       "      <th></th>\n",
       "      <th>assay_id</th>\n",
       "      <th>assay_type</th>\n",
       "      <th>description</th>\n",
       "      <th>method</th>\n",
       "      <th>bao_preferred_term</th>\n",
       "      <th>bao_id</th>\n",
       "    </tr>\n",
       "  </thead>\n",
       "  <tbody>\n",
       "    <tr>\n",
       "      <th>0</th>\n",
       "      <td>1870082</td>\n",
       "      <td>B</td>\n",
       "      <td>Agonist activity at GAL4 DNA binding domain fu...</td>\n",
       "      <td>FRET-based assay</td>\n",
       "      <td>fluorescence resonance energy transfer</td>\n",
       "      <td>BAO_0000001</td>\n",
       "    </tr>\n",
       "    <tr>\n",
       "      <th>1</th>\n",
       "      <td>1991217</td>\n",
       "      <td>B</td>\n",
       "      <td>Agonist activity at human FXR expressed in hum...</td>\n",
       "      <td>luciferase reporter gene assay</td>\n",
       "      <td>luciferase reporter gene assay</td>\n",
       "      <td>BAO_0002661</td>\n",
       "    </tr>\n",
       "    <tr>\n",
       "      <th>2</th>\n",
       "      <td>2168604</td>\n",
       "      <td>B</td>\n",
       "      <td>Antagonist activity at ERbeta (unknown origin)...</td>\n",
       "      <td>LanthaScreen TR-FRET assay</td>\n",
       "      <td>time resolved fluorescence resonance energy tr...</td>\n",
       "      <td>BAO_0000004</td>\n",
       "    </tr>\n",
       "    <tr>\n",
       "      <th>3</th>\n",
       "      <td>643730</td>\n",
       "      <td>B</td>\n",
       "      <td>Antagonist activity at mouse cloned Smo recept...</td>\n",
       "      <td>luciferase reporter gene assay</td>\n",
       "      <td>luciferase reporter gene assay</td>\n",
       "      <td>BAO_0002661</td>\n",
       "    </tr>\n",
       "    <tr>\n",
       "      <th>4</th>\n",
       "      <td>835167</td>\n",
       "      <td>B</td>\n",
       "      <td>Inhibition of FGFR2 by TR-FRET analysis</td>\n",
       "      <td>TR-FRET analysis</td>\n",
       "      <td>time resolved fluorescence resonance energy tr...</td>\n",
       "      <td>BAO_0000004</td>\n",
       "    </tr>\n",
       "  </tbody>\n",
       "</table>\n",
       "</div>"
      ],
      "text/plain": [
       "   assay_id assay_type                                        description  \\\n",
       "0   1870082          B  Agonist activity at GAL4 DNA binding domain fu...   \n",
       "1   1991217          B  Agonist activity at human FXR expressed in hum...   \n",
       "2   2168604          B  Antagonist activity at ERbeta (unknown origin)...   \n",
       "3    643730          B  Antagonist activity at mouse cloned Smo recept...   \n",
       "4    835167          B            Inhibition of FGFR2 by TR-FRET analysis   \n",
       "\n",
       "                           method  \\\n",
       "0                FRET-based assay   \n",
       "1  luciferase reporter gene assay   \n",
       "2      LanthaScreen TR-FRET assay   \n",
       "3  luciferase reporter gene assay   \n",
       "4                TR-FRET analysis   \n",
       "\n",
       "                                  bao_preferred_term       bao_id  \n",
       "0             fluorescence resonance energy transfer  BAO_0000001  \n",
       "1                     luciferase reporter gene assay  BAO_0002661  \n",
       "2  time resolved fluorescence resonance energy tr...  BAO_0000004  \n",
       "3                     luciferase reporter gene assay  BAO_0002661  \n",
       "4  time resolved fluorescence resonance energy tr...  BAO_0000004  "
      ]
     },
     "execution_count": 9,
     "metadata": {},
     "output_type": "execute_result"
    }
   ],
   "source": [
    "gold_standard_bao.head()"
   ]
  },
  {
   "cell_type": "code",
   "execution_count": 10,
   "id": "b7eaa757-56aa-4ff2-be85-868815e65fc9",
   "metadata": {},
   "outputs": [],
   "source": [
    "def find_branch(x):\n",
    "    for key in id_dict:\n",
    "        if x in id_dict[key]['id']:\n",
    "            return key"
   ]
  },
  {
   "cell_type": "code",
   "execution_count": 11,
   "id": "f45a140a-4b6d-4db3-bfc4-3cce5884d5a1",
   "metadata": {},
   "outputs": [],
   "source": [
    "def find_branch_name(x):\n",
    "    for key in id_dict:\n",
    "        if x in id_dict[key]['id']:\n",
    "            return id_dict[key]['branch_pref_name']"
   ]
  },
  {
   "cell_type": "code",
   "execution_count": 12,
   "id": "2392cd84-044e-47f0-b2da-9ca392dc3283",
   "metadata": {},
   "outputs": [
    {
     "name": "stderr",
     "output_type": "stream",
     "text": [
      "/tmp/ipykernel_3369795/3581143923.py:1: SettingWithCopyWarning: \n",
      "A value is trying to be set on a copy of a slice from a DataFrame.\n",
      "Try using .loc[row_indexer,col_indexer] = value instead\n",
      "\n",
      "See the caveats in the documentation: https://pandas.pydata.org/pandas-docs/stable/user_guide/indexing.html#returning-a-view-versus-a-copy\n",
      "  gold_standard_bao['branch_id'] = gold_standard_bao['bao_id'].apply(lambda x: find_branch(x))\n"
     ]
    }
   ],
   "source": [
    "gold_standard_bao['branch_id'] = gold_standard_bao['bao_id'].apply(lambda x: find_branch(x))"
   ]
  },
  {
   "cell_type": "code",
   "execution_count": 13,
   "id": "5b61a1cf-f35e-4493-8ee2-318786d0cfb9",
   "metadata": {},
   "outputs": [
    {
     "name": "stderr",
     "output_type": "stream",
     "text": [
      "/tmp/ipykernel_3369795/713197338.py:1: SettingWithCopyWarning: \n",
      "A value is trying to be set on a copy of a slice from a DataFrame.\n",
      "Try using .loc[row_indexer,col_indexer] = value instead\n",
      "\n",
      "See the caveats in the documentation: https://pandas.pydata.org/pandas-docs/stable/user_guide/indexing.html#returning-a-view-versus-a-copy\n",
      "  gold_standard_bao['branch_pref_name'] = gold_standard_bao['bao_id'].apply(lambda x: find_branch_name(x))\n"
     ]
    }
   ],
   "source": [
    "gold_standard_bao['branch_pref_name'] = gold_standard_bao['bao_id'].apply(lambda x: find_branch_name(x))"
   ]
  },
  {
   "cell_type": "code",
   "execution_count": 14,
   "id": "d9f56c6e-0ede-4296-b086-0ccee0e3a50c",
   "metadata": {},
   "outputs": [
    {
     "data": {
      "text/html": [
       "<div>\n",
       "<style scoped>\n",
       "    .dataframe tbody tr th:only-of-type {\n",
       "        vertical-align: middle;\n",
       "    }\n",
       "\n",
       "    .dataframe tbody tr th {\n",
       "        vertical-align: top;\n",
       "    }\n",
       "\n",
       "    .dataframe thead th {\n",
       "        text-align: right;\n",
       "    }\n",
       "</style>\n",
       "<table border=\"1\" class=\"dataframe\">\n",
       "  <thead>\n",
       "    <tr style=\"text-align: right;\">\n",
       "      <th></th>\n",
       "      <th>assay_id</th>\n",
       "      <th>assay_type</th>\n",
       "      <th>description</th>\n",
       "      <th>method</th>\n",
       "      <th>bao_preferred_term</th>\n",
       "      <th>bao_id</th>\n",
       "      <th>branch_id</th>\n",
       "      <th>branch_pref_name</th>\n",
       "    </tr>\n",
       "  </thead>\n",
       "  <tbody>\n",
       "    <tr>\n",
       "      <th>0</th>\n",
       "      <td>1870082</td>\n",
       "      <td>B</td>\n",
       "      <td>Agonist activity at GAL4 DNA binding domain fu...</td>\n",
       "      <td>FRET-based assay</td>\n",
       "      <td>fluorescence resonance energy transfer</td>\n",
       "      <td>BAO_0000001</td>\n",
       "      <td>BAO_0000035</td>\n",
       "      <td>physical detection method</td>\n",
       "    </tr>\n",
       "    <tr>\n",
       "      <th>1</th>\n",
       "      <td>1991217</td>\n",
       "      <td>B</td>\n",
       "      <td>Agonist activity at human FXR expressed in hum...</td>\n",
       "      <td>luciferase reporter gene assay</td>\n",
       "      <td>luciferase reporter gene assay</td>\n",
       "      <td>BAO_0002661</td>\n",
       "      <td>BAO_0000015</td>\n",
       "      <td>bioassay</td>\n",
       "    </tr>\n",
       "    <tr>\n",
       "      <th>2</th>\n",
       "      <td>2168604</td>\n",
       "      <td>B</td>\n",
       "      <td>Antagonist activity at ERbeta (unknown origin)...</td>\n",
       "      <td>LanthaScreen TR-FRET assay</td>\n",
       "      <td>time resolved fluorescence resonance energy tr...</td>\n",
       "      <td>BAO_0000004</td>\n",
       "      <td>BAO_0000035</td>\n",
       "      <td>physical detection method</td>\n",
       "    </tr>\n",
       "    <tr>\n",
       "      <th>3</th>\n",
       "      <td>643730</td>\n",
       "      <td>B</td>\n",
       "      <td>Antagonist activity at mouse cloned Smo recept...</td>\n",
       "      <td>luciferase reporter gene assay</td>\n",
       "      <td>luciferase reporter gene assay</td>\n",
       "      <td>BAO_0002661</td>\n",
       "      <td>BAO_0000015</td>\n",
       "      <td>bioassay</td>\n",
       "    </tr>\n",
       "    <tr>\n",
       "      <th>4</th>\n",
       "      <td>835167</td>\n",
       "      <td>B</td>\n",
       "      <td>Inhibition of FGFR2 by TR-FRET analysis</td>\n",
       "      <td>TR-FRET analysis</td>\n",
       "      <td>time resolved fluorescence resonance energy tr...</td>\n",
       "      <td>BAO_0000004</td>\n",
       "      <td>BAO_0000035</td>\n",
       "      <td>physical detection method</td>\n",
       "    </tr>\n",
       "  </tbody>\n",
       "</table>\n",
       "</div>"
      ],
      "text/plain": [
       "   assay_id assay_type                                        description  \\\n",
       "0   1870082          B  Agonist activity at GAL4 DNA binding domain fu...   \n",
       "1   1991217          B  Agonist activity at human FXR expressed in hum...   \n",
       "2   2168604          B  Antagonist activity at ERbeta (unknown origin)...   \n",
       "3    643730          B  Antagonist activity at mouse cloned Smo recept...   \n",
       "4    835167          B            Inhibition of FGFR2 by TR-FRET analysis   \n",
       "\n",
       "                           method  \\\n",
       "0                FRET-based assay   \n",
       "1  luciferase reporter gene assay   \n",
       "2      LanthaScreen TR-FRET assay   \n",
       "3  luciferase reporter gene assay   \n",
       "4                TR-FRET analysis   \n",
       "\n",
       "                                  bao_preferred_term       bao_id  \\\n",
       "0             fluorescence resonance energy transfer  BAO_0000001   \n",
       "1                     luciferase reporter gene assay  BAO_0002661   \n",
       "2  time resolved fluorescence resonance energy tr...  BAO_0000004   \n",
       "3                     luciferase reporter gene assay  BAO_0002661   \n",
       "4  time resolved fluorescence resonance energy tr...  BAO_0000004   \n",
       "\n",
       "     branch_id           branch_pref_name  \n",
       "0  BAO_0000035  physical detection method  \n",
       "1  BAO_0000015                   bioassay  \n",
       "2  BAO_0000035  physical detection method  \n",
       "3  BAO_0000015                   bioassay  \n",
       "4  BAO_0000035  physical detection method  "
      ]
     },
     "execution_count": 14,
     "metadata": {},
     "output_type": "execute_result"
    }
   ],
   "source": [
    "gold_standard_bao.head()"
   ]
  },
  {
   "cell_type": "code",
   "execution_count": 15,
   "id": "6340024f-8a37-4823-ac5a-51ab76c37271",
   "metadata": {},
   "outputs": [
    {
     "data": {
      "text/plain": [
       "0      BAO_0000035\n",
       "1      BAO_0000015\n",
       "15     BAO_0000248\n",
       "24     BAO_0003028\n",
       "34            None\n",
       "346    BAO_0003043\n",
       "Name: branch_id, dtype: object"
      ]
     },
     "execution_count": 15,
     "metadata": {},
     "output_type": "execute_result"
    }
   ],
   "source": [
    "gold_standard_bao['branch_id'].drop_duplicates()"
   ]
  },
  {
   "cell_type": "code",
   "execution_count": 16,
   "id": "b3b4c327-4fc4-4adf-b5aa-cacd8da18a9e",
   "metadata": {},
   "outputs": [
    {
     "data": {
      "text/html": [
       "<div>\n",
       "<style scoped>\n",
       "    .dataframe tbody tr th:only-of-type {\n",
       "        vertical-align: middle;\n",
       "    }\n",
       "\n",
       "    .dataframe tbody tr th {\n",
       "        vertical-align: top;\n",
       "    }\n",
       "\n",
       "    .dataframe thead th {\n",
       "        text-align: right;\n",
       "    }\n",
       "</style>\n",
       "<table border=\"1\" class=\"dataframe\">\n",
       "  <thead>\n",
       "    <tr style=\"text-align: right;\">\n",
       "      <th></th>\n",
       "      <th>assay_id</th>\n",
       "      <th>assay_type</th>\n",
       "      <th>description</th>\n",
       "      <th>method</th>\n",
       "      <th>bao_preferred_term</th>\n",
       "      <th>bao_id</th>\n",
       "      <th>branch_id</th>\n",
       "      <th>branch_pref_name</th>\n",
       "    </tr>\n",
       "  </thead>\n",
       "  <tbody>\n",
       "    <tr>\n",
       "      <th>34</th>\n",
       "      <td>1588202</td>\n",
       "      <td>B</td>\n",
       "      <td>Binding affinity to His6-tagged human recombin...</td>\n",
       "      <td>VP-ITC microcalorimetry</td>\n",
       "      <td>VP-ITC Isothermal Titration Calorimeter</td>\n",
       "      <td>BAO_0000708</td>\n",
       "      <td>None</td>\n",
       "      <td>None</td>\n",
       "    </tr>\n",
       "    <tr>\n",
       "      <th>113</th>\n",
       "      <td>2074736</td>\n",
       "      <td>B</td>\n",
       "      <td>Displacement of [3H]CP55940 from human CB1R tr...</td>\n",
       "      <td>Microbeta TriLux based luminescence analysis</td>\n",
       "      <td>MicroBeta TriLux</td>\n",
       "      <td>BAO_0003094</td>\n",
       "      <td>None</td>\n",
       "      <td>None</td>\n",
       "    </tr>\n",
       "    <tr>\n",
       "      <th>220</th>\n",
       "      <td>2052717</td>\n",
       "      <td>B</td>\n",
       "      <td>Binding affinity at Escherichia coli pBR322 DN...</td>\n",
       "      <td>agarose gel based electrophoresis</td>\n",
       "      <td>agarose gel</td>\n",
       "      <td>BAO_0010020</td>\n",
       "      <td>None</td>\n",
       "      <td>None</td>\n",
       "    </tr>\n",
       "    <tr>\n",
       "      <th>227</th>\n",
       "      <td>588548</td>\n",
       "      <td>B</td>\n",
       "      <td>Binding affinity to Escherichia coli pUC19 DNA...</td>\n",
       "      <td>agarose gel electrophoresis</td>\n",
       "      <td>agarose gel</td>\n",
       "      <td>BAO_0010020</td>\n",
       "      <td>None</td>\n",
       "      <td>None</td>\n",
       "    </tr>\n",
       "    <tr>\n",
       "      <th>460</th>\n",
       "      <td>1907990</td>\n",
       "      <td>F</td>\n",
       "      <td>Induction of YqiG protein expression in Bacill...</td>\n",
       "      <td>35S-methionine pulse labeling based 2D-PAGE an...</td>\n",
       "      <td>PAGE</td>\n",
       "      <td>BAO_0010019</td>\n",
       "      <td>None</td>\n",
       "      <td>None</td>\n",
       "    </tr>\n",
       "    <tr>\n",
       "      <th>509</th>\n",
       "      <td>830179</td>\n",
       "      <td>F</td>\n",
       "      <td>Antimigraine activity in marmosets assessed as...</td>\n",
       "      <td>laser doppler flowmetry</td>\n",
       "      <td>laser</td>\n",
       "      <td>BAO_0150033</td>\n",
       "      <td>None</td>\n",
       "      <td>None</td>\n",
       "    </tr>\n",
       "    <tr>\n",
       "      <th>654</th>\n",
       "      <td>1651980</td>\n",
       "      <td>B</td>\n",
       "      <td>Poison activity at recombinant human topoisome...</td>\n",
       "      <td>ethidium bromide staining based agarose gel el...</td>\n",
       "      <td>agarose gel</td>\n",
       "      <td>BAO_0010020</td>\n",
       "      <td>None</td>\n",
       "      <td>None</td>\n",
       "    </tr>\n",
       "    <tr>\n",
       "      <th>674</th>\n",
       "      <td>2112257</td>\n",
       "      <td>B</td>\n",
       "      <td>Inhibition of human TDO expressed in HEK293-EB...</td>\n",
       "      <td>HPLC analysis</td>\n",
       "      <td>HPLC System</td>\n",
       "      <td>BAO_0002733</td>\n",
       "      <td>None</td>\n",
       "      <td>None</td>\n",
       "    </tr>\n",
       "    <tr>\n",
       "      <th>675</th>\n",
       "      <td>1621810</td>\n",
       "      <td>B</td>\n",
       "      <td>Inhibition of OGT (unknown origin) assessed as...</td>\n",
       "      <td>HPLC method</td>\n",
       "      <td>HPLC System</td>\n",
       "      <td>BAO_0002733</td>\n",
       "      <td>None</td>\n",
       "      <td>None</td>\n",
       "    </tr>\n",
       "    <tr>\n",
       "      <th>741</th>\n",
       "      <td>1724006</td>\n",
       "      <td>B</td>\n",
       "      <td>Inhibition of human SMS2 expressed in HEK293T ...</td>\n",
       "      <td>RapidFire/mass spectrometry assay</td>\n",
       "      <td>RapidFire Mass Spec</td>\n",
       "      <td>BAO_0002577</td>\n",
       "      <td>None</td>\n",
       "      <td>None</td>\n",
       "    </tr>\n",
       "  </tbody>\n",
       "</table>\n",
       "</div>"
      ],
      "text/plain": [
       "     assay_id assay_type                                        description  \\\n",
       "34    1588202          B  Binding affinity to His6-tagged human recombin...   \n",
       "113   2074736          B  Displacement of [3H]CP55940 from human CB1R tr...   \n",
       "220   2052717          B  Binding affinity at Escherichia coli pBR322 DN...   \n",
       "227    588548          B  Binding affinity to Escherichia coli pUC19 DNA...   \n",
       "460   1907990          F  Induction of YqiG protein expression in Bacill...   \n",
       "509    830179          F  Antimigraine activity in marmosets assessed as...   \n",
       "654   1651980          B  Poison activity at recombinant human topoisome...   \n",
       "674   2112257          B  Inhibition of human TDO expressed in HEK293-EB...   \n",
       "675   1621810          B  Inhibition of OGT (unknown origin) assessed as...   \n",
       "741   1724006          B  Inhibition of human SMS2 expressed in HEK293T ...   \n",
       "\n",
       "                                                method  \\\n",
       "34                             VP-ITC microcalorimetry   \n",
       "113       Microbeta TriLux based luminescence analysis   \n",
       "220                  agarose gel based electrophoresis   \n",
       "227                        agarose gel electrophoresis   \n",
       "460  35S-methionine pulse labeling based 2D-PAGE an...   \n",
       "509                            laser doppler flowmetry   \n",
       "654  ethidium bromide staining based agarose gel el...   \n",
       "674                                      HPLC analysis   \n",
       "675                                        HPLC method   \n",
       "741                  RapidFire/mass spectrometry assay   \n",
       "\n",
       "                          bao_preferred_term       bao_id branch_id  \\\n",
       "34   VP-ITC Isothermal Titration Calorimeter  BAO_0000708      None   \n",
       "113                         MicroBeta TriLux  BAO_0003094      None   \n",
       "220                              agarose gel  BAO_0010020      None   \n",
       "227                              agarose gel  BAO_0010020      None   \n",
       "460                                     PAGE  BAO_0010019      None   \n",
       "509                                    laser  BAO_0150033      None   \n",
       "654                              agarose gel  BAO_0010020      None   \n",
       "674                              HPLC System  BAO_0002733      None   \n",
       "675                              HPLC System  BAO_0002733      None   \n",
       "741                      RapidFire Mass Spec  BAO_0002577      None   \n",
       "\n",
       "    branch_pref_name  \n",
       "34              None  \n",
       "113             None  \n",
       "220             None  \n",
       "227             None  \n",
       "460             None  \n",
       "509             None  \n",
       "654             None  \n",
       "674             None  \n",
       "675             None  \n",
       "741             None  "
      ]
     },
     "execution_count": 16,
     "metadata": {},
     "output_type": "execute_result"
    }
   ],
   "source": [
    "gold_standard_bao.loc[gold_standard_bao['branch_id'].isnull()]"
   ]
  },
  {
   "cell_type": "code",
   "execution_count": null,
   "id": "def3f812-2e0b-4706-801f-77a23522e9b0",
   "metadata": {},
   "outputs": [],
   "source": [
    "# Additional branches in the gold standard\n",
    "# BAO_0000708, BAO_0003094, BAO_0150033, BAO_0002733, BAO_0002577 - assay method component > instrument BAO_0003118\n",
    "# BAO_0010020, BAO_0010019 - assay bioassay component > bioassay specification BAO_0000026"
   ]
  },
  {
   "cell_type": "code",
   "execution_count": null,
   "id": "731fc77c-acca-428c-b881-eb1656db3da5",
   "metadata": {},
   "outputs": [],
   "source": [
    "# Expected branches:\n",
    "# Physical detection method BAO_0000035\n",
    "# assay bioassay component > bioassay BAO_0000015\n",
    "# assay method component > assay method BAO_0003028\n",
    "# BAO_0000248 assay kit\n",
    "(# secondary assay BAO_0000032) not used in gold standard\n",
    "## molecular entity BAO_0003043"
   ]
  }
 ],
 "metadata": {
  "kernelspec": {
   "display_name": "Python 3 (ipykernel)",
   "language": "python",
   "name": "python3"
  },
  "language_info": {
   "codemirror_mode": {
    "name": "ipython",
    "version": 3
   },
   "file_extension": ".py",
   "mimetype": "text/x-python",
   "name": "python",
   "nbconvert_exporter": "python",
   "pygments_lexer": "ipython3",
   "version": "3.11.7"
  }
 },
 "nbformat": 4,
 "nbformat_minor": 5
}
