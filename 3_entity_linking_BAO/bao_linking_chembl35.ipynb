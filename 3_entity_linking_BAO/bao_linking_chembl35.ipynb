{
 "cells": [
  {
   "cell_type": "code",
   "execution_count": 22,
   "id": "a4e7ccd1-7c69-48b5-80de-48b1a70f653b",
   "metadata": {},
   "outputs": [],
   "source": [
    "import pandas as pd\n",
    "import text2term as t2t\n",
    "from text2term import *\n",
    "import seaborn as sns\n",
    "import matplotlib.pyplot as plt\n",
    "import os"
   ]
  },
  {
   "cell_type": "markdown",
   "id": "dae9b48a-b16e-4771-a168-cf51d6f3dc8e",
   "metadata": {},
   "source": [
    "### Load all assay descriptions in ChEMBL 35 annotated with NER method"
   ]
  },
  {
   "cell_type": "code",
   "execution_count": 2,
   "id": "2728cbd4-d135-40f1-88ee-0caa56f4ff0f",
   "metadata": {},
   "outputs": [
    {
     "data": {
      "text/html": [
       "<div>\n",
       "<style scoped>\n",
       "    .dataframe tbody tr th:only-of-type {\n",
       "        vertical-align: middle;\n",
       "    }\n",
       "\n",
       "    .dataframe tbody tr th {\n",
       "        vertical-align: top;\n",
       "    }\n",
       "\n",
       "    .dataframe thead th {\n",
       "        text-align: right;\n",
       "    }\n",
       "</style>\n",
       "<table border=\"1\" class=\"dataframe\">\n",
       "  <thead>\n",
       "    <tr style=\"text-align: right;\">\n",
       "      <th></th>\n",
       "      <th>assay_id</th>\n",
       "      <th>year</th>\n",
       "      <th>description</th>\n",
       "      <th>assay_type</th>\n",
       "      <th>method</th>\n",
       "    </tr>\n",
       "  </thead>\n",
       "  <tbody>\n",
       "    <tr>\n",
       "      <th>0</th>\n",
       "      <td>89</td>\n",
       "      <td>1994.0</td>\n",
       "      <td>Evaluated for its activity to inhibit rat live...</td>\n",
       "      <td>B</td>\n",
       "      <td>NaN</td>\n",
       "    </tr>\n",
       "    <tr>\n",
       "      <th>1</th>\n",
       "      <td>128</td>\n",
       "      <td>2002.0</td>\n",
       "      <td>Tested in vitro for inhibition of chymotrypsin...</td>\n",
       "      <td>B</td>\n",
       "      <td>NaN</td>\n",
       "    </tr>\n",
       "    <tr>\n",
       "      <th>2</th>\n",
       "      <td>248</td>\n",
       "      <td>1982.0</td>\n",
       "      <td>Percent inhibition was measured against 5,10-M...</td>\n",
       "      <td>B</td>\n",
       "      <td>NaN</td>\n",
       "    </tr>\n",
       "    <tr>\n",
       "      <th>3</th>\n",
       "      <td>235</td>\n",
       "      <td>2003.0</td>\n",
       "      <td>Inhibitory activity against inosine 5'-inosine...</td>\n",
       "      <td>B</td>\n",
       "      <td>NaN</td>\n",
       "    </tr>\n",
       "    <tr>\n",
       "      <th>4</th>\n",
       "      <td>336</td>\n",
       "      <td>1989.0</td>\n",
       "      <td>Binding affinity to the receptor was determine...</td>\n",
       "      <td>F</td>\n",
       "      <td>NaN</td>\n",
       "    </tr>\n",
       "  </tbody>\n",
       "</table>\n",
       "</div>"
      ],
      "text/plain": [
       "   assay_id    year                                        description  \\\n",
       "0        89  1994.0  Evaluated for its activity to inhibit rat live...   \n",
       "1       128  2002.0  Tested in vitro for inhibition of chymotrypsin...   \n",
       "2       248  1982.0  Percent inhibition was measured against 5,10-M...   \n",
       "3       235  2003.0  Inhibitory activity against inosine 5'-inosine...   \n",
       "4       336  1989.0  Binding affinity to the receptor was determine...   \n",
       "\n",
       "  assay_type method  \n",
       "0          B    NaN  \n",
       "1          B    NaN  \n",
       "2          B    NaN  \n",
       "3          B    NaN  \n",
       "4          F    NaN  "
      ]
     },
     "execution_count": 2,
     "metadata": {},
     "output_type": "execute_result"
    }
   ],
   "source": [
    "chembl_assays_all = pd.read_csv('../1_NER_method/Results/ner_chembl_35.tsv', sep='\\t')\n",
    "chembl_assays_all.head()"
   ]
  },
  {
   "cell_type": "code",
   "execution_count": 3,
   "id": "db4813d8-717a-4921-9435-00e0ea171666",
   "metadata": {},
   "outputs": [
    {
     "data": {
      "text/plain": [
       "1169293"
      ]
     },
     "execution_count": 3,
     "metadata": {},
     "output_type": "execute_result"
    }
   ],
   "source": [
    "len(chembl_assays_all)"
   ]
  },
  {
   "cell_type": "code",
   "execution_count": 4,
   "id": "2cd73ca0-f82b-44a4-97c1-829c326ebcb3",
   "metadata": {},
   "outputs": [
    {
     "data": {
      "text/plain": [
       "506618"
      ]
     },
     "execution_count": 4,
     "metadata": {},
     "output_type": "execute_result"
    }
   ],
   "source": [
    "# Some assays don't have a method identified by NER\n",
    "len(chembl_assays_all.loc[chembl_assays_all['method'].isnull()])"
   ]
  },
  {
   "cell_type": "code",
   "execution_count": 5,
   "id": "bf53e223-698c-41bf-8b61-ca1ffb5edbcd",
   "metadata": {},
   "outputs": [],
   "source": [
    "# Discard assays without a method identified by NER\n",
    "chembl_assays = chembl_assays_all.dropna(subset='method', axis='index')"
   ]
  },
  {
   "cell_type": "code",
   "execution_count": 6,
   "id": "90b0d5c2-ebc8-4663-a3d2-223807dbdf8c",
   "metadata": {},
   "outputs": [
    {
     "data": {
      "text/plain": [
       "662675"
      ]
     },
     "execution_count": 6,
     "metadata": {},
     "output_type": "execute_result"
    }
   ],
   "source": [
    "len(chembl_assays)"
   ]
  },
  {
   "cell_type": "code",
   "execution_count": 7,
   "id": "99507525-1a8f-495c-8403-3b8aca5c7aea",
   "metadata": {},
   "outputs": [
    {
     "data": {
      "text/html": [
       "<div>\n",
       "<style scoped>\n",
       "    .dataframe tbody tr th:only-of-type {\n",
       "        vertical-align: middle;\n",
       "    }\n",
       "\n",
       "    .dataframe tbody tr th {\n",
       "        vertical-align: top;\n",
       "    }\n",
       "\n",
       "    .dataframe thead th {\n",
       "        text-align: right;\n",
       "    }\n",
       "</style>\n",
       "<table border=\"1\" class=\"dataframe\">\n",
       "  <thead>\n",
       "    <tr style=\"text-align: right;\">\n",
       "      <th></th>\n",
       "      <th>assay_id</th>\n",
       "      <th>year</th>\n",
       "      <th>description</th>\n",
       "      <th>assay_type</th>\n",
       "      <th>method</th>\n",
       "    </tr>\n",
       "  </thead>\n",
       "  <tbody>\n",
       "    <tr>\n",
       "      <th>17</th>\n",
       "      <td>667</td>\n",
       "      <td>2003.0</td>\n",
       "      <td>5-hydroxytryptamine 1A receptor antagonism was...</td>\n",
       "      <td>F</td>\n",
       "      <td>the ability to inhibit [35S]GTP-gamma-S, bindi...</td>\n",
       "    </tr>\n",
       "    <tr>\n",
       "      <th>28</th>\n",
       "      <td>949</td>\n",
       "      <td>2003.0</td>\n",
       "      <td>In vitro binding affinity by radioligand bindi...</td>\n",
       "      <td>B</td>\n",
       "      <td>In vitro binding affinity | radioligand bindin...</td>\n",
       "    </tr>\n",
       "    <tr>\n",
       "      <th>30</th>\n",
       "      <td>963</td>\n",
       "      <td>2003.0</td>\n",
       "      <td>In vitro binding affinity was determined by ra...</td>\n",
       "      <td>B</td>\n",
       "      <td>In vitro binding affinity | radioligand bindin...</td>\n",
       "    </tr>\n",
       "    <tr>\n",
       "      <th>48</th>\n",
       "      <td>1689</td>\n",
       "      <td>1997.0</td>\n",
       "      <td>Maximum stimulation of [35S]GTP-gamma-S, bindi...</td>\n",
       "      <td>F</td>\n",
       "      <td>maximal effect produced | 5-hydroxytryptamine ...</td>\n",
       "    </tr>\n",
       "    <tr>\n",
       "      <th>89</th>\n",
       "      <td>3807</td>\n",
       "      <td>1992.0</td>\n",
       "      <td>In vitro inhibition of leukotriene B4 synthesi...</td>\n",
       "      <td>B</td>\n",
       "      <td>In vitro inhibition of leukotriene | inhibitin...</td>\n",
       "    </tr>\n",
       "    <tr>\n",
       "      <th>...</th>\n",
       "      <td>...</td>\n",
       "      <td>...</td>\n",
       "      <td>...</td>\n",
       "      <td>...</td>\n",
       "      <td>...</td>\n",
       "    </tr>\n",
       "    <tr>\n",
       "      <th>1169163</th>\n",
       "      <td>2366440</td>\n",
       "      <td>2023.0</td>\n",
       "      <td>Inhibition of STAT1 phosphorylation in human S...</td>\n",
       "      <td>B</td>\n",
       "      <td>IL-6 stimulation | Western blot analysis</td>\n",
       "    </tr>\n",
       "    <tr>\n",
       "      <th>1169199</th>\n",
       "      <td>2311423</td>\n",
       "      <td>2023.0</td>\n",
       "      <td>Binding affinity to HspA5 (unknown origin) ass...</td>\n",
       "      <td>B</td>\n",
       "      <td>dissociation constant | FP assay</td>\n",
       "    </tr>\n",
       "    <tr>\n",
       "      <th>1169239</th>\n",
       "      <td>2357032</td>\n",
       "      <td>2023.0</td>\n",
       "      <td>Binding affinity to PBRM1 bromodomain 4 (unkno...</td>\n",
       "      <td>B</td>\n",
       "      <td>dissociation constant | isothermal titration c...</td>\n",
       "    </tr>\n",
       "    <tr>\n",
       "      <th>1169263</th>\n",
       "      <td>2349703</td>\n",
       "      <td>2022.0</td>\n",
       "      <td>Binding affinity to TEAD 4 (unknown origin) as...</td>\n",
       "      <td>B</td>\n",
       "      <td>dissociation constant | fluorescence polarisat...</td>\n",
       "    </tr>\n",
       "    <tr>\n",
       "      <th>1169267</th>\n",
       "      <td>2358457</td>\n",
       "      <td>2023.0</td>\n",
       "      <td>Binding affinity to PD-L1 (unknown origin) imm...</td>\n",
       "      <td>B</td>\n",
       "      <td>dissociation constant | SPR analysis</td>\n",
       "    </tr>\n",
       "  </tbody>\n",
       "</table>\n",
       "<p>18483 rows × 5 columns</p>\n",
       "</div>"
      ],
      "text/plain": [
       "         assay_id    year                                        description  \\\n",
       "17            667  2003.0  5-hydroxytryptamine 1A receptor antagonism was...   \n",
       "28            949  2003.0  In vitro binding affinity by radioligand bindi...   \n",
       "30            963  2003.0  In vitro binding affinity was determined by ra...   \n",
       "48           1689  1997.0  Maximum stimulation of [35S]GTP-gamma-S, bindi...   \n",
       "89           3807  1992.0  In vitro inhibition of leukotriene B4 synthesi...   \n",
       "...           ...     ...                                                ...   \n",
       "1169163   2366440  2023.0  Inhibition of STAT1 phosphorylation in human S...   \n",
       "1169199   2311423  2023.0  Binding affinity to HspA5 (unknown origin) ass...   \n",
       "1169239   2357032  2023.0  Binding affinity to PBRM1 bromodomain 4 (unkno...   \n",
       "1169263   2349703  2022.0  Binding affinity to TEAD 4 (unknown origin) as...   \n",
       "1169267   2358457  2023.0  Binding affinity to PD-L1 (unknown origin) imm...   \n",
       "\n",
       "        assay_type                                             method  \n",
       "17               F  the ability to inhibit [35S]GTP-gamma-S, bindi...  \n",
       "28               B  In vitro binding affinity | radioligand bindin...  \n",
       "30               B  In vitro binding affinity | radioligand bindin...  \n",
       "48               F  maximal effect produced | 5-hydroxytryptamine ...  \n",
       "89               B  In vitro inhibition of leukotriene | inhibitin...  \n",
       "...            ...                                                ...  \n",
       "1169163          B           IL-6 stimulation | Western blot analysis  \n",
       "1169199          B                   dissociation constant | FP assay  \n",
       "1169239          B  dissociation constant | isothermal titration c...  \n",
       "1169263          B  dissociation constant | fluorescence polarisat...  \n",
       "1169267          B               dissociation constant | SPR analysis  \n",
       "\n",
       "[18483 rows x 5 columns]"
      ]
     },
     "execution_count": 7,
     "metadata": {},
     "output_type": "execute_result"
    }
   ],
   "source": [
    "# Some assays have multiple methods\n",
    "chembl_assays.loc[chembl_assays['method'].str.contains('|', regex=False)]"
   ]
  },
  {
   "cell_type": "code",
   "execution_count": 8,
   "id": "6e1a417f-dd4a-4798-a449-ed3288ae212f",
   "metadata": {},
   "outputs": [
    {
     "name": "stderr",
     "output_type": "stream",
     "text": [
      "/tmp/ipykernel_3849517/3172542829.py:2: SettingWithCopyWarning: \n",
      "A value is trying to be set on a copy of a slice from a DataFrame.\n",
      "Try using .loc[row_indexer,col_indexer] = value instead\n",
      "\n",
      "See the caveats in the documentation: https://pandas.pydata.org/pandas-docs/stable/user_guide/indexing.html#returning-a-view-versus-a-copy\n",
      "  chembl_assays['split_method'] = chembl_assays['method'].str.split(' | ', regex=False)\n"
     ]
    }
   ],
   "source": [
    "# Split the 'method' column on ' | ' \n",
    "chembl_assays['split_method'] = chembl_assays['method'].str.split(' | ', regex=False)\n",
    "\n",
    "# Explode the list into separate rows\n",
    "chembl_assays = chembl_assays.explode('split_method')"
   ]
  },
  {
   "cell_type": "code",
   "execution_count": 9,
   "id": "36aabc44-6335-41cc-85e7-0890241e522f",
   "metadata": {},
   "outputs": [
    {
     "data": {
      "text/html": [
       "<div>\n",
       "<style scoped>\n",
       "    .dataframe tbody tr th:only-of-type {\n",
       "        vertical-align: middle;\n",
       "    }\n",
       "\n",
       "    .dataframe tbody tr th {\n",
       "        vertical-align: top;\n",
       "    }\n",
       "\n",
       "    .dataframe thead th {\n",
       "        text-align: right;\n",
       "    }\n",
       "</style>\n",
       "<table border=\"1\" class=\"dataframe\">\n",
       "  <thead>\n",
       "    <tr style=\"text-align: right;\">\n",
       "      <th></th>\n",
       "      <th>assay_id</th>\n",
       "      <th>year</th>\n",
       "      <th>description</th>\n",
       "      <th>assay_type</th>\n",
       "      <th>method</th>\n",
       "      <th>split_method</th>\n",
       "    </tr>\n",
       "  </thead>\n",
       "  <tbody>\n",
       "    <tr>\n",
       "      <th>10</th>\n",
       "      <td>410</td>\n",
       "      <td>2001.0</td>\n",
       "      <td>accumulation of compound in 3LL cells was meas...</td>\n",
       "      <td>F</td>\n",
       "      <td>HPLC</td>\n",
       "      <td>HPLC</td>\n",
       "    </tr>\n",
       "    <tr>\n",
       "      <th>12</th>\n",
       "      <td>471</td>\n",
       "      <td>1993.0</td>\n",
       "      <td>Inhibitory concentration of compound was calcu...</td>\n",
       "      <td>F</td>\n",
       "      <td>clonal assay</td>\n",
       "      <td>clonal assay</td>\n",
       "    </tr>\n",
       "    <tr>\n",
       "      <th>14</th>\n",
       "      <td>816</td>\n",
       "      <td>2000.0</td>\n",
       "      <td>Percent of maximum response by 5-HT when teste...</td>\n",
       "      <td>F</td>\n",
       "      <td>5-HT when tested for inhibition of vasoactive ...</td>\n",
       "      <td>5-HT when tested for inhibition of vasoactive ...</td>\n",
       "    </tr>\n",
       "    <tr>\n",
       "      <th>15</th>\n",
       "      <td>630</td>\n",
       "      <td>1998.0</td>\n",
       "      <td>Antagonistic efficacy was evaluated by adenyly...</td>\n",
       "      <td>F</td>\n",
       "      <td>adenylyl cyclase assay</td>\n",
       "      <td>adenylyl cyclase assay</td>\n",
       "    </tr>\n",
       "    <tr>\n",
       "      <th>17</th>\n",
       "      <td>667</td>\n",
       "      <td>2003.0</td>\n",
       "      <td>5-hydroxytryptamine 1A receptor antagonism was...</td>\n",
       "      <td>F</td>\n",
       "      <td>the ability to inhibit [35S]GTP-gamma-S, bindi...</td>\n",
       "      <td>the ability to inhibit [35S]GTP-gamma-S, binding</td>\n",
       "    </tr>\n",
       "  </tbody>\n",
       "</table>\n",
       "</div>"
      ],
      "text/plain": [
       "    assay_id    year                                        description  \\\n",
       "10       410  2001.0  accumulation of compound in 3LL cells was meas...   \n",
       "12       471  1993.0  Inhibitory concentration of compound was calcu...   \n",
       "14       816  2000.0  Percent of maximum response by 5-HT when teste...   \n",
       "15       630  1998.0  Antagonistic efficacy was evaluated by adenyly...   \n",
       "17       667  2003.0  5-hydroxytryptamine 1A receptor antagonism was...   \n",
       "\n",
       "   assay_type                                             method  \\\n",
       "10          F                                               HPLC   \n",
       "12          F                                       clonal assay   \n",
       "14          F  5-HT when tested for inhibition of vasoactive ...   \n",
       "15          F                             adenylyl cyclase assay   \n",
       "17          F  the ability to inhibit [35S]GTP-gamma-S, bindi...   \n",
       "\n",
       "                                         split_method  \n",
       "10                                               HPLC  \n",
       "12                                       clonal assay  \n",
       "14  5-HT when tested for inhibition of vasoactive ...  \n",
       "15                             adenylyl cyclase assay  \n",
       "17   the ability to inhibit [35S]GTP-gamma-S, binding  "
      ]
     },
     "execution_count": 9,
     "metadata": {},
     "output_type": "execute_result"
    }
   ],
   "source": [
    "chembl_assays.head()"
   ]
  },
  {
   "cell_type": "code",
   "execution_count": 10,
   "id": "39f5a2f4-6622-495a-98f8-0d4f57b8a4f4",
   "metadata": {},
   "outputs": [
    {
     "data": {
      "text/html": [
       "<div>\n",
       "<style scoped>\n",
       "    .dataframe tbody tr th:only-of-type {\n",
       "        vertical-align: middle;\n",
       "    }\n",
       "\n",
       "    .dataframe tbody tr th {\n",
       "        vertical-align: top;\n",
       "    }\n",
       "\n",
       "    .dataframe thead th {\n",
       "        text-align: right;\n",
       "    }\n",
       "</style>\n",
       "<table border=\"1\" class=\"dataframe\">\n",
       "  <thead>\n",
       "    <tr style=\"text-align: right;\">\n",
       "      <th></th>\n",
       "      <th>assay_id</th>\n",
       "      <th>year</th>\n",
       "      <th>description</th>\n",
       "      <th>assay_type</th>\n",
       "      <th>method</th>\n",
       "      <th>split_method</th>\n",
       "    </tr>\n",
       "  </thead>\n",
       "  <tbody>\n",
       "    <tr>\n",
       "      <th>1169239</th>\n",
       "      <td>2357032</td>\n",
       "      <td>2023.0</td>\n",
       "      <td>Binding affinity to PBRM1 bromodomain 4 (unkno...</td>\n",
       "      <td>B</td>\n",
       "      <td>dissociation constant | isothermal titration c...</td>\n",
       "      <td>dissociation constant</td>\n",
       "    </tr>\n",
       "    <tr>\n",
       "      <th>1169239</th>\n",
       "      <td>2357032</td>\n",
       "      <td>2023.0</td>\n",
       "      <td>Binding affinity to PBRM1 bromodomain 4 (unkno...</td>\n",
       "      <td>B</td>\n",
       "      <td>dissociation constant | isothermal titration c...</td>\n",
       "      <td>isothermal titration calorimetric analysis</td>\n",
       "    </tr>\n",
       "  </tbody>\n",
       "</table>\n",
       "</div>"
      ],
      "text/plain": [
       "         assay_id    year                                        description  \\\n",
       "1169239   2357032  2023.0  Binding affinity to PBRM1 bromodomain 4 (unkno...   \n",
       "1169239   2357032  2023.0  Binding affinity to PBRM1 bromodomain 4 (unkno...   \n",
       "\n",
       "        assay_type                                             method  \\\n",
       "1169239          B  dissociation constant | isothermal titration c...   \n",
       "1169239          B  dissociation constant | isothermal titration c...   \n",
       "\n",
       "                                       split_method  \n",
       "1169239                       dissociation constant  \n",
       "1169239  isothermal titration calorimetric analysis  "
      ]
     },
     "execution_count": 10,
     "metadata": {},
     "output_type": "execute_result"
    }
   ],
   "source": [
    "chembl_assays.loc[chembl_assays['assay_id']==2357032]"
   ]
  },
  {
   "cell_type": "code",
   "execution_count": 11,
   "id": "593fa164-5654-4890-9375-156648a0f0be",
   "metadata": {},
   "outputs": [
    {
     "data": {
      "text/plain": [
       "681476"
      ]
     },
     "execution_count": 11,
     "metadata": {},
     "output_type": "execute_result"
    }
   ],
   "source": [
    "len(chembl_assays)"
   ]
  },
  {
   "cell_type": "code",
   "execution_count": 12,
   "id": "182dfe25-deba-4094-ac6d-9933a757b835",
   "metadata": {},
   "outputs": [
    {
     "data": {
      "text/plain": [
       "42349"
      ]
     },
     "execution_count": 12,
     "metadata": {},
     "output_type": "execute_result"
    }
   ],
   "source": [
    "chembl_assays['split_method'].nunique()"
   ]
  },
  {
   "cell_type": "code",
   "execution_count": 13,
   "id": "99db48bc-848e-4ec2-a69d-f17da45cb5dc",
   "metadata": {},
   "outputs": [
    {
     "data": {
      "text/plain": [
       "['HPLC',\n",
       " 'clonal assay',\n",
       " '5-HT when tested for inhibition of vasoactive intestinal polypeptide-induced',\n",
       " 'adenylyl cyclase assay',\n",
       " 'the ability to inhibit [35S]GTP-gamma-S, binding',\n",
       " '5-HT; Emin (%): not determined',\n",
       " 'radioligand binding technique',\n",
       " 'In vitro binding affinity',\n",
       " 'radioligand binding assay',\n",
       " 'In vitro inhibition of',\n",
       " 'maximal effect produced',\n",
       " '5-hydroxytryptamine 1D receptor',\n",
       " 'In vitro binding affinity towards the',\n",
       " 'In vitro mean growth lethal concentration',\n",
       " '5-HETE production',\n",
       " 'In vitro by displacement of [3H]LY-278584 from 5-hydroxytryptamine 3',\n",
       " 'In vitro inhibition of leukotriene',\n",
       " 'inhibiting 5-lipoxygenase',\n",
       " 'In vitro antifungal activity against',\n",
       " 'FACS flow cytometry']"
      ]
     },
     "execution_count": 13,
     "metadata": {},
     "output_type": "execute_result"
    }
   ],
   "source": [
    "unique_terms = list(chembl_assays['split_method'].drop_duplicates())\n",
    "unique_terms[:20]"
   ]
  },
  {
   "cell_type": "code",
   "execution_count": 27,
   "id": "7d4c0c04-7e0f-4432-ae4a-4214c1aa4f9c",
   "metadata": {},
   "outputs": [
    {
     "data": {
      "text/plain": [
       "42349"
      ]
     },
     "execution_count": 27,
     "metadata": {},
     "output_type": "execute_result"
    }
   ],
   "source": [
    "len(unique_terms)"
   ]
  },
  {
   "cell_type": "markdown",
   "id": "2df471f1-5b6a-400a-87da-d9a2c69dc6ed",
   "metadata": {},
   "source": [
    "### Annotate with text2term BAO ontology"
   ]
  },
  {
   "cell_type": "code",
   "execution_count": 14,
   "id": "e40fbaa8-383e-4797-ada5-60d9018dd01d",
   "metadata": {},
   "outputs": [
    {
     "name": "stdout",
     "output_type": "stream",
     "text": [
      "2025-06-24 09:24:40 INFO [text2term.term_collector]: Loading ontology data/bao_complete_2.8.12.owl...\n",
      "2025-06-24 09:25:03 INFO [text2term.term_collector]: ...done (ontology loading time: 22.37s)\n",
      "2025-06-24 09:25:03 INFO [text2term.term_collector]: Collecting ontology term details...\n",
      "2025-06-24 09:25:03 INFO [text2term.term_collector]: ...done: collected 802 ontology terms (collection time: 0.10s)\n",
      "2025-06-24 09:25:03 INFO [text2term.t2t]: Filtered ontology terms to those of type: OntologyTermType.ANY\n",
      "2025-06-24 09:25:03 INFO [text2term.t2t]: Caching ontology data/bao_complete_2.8.12.owl to: cache/bao\n"
     ]
    },
    {
     "data": {
      "text/plain": [
       "<text2term.onto_cache.OntologyCache at 0x7fe13f06c090>"
      ]
     },
     "execution_count": 14,
     "metadata": {},
     "output_type": "execute_result"
    }
   ],
   "source": [
    "# Load the BAO ontology\n",
    "# Caches the ontology in memory\n",
    "cache_ontology(\"data/bao_complete_2.8.12.owl\", ontology_acronym=\"bao\", base_iris=())"
   ]
  },
  {
   "cell_type": "code",
   "execution_count": 45,
   "id": "f817df19-289e-4ad5-a9d0-f23936e9c4be",
   "metadata": {},
   "outputs": [],
   "source": [
    "list_to_process = unique_terms\n",
    "chunk_size = 500\n",
    "chunks = []\n",
    "for i in range(0, len(list_to_process), chunk_size):\n",
    "    chunk = list_to_process[i:i + chunk_size]\n",
    "    chunks.append(chunk)"
   ]
  },
  {
   "cell_type": "markdown",
   "id": "117e6db3-97c4-4ab8-985e-925b2687e816",
   "metadata": {},
   "source": [
    "Process the assays in chunks because without doing so it requires a lot of memory to store the resulting text2term annotations in memory for all the assays. Processing in chunks worked and appends to a list after each text2term call of 500. "
   ]
  },
  {
   "cell_type": "markdown",
   "id": "2afbd735-3503-4d41-8872-6fa6d8d37f63",
   "metadata": {},
   "source": [
    "#### Following cell appends to file - make sure no file with the filename exists already!"
   ]
  },
  {
   "cell_type": "code",
   "execution_count": 46,
   "id": "a56bebf8-6b7d-40e5-83e5-1098ac7b00e4",
   "metadata": {},
   "outputs": [
    {
     "name": "stdout",
     "output_type": "stream",
     "text": [
      "2025-06-24 09:49:55 INFO [text2term.t2t]: Loading cached ontology from: cache/bao/bao-term-details.pickle\n",
      "2025-06-24 09:49:55 INFO [text2term.t2t]: Filtered ontology terms to those of type: OntologyTermType.CLASS\n",
      "2025-06-24 09:49:55 INFO [text2term.t2t]: Mapping 3000 source terms to bao\n",
      "2025-06-24 09:49:55 INFO [text2term.t2t]: ...done (mapping time: 0.17s seconds)\n",
      "2025-06-24 09:49:59 INFO [text2term.t2t]: Loading cached ontology from: cache/bao/bao-term-details.pickle\n",
      "2025-06-24 09:49:59 INFO [text2term.t2t]: Filtered ontology terms to those of type: OntologyTermType.CLASS\n",
      "2025-06-24 09:49:59 INFO [text2term.t2t]: Mapping 3000 source terms to bao\n",
      "2025-06-24 09:49:59 INFO [text2term.t2t]: ...done (mapping time: 0.18s seconds)\n",
      "2025-06-24 09:50:00 INFO [text2term.t2t]: Loading cached ontology from: cache/bao/bao-term-details.pickle\n",
      "2025-06-24 09:50:00 INFO [text2term.t2t]: Filtered ontology terms to those of type: OntologyTermType.CLASS\n",
      "2025-06-24 09:50:00 INFO [text2term.t2t]: Mapping 3000 source terms to bao\n",
      "2025-06-24 09:50:01 INFO [text2term.t2t]: ...done (mapping time: 0.18s seconds)\n",
      "2025-06-24 09:50:02 INFO [text2term.t2t]: Loading cached ontology from: cache/bao/bao-term-details.pickle\n",
      "2025-06-24 09:50:02 INFO [text2term.t2t]: Filtered ontology terms to those of type: OntologyTermType.CLASS\n",
      "2025-06-24 09:50:02 INFO [text2term.t2t]: Mapping 3000 source terms to bao\n",
      "2025-06-24 09:50:02 INFO [text2term.t2t]: ...done (mapping time: 0.19s seconds)\n",
      "2025-06-24 09:50:03 INFO [text2term.t2t]: Loading cached ontology from: cache/bao/bao-term-details.pickle\n",
      "2025-06-24 09:50:03 INFO [text2term.t2t]: Filtered ontology terms to those of type: OntologyTermType.CLASS\n",
      "2025-06-24 09:50:03 INFO [text2term.t2t]: Mapping 3000 source terms to bao\n",
      "2025-06-24 09:50:03 INFO [text2term.t2t]: ...done (mapping time: 0.19s seconds)\n",
      "2025-06-24 09:50:04 INFO [text2term.t2t]: Loading cached ontology from: cache/bao/bao-term-details.pickle\n",
      "2025-06-24 09:50:04 INFO [text2term.t2t]: Filtered ontology terms to those of type: OntologyTermType.CLASS\n",
      "2025-06-24 09:50:04 INFO [text2term.t2t]: Mapping 3000 source terms to bao\n",
      "2025-06-24 09:50:05 INFO [text2term.t2t]: ...done (mapping time: 0.18s seconds)\n",
      "2025-06-24 09:50:06 INFO [text2term.t2t]: Loading cached ontology from: cache/bao/bao-term-details.pickle\n",
      "2025-06-24 09:50:06 INFO [text2term.t2t]: Filtered ontology terms to those of type: OntologyTermType.CLASS\n",
      "2025-06-24 09:50:06 INFO [text2term.t2t]: Mapping 2000 source terms to bao\n",
      "2025-06-24 09:50:06 INFO [text2term.t2t]: ...done (mapping time: 0.13s seconds)\n",
      "CPU times: user 11.1 s, sys: 218 ms, total: 11.3 s\n",
      "Wall time: 11.5 s\n"
     ]
    }
   ],
   "source": [
    "#%%time\n",
    "output_path='./results/chembl35_assays_bao_annotations.tsv'\n",
    "\n",
    "for chunk in chunks:\n",
    "    #executes text2term in the dataset with BAO annotates assays \n",
    "    assays_ann_data = t2t.map_terms(source_terms = chunk,\n",
    "                         target_ontology = 'bao',\n",
    "                         mapper = Mapper.TFIDF,\n",
    "                         #base_iris = 'http://www.bioassayontology.org/bao#',\n",
    "                         # Set the minimum Mapping Score here\n",
    "                         min_score=0.6,\n",
    "                         max_mappings=50,\n",
    "                         term_type=OntologyTermType.CLASS,\n",
    "                         use_cache=True)\n",
    "    # Merge text2term results back to the assay method (to get back assay id)\n",
    "    annotated_chembl_assays =  chembl_assays.merge(assays_ann_data, left_on='split_method', right_on='Source Term', how='right')\n",
    "    # Use append to the file (to reduce memory use)\n",
    "    annotated_chembl_assays.to_csv(output_path, sep='\\t', mode='a', header=not os.path.exists(output_path), index=False)"
   ]
  }
 ],
 "metadata": {
  "kernelspec": {
   "display_name": "Python 3 (ipykernel)",
   "language": "python",
   "name": "python3"
  },
  "language_info": {
   "codemirror_mode": {
    "name": "ipython",
    "version": 3
   },
   "file_extension": ".py",
   "mimetype": "text/x-python",
   "name": "python",
   "nbconvert_exporter": "python",
   "pygments_lexer": "ipython3",
   "version": "3.11.7"
  }
 },
 "nbformat": 4,
 "nbformat_minor": 5
}
