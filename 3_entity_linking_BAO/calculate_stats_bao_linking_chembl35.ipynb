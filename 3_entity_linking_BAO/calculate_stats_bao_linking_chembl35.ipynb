{
 "cells": [
  {
   "cell_type": "code",
   "execution_count": 1,
   "id": "fc193461-c308-4050-bd8b-3f6124a4dfdc",
   "metadata": {},
   "outputs": [],
   "source": [
    "import pandas as pd\n",
    "import seaborn as sns\n",
    "import matplotlib.pyplot as plt"
   ]
  },
  {
   "cell_type": "markdown",
   "id": "215edccd-e900-47d3-a41b-8f7c68455582",
   "metadata": {},
   "source": [
    "### Load ChEMBL 35 assays"
   ]
  },
  {
   "cell_type": "code",
   "execution_count": 2,
   "id": "3afc96f4-df4b-4600-b64e-e71eec17e210",
   "metadata": {},
   "outputs": [
    {
     "data": {
      "text/html": [
       "<div>\n",
       "<style scoped>\n",
       "    .dataframe tbody tr th:only-of-type {\n",
       "        vertical-align: middle;\n",
       "    }\n",
       "\n",
       "    .dataframe tbody tr th {\n",
       "        vertical-align: top;\n",
       "    }\n",
       "\n",
       "    .dataframe thead th {\n",
       "        text-align: right;\n",
       "    }\n",
       "</style>\n",
       "<table border=\"1\" class=\"dataframe\">\n",
       "  <thead>\n",
       "    <tr style=\"text-align: right;\">\n",
       "      <th></th>\n",
       "      <th>assay_id</th>\n",
       "      <th>year</th>\n",
       "      <th>description</th>\n",
       "      <th>assay_type</th>\n",
       "      <th>method</th>\n",
       "    </tr>\n",
       "  </thead>\n",
       "  <tbody>\n",
       "    <tr>\n",
       "      <th>0</th>\n",
       "      <td>89</td>\n",
       "      <td>1994.0</td>\n",
       "      <td>Evaluated for its activity to inhibit rat live...</td>\n",
       "      <td>B</td>\n",
       "      <td>NaN</td>\n",
       "    </tr>\n",
       "    <tr>\n",
       "      <th>1</th>\n",
       "      <td>128</td>\n",
       "      <td>2002.0</td>\n",
       "      <td>Tested in vitro for inhibition of chymotrypsin...</td>\n",
       "      <td>B</td>\n",
       "      <td>NaN</td>\n",
       "    </tr>\n",
       "    <tr>\n",
       "      <th>2</th>\n",
       "      <td>248</td>\n",
       "      <td>1982.0</td>\n",
       "      <td>Percent inhibition was measured against 5,10-M...</td>\n",
       "      <td>B</td>\n",
       "      <td>NaN</td>\n",
       "    </tr>\n",
       "    <tr>\n",
       "      <th>3</th>\n",
       "      <td>235</td>\n",
       "      <td>2003.0</td>\n",
       "      <td>Inhibitory activity against inosine 5'-inosine...</td>\n",
       "      <td>B</td>\n",
       "      <td>NaN</td>\n",
       "    </tr>\n",
       "    <tr>\n",
       "      <th>4</th>\n",
       "      <td>336</td>\n",
       "      <td>1989.0</td>\n",
       "      <td>Binding affinity to the receptor was determine...</td>\n",
       "      <td>F</td>\n",
       "      <td>NaN</td>\n",
       "    </tr>\n",
       "  </tbody>\n",
       "</table>\n",
       "</div>"
      ],
      "text/plain": [
       "   assay_id    year                                        description  \\\n",
       "0        89  1994.0  Evaluated for its activity to inhibit rat live...   \n",
       "1       128  2002.0  Tested in vitro for inhibition of chymotrypsin...   \n",
       "2       248  1982.0  Percent inhibition was measured against 5,10-M...   \n",
       "3       235  2003.0  Inhibitory activity against inosine 5'-inosine...   \n",
       "4       336  1989.0  Binding affinity to the receptor was determine...   \n",
       "\n",
       "  assay_type method  \n",
       "0          B    NaN  \n",
       "1          B    NaN  \n",
       "2          B    NaN  \n",
       "3          B    NaN  \n",
       "4          F    NaN  "
      ]
     },
     "execution_count": 2,
     "metadata": {},
     "output_type": "execute_result"
    }
   ],
   "source": [
    "chembl_assays_all = pd.read_csv('../1_NER_method/Results/ner_chembl_35.tsv', sep='\\t')\n",
    "chembl_assays_all.head()"
   ]
  },
  {
   "cell_type": "code",
   "execution_count": 3,
   "id": "2e2449b2-885f-455c-a082-d3cc2c2902dc",
   "metadata": {},
   "outputs": [
    {
     "data": {
      "text/plain": [
       "1169293"
      ]
     },
     "execution_count": 3,
     "metadata": {},
     "output_type": "execute_result"
    }
   ],
   "source": [
    "chembl_assays_all['assay_id'].nunique()"
   ]
  },
  {
   "cell_type": "code",
   "execution_count": 4,
   "id": "9a937ce0-6e74-4b54-a9e4-a0649648957f",
   "metadata": {},
   "outputs": [
    {
     "data": {
      "text/plain": [
       "assay_type\n",
       "F    776701\n",
       "B    392592\n",
       "Name: count, dtype: int64"
      ]
     },
     "execution_count": 4,
     "metadata": {},
     "output_type": "execute_result"
    }
   ],
   "source": [
    "chembl_assays_all[['assay_id','assay_type']].drop_duplicates()['assay_type'].value_counts()"
   ]
  },
  {
   "cell_type": "code",
   "execution_count": 5,
   "id": "084bdef4-c3d9-4703-b7b9-6c5c2146bf71",
   "metadata": {},
   "outputs": [],
   "source": [
    "# Discard assays without a method identified by NER\n",
    "chembl_assays = chembl_assays_all.dropna(subset='method', axis='index')"
   ]
  },
  {
   "cell_type": "code",
   "execution_count": 6,
   "id": "8a7a3a00-a2a5-487e-9279-bd2e0de08c19",
   "metadata": {
    "scrolled": true
   },
   "outputs": [
    {
     "data": {
      "text/plain": [
       "662675"
      ]
     },
     "execution_count": 6,
     "metadata": {},
     "output_type": "execute_result"
    }
   ],
   "source": [
    "chembl_assays['assay_id'].nunique()"
   ]
  },
  {
   "cell_type": "code",
   "execution_count": 7,
   "id": "a6e67bb8-bee2-4b03-88c3-986fdec6f9b5",
   "metadata": {},
   "outputs": [
    {
     "data": {
      "text/plain": [
       "0.5667313496275099"
      ]
     },
     "execution_count": 7,
     "metadata": {},
     "output_type": "execute_result"
    }
   ],
   "source": [
    "662675 / 1169293"
   ]
  },
  {
   "cell_type": "markdown",
   "id": "2c64c456-84b2-45d5-b893-8810bb10aee8",
   "metadata": {},
   "source": [
    "### Load annotation results"
   ]
  },
  {
   "cell_type": "code",
   "execution_count": 8,
   "id": "f05f94ca-cdcf-4647-b52b-ee6406ea3e4d",
   "metadata": {},
   "outputs": [],
   "source": [
    "bao_results = pd.read_csv('./results/chembl35_assays_bao_annotations_0_3.tsv', sep='\\t')"
   ]
  },
  {
   "cell_type": "code",
   "execution_count": 9,
   "id": "701837de-d802-4903-ad20-9b078a02e017",
   "metadata": {},
   "outputs": [
    {
     "data": {
      "text/html": [
       "<div>\n",
       "<style scoped>\n",
       "    .dataframe tbody tr th:only-of-type {\n",
       "        vertical-align: middle;\n",
       "    }\n",
       "\n",
       "    .dataframe tbody tr th {\n",
       "        vertical-align: top;\n",
       "    }\n",
       "\n",
       "    .dataframe thead th {\n",
       "        text-align: right;\n",
       "    }\n",
       "</style>\n",
       "<table border=\"1\" class=\"dataframe\">\n",
       "  <thead>\n",
       "    <tr style=\"text-align: right;\">\n",
       "      <th></th>\n",
       "      <th>assay_id</th>\n",
       "      <th>year</th>\n",
       "      <th>description</th>\n",
       "      <th>assay_type</th>\n",
       "      <th>method</th>\n",
       "      <th>split_method</th>\n",
       "      <th>Source Term ID</th>\n",
       "      <th>Source Term</th>\n",
       "      <th>Mapped Term Label</th>\n",
       "      <th>Mapped Term CURIE</th>\n",
       "      <th>Mapped Term IRI</th>\n",
       "      <th>Mapping Score</th>\n",
       "    </tr>\n",
       "  </thead>\n",
       "  <tbody>\n",
       "    <tr>\n",
       "      <th>0</th>\n",
       "      <td>630</td>\n",
       "      <td>1998.0</td>\n",
       "      <td>Antagonistic efficacy was evaluated by adenyly...</td>\n",
       "      <td>F</td>\n",
       "      <td>adenylyl cyclase assay</td>\n",
       "      <td>adenylyl cyclase assay</td>\n",
       "      <td>http://ccb.hms.harvard.edu/t2t/RTWpfD6FrGi</td>\n",
       "      <td>adenylyl cyclase assay</td>\n",
       "      <td>cell cycle assay</td>\n",
       "      <td>BAO:0002041</td>\n",
       "      <td>http://www.bioassayontology.org/bao#BAO_0002041</td>\n",
       "      <td>0.338</td>\n",
       "    </tr>\n",
       "    <tr>\n",
       "      <th>1</th>\n",
       "      <td>983</td>\n",
       "      <td>1998.0</td>\n",
       "      <td>Antagonistic efficacy was evaluated by adenyly...</td>\n",
       "      <td>F</td>\n",
       "      <td>adenylyl cyclase assay</td>\n",
       "      <td>adenylyl cyclase assay</td>\n",
       "      <td>http://ccb.hms.harvard.edu/t2t/RTWpfD6FrGi</td>\n",
       "      <td>adenylyl cyclase assay</td>\n",
       "      <td>cell cycle assay</td>\n",
       "      <td>BAO:0002041</td>\n",
       "      <td>http://www.bioassayontology.org/bao#BAO_0002041</td>\n",
       "      <td>0.338</td>\n",
       "    </tr>\n",
       "    <tr>\n",
       "      <th>2</th>\n",
       "      <td>329339</td>\n",
       "      <td>2006.0</td>\n",
       "      <td>Activity at adrenergic alpha-2B receptor expre...</td>\n",
       "      <td>F</td>\n",
       "      <td>adenylyl cyclase assay</td>\n",
       "      <td>adenylyl cyclase assay</td>\n",
       "      <td>http://ccb.hms.harvard.edu/t2t/RTWpfD6FrGi</td>\n",
       "      <td>adenylyl cyclase assay</td>\n",
       "      <td>cell cycle assay</td>\n",
       "      <td>BAO:0002041</td>\n",
       "      <td>http://www.bioassayontology.org/bao#BAO_0002041</td>\n",
       "      <td>0.338</td>\n",
       "    </tr>\n",
       "    <tr>\n",
       "      <th>3</th>\n",
       "      <td>625</td>\n",
       "      <td>1998.0</td>\n",
       "      <td>Agonistic efficacy was evaluated by adenylyl c...</td>\n",
       "      <td>F</td>\n",
       "      <td>adenylyl cyclase assay</td>\n",
       "      <td>adenylyl cyclase assay</td>\n",
       "      <td>http://ccb.hms.harvard.edu/t2t/RTWpfD6FrGi</td>\n",
       "      <td>adenylyl cyclase assay</td>\n",
       "      <td>cell cycle assay</td>\n",
       "      <td>BAO:0002041</td>\n",
       "      <td>http://www.bioassayontology.org/bao#BAO_0002041</td>\n",
       "      <td>0.338</td>\n",
       "    </tr>\n",
       "    <tr>\n",
       "      <th>4</th>\n",
       "      <td>629</td>\n",
       "      <td>1998.0</td>\n",
       "      <td>Antagonistic efficacy was evaluated by adenyly...</td>\n",
       "      <td>F</td>\n",
       "      <td>adenylyl cyclase assay</td>\n",
       "      <td>adenylyl cyclase assay</td>\n",
       "      <td>http://ccb.hms.harvard.edu/t2t/RTWpfD6FrGi</td>\n",
       "      <td>adenylyl cyclase assay</td>\n",
       "      <td>cell cycle assay</td>\n",
       "      <td>BAO:0002041</td>\n",
       "      <td>http://www.bioassayontology.org/bao#BAO_0002041</td>\n",
       "      <td>0.338</td>\n",
       "    </tr>\n",
       "  </tbody>\n",
       "</table>\n",
       "</div>"
      ],
      "text/plain": [
       "   assay_id    year                                        description  \\\n",
       "0       630  1998.0  Antagonistic efficacy was evaluated by adenyly...   \n",
       "1       983  1998.0  Antagonistic efficacy was evaluated by adenyly...   \n",
       "2    329339  2006.0  Activity at adrenergic alpha-2B receptor expre...   \n",
       "3       625  1998.0  Agonistic efficacy was evaluated by adenylyl c...   \n",
       "4       629  1998.0  Antagonistic efficacy was evaluated by adenyly...   \n",
       "\n",
       "  assay_type                  method            split_method  \\\n",
       "0          F  adenylyl cyclase assay  adenylyl cyclase assay   \n",
       "1          F  adenylyl cyclase assay  adenylyl cyclase assay   \n",
       "2          F  adenylyl cyclase assay  adenylyl cyclase assay   \n",
       "3          F  adenylyl cyclase assay  adenylyl cyclase assay   \n",
       "4          F  adenylyl cyclase assay  adenylyl cyclase assay   \n",
       "\n",
       "                               Source Term ID             Source Term  \\\n",
       "0  http://ccb.hms.harvard.edu/t2t/RTWpfD6FrGi  adenylyl cyclase assay   \n",
       "1  http://ccb.hms.harvard.edu/t2t/RTWpfD6FrGi  adenylyl cyclase assay   \n",
       "2  http://ccb.hms.harvard.edu/t2t/RTWpfD6FrGi  adenylyl cyclase assay   \n",
       "3  http://ccb.hms.harvard.edu/t2t/RTWpfD6FrGi  adenylyl cyclase assay   \n",
       "4  http://ccb.hms.harvard.edu/t2t/RTWpfD6FrGi  adenylyl cyclase assay   \n",
       "\n",
       "  Mapped Term Label Mapped Term CURIE  \\\n",
       "0  cell cycle assay       BAO:0002041   \n",
       "1  cell cycle assay       BAO:0002041   \n",
       "2  cell cycle assay       BAO:0002041   \n",
       "3  cell cycle assay       BAO:0002041   \n",
       "4  cell cycle assay       BAO:0002041   \n",
       "\n",
       "                                   Mapped Term IRI  Mapping Score  \n",
       "0  http://www.bioassayontology.org/bao#BAO_0002041          0.338  \n",
       "1  http://www.bioassayontology.org/bao#BAO_0002041          0.338  \n",
       "2  http://www.bioassayontology.org/bao#BAO_0002041          0.338  \n",
       "3  http://www.bioassayontology.org/bao#BAO_0002041          0.338  \n",
       "4  http://www.bioassayontology.org/bao#BAO_0002041          0.338  "
      ]
     },
     "execution_count": 9,
     "metadata": {},
     "output_type": "execute_result"
    }
   ],
   "source": [
    "bao_results.head()"
   ]
  },
  {
   "cell_type": "code",
   "execution_count": 12,
   "id": "d9be922e-4e40-443a-93e4-c73737cb186d",
   "metadata": {},
   "outputs": [
    {
     "data": {
      "image/png": "[encoded data removed]",
      "text/plain": [
       "<Figure size 500x500 with 1 Axes>"
      ]
     },
     "metadata": {},
     "output_type": "display_data"
    }
   ],
   "source": [
    "sns.displot(bao_results, x=\"Mapping Score\", kind='kde')\n",
    "plt.savefig('./plots/mapping_scores_chembl_35_min_score_0_3.png', dpi=150)"
   ]
  },
  {
   "cell_type": "code",
   "execution_count": 10,
   "id": "be960c6f-ff8f-47b1-988a-38f9f9a67dee",
   "metadata": {},
   "outputs": [],
   "source": [
    "bao_results_0_6 = bao_results.loc[bao_results['Mapping Score']>=0.6]"
   ]
  },
  {
   "cell_type": "code",
   "execution_count": 11,
   "id": "baa5ceb2-b032-40b6-ae97-3b582975a876",
   "metadata": {},
   "outputs": [
    {
     "data": {
      "text/plain": [
       "count    161503.000000\n",
       "mean          0.720279\n",
       "std           0.113577\n",
       "min           0.600000\n",
       "25%           0.638000\n",
       "50%           0.669000\n",
       "75%           0.778000\n",
       "max           1.000000\n",
       "Name: Mapping Score, dtype: float64"
      ]
     },
     "execution_count": 11,
     "metadata": {},
     "output_type": "execute_result"
    }
   ],
   "source": [
    "bao_results_0_6['Mapping Score'].describe()"
   ]
  },
  {
   "cell_type": "code",
   "execution_count": 15,
   "id": "d8e5d6d4-c1c5-44e8-827e-3093835943db",
   "metadata": {},
   "outputs": [],
   "source": [
    "bao_results_0_6.to_csv('./results/chembl35_assays_bao_annotations_0_6.tsv', index=False, sep='\\t')"
   ]
  },
  {
   "cell_type": "markdown",
   "id": "ba71d6cc-23d3-45f6-9da0-7a4c4d8da31f",
   "metadata": {},
   "source": [
    "### Threshold 0.3"
   ]
  },
  {
   "cell_type": "code",
   "execution_count": 12,
   "id": "20918dad-4345-4199-bb17-c8f56f594b41",
   "metadata": {},
   "outputs": [
    {
     "data": {
      "text/plain": [
       "1464209"
      ]
     },
     "execution_count": 12,
     "metadata": {},
     "output_type": "execute_result"
    }
   ],
   "source": [
    "# How many annotations in total? \n",
    "len(bao_results)"
   ]
  },
  {
   "cell_type": "code",
   "execution_count": 13,
   "id": "926851f9-0561-453d-8362-5693680bb067",
   "metadata": {},
   "outputs": [
    {
     "data": {
      "text/plain": [
       "345795"
      ]
     },
     "execution_count": 13,
     "metadata": {},
     "output_type": "execute_result"
    }
   ],
   "source": [
    "# How many unique assays are annotated?\n",
    "bao_results['assay_id'].nunique()"
   ]
  },
  {
   "cell_type": "code",
   "execution_count": 14,
   "id": "3c3d834a-7e7d-459e-883f-79a6832d6004",
   "metadata": {},
   "outputs": [
    {
     "data": {
      "text/plain": [
       "26885"
      ]
     },
     "execution_count": 14,
     "metadata": {},
     "output_type": "execute_result"
    }
   ],
   "source": [
    "# How many unique source terms?\n",
    "bao_results['Source Term'].nunique()"
   ]
  },
  {
   "cell_type": "code",
   "execution_count": 15,
   "id": "c8f4445a-6142-4ad7-9101-17af44f4ee8c",
   "metadata": {},
   "outputs": [
    {
     "data": {
      "text/plain": [
       "718"
      ]
     },
     "execution_count": 15,
     "metadata": {},
     "output_type": "execute_result"
    }
   ],
   "source": [
    "# How many unique BAO ids are annotated?\n",
    "bao_results['Mapped Term CURIE'].nunique()"
   ]
  },
  {
   "cell_type": "code",
   "execution_count": 16,
   "id": "f1215673-9a35-43b3-9313-d7dbfc2b5a48",
   "metadata": {},
   "outputs": [
    {
     "data": {
      "text/plain": [
       "0.29572998384493876"
      ]
     },
     "execution_count": 16,
     "metadata": {},
     "output_type": "execute_result"
    }
   ],
   "source": [
    "# What fraction of all chembl 35 assays has BAO annotations with mapping score > 0.3?\n",
    "bao_results['assay_id'].nunique() / chembl_assays_all['assay_id'].nunique()"
   ]
  },
  {
   "cell_type": "code",
   "execution_count": 17,
   "id": "fb4c38cb-42a7-4d20-91a8-34817948b293",
   "metadata": {},
   "outputs": [
    {
     "data": {
      "text/plain": [
       "0.5218168785603803"
      ]
     },
     "execution_count": 17,
     "metadata": {},
     "output_type": "execute_result"
    }
   ],
   "source": [
    "# What fraction of chembl 35 assays *that had a method identified by NER* has BAO annotations (mapping score > 0.3)?\n",
    "bao_results['assay_id'].nunique() / chembl_assays['assay_id'].nunique()"
   ]
  },
  {
   "cell_type": "code",
   "execution_count": 18,
   "id": "3f19625d-ce72-4300-9d81-04aac0a39401",
   "metadata": {},
   "outputs": [
    {
     "data": {
      "text/plain": [
       "1169293"
      ]
     },
     "execution_count": 18,
     "metadata": {},
     "output_type": "execute_result"
    }
   ],
   "source": [
    "chembl_assays_all['assay_id'].nunique()"
   ]
  },
  {
   "cell_type": "code",
   "execution_count": 19,
   "id": "031047c2-aa14-4ae1-ac36-893d2b6f391a",
   "metadata": {},
   "outputs": [
    {
     "data": {
      "text/plain": [
       "assay_type\n",
       "F    776701\n",
       "B    392592\n",
       "Name: count, dtype: int64"
      ]
     },
     "execution_count": 19,
     "metadata": {},
     "output_type": "execute_result"
    }
   ],
   "source": [
    "chembl_assays_all[['assay_id','assay_type']].drop_duplicates()['assay_type'].value_counts()"
   ]
  },
  {
   "cell_type": "code",
   "execution_count": 20,
   "id": "95f354cd-ac83-46f8-9e19-b43b9d6baf5d",
   "metadata": {},
   "outputs": [
    {
     "data": {
      "text/plain": [
       "215404"
      ]
     },
     "execution_count": 20,
     "metadata": {},
     "output_type": "execute_result"
    }
   ],
   "source": [
    "# What fraction of chembl 35 F assays has BAO annotations (mapping score > 0.3)?\n",
    "bao_results.loc[bao_results['assay_type']=='F']['assay_id'].nunique()"
   ]
  },
  {
   "cell_type": "code",
   "execution_count": 21,
   "id": "cf7cd901-6e44-4f7b-85af-8d6031f9d4b3",
   "metadata": {
    "scrolled": true
   },
   "outputs": [
    {
     "data": {
      "text/plain": [
       "0.2773319462701863"
      ]
     },
     "execution_count": 21,
     "metadata": {},
     "output_type": "execute_result"
    }
   ],
   "source": [
    "215404 / 776701"
   ]
  },
  {
   "cell_type": "code",
   "execution_count": 22,
   "id": "9627193e-cf57-4e5a-8a73-12b0ab41b65e",
   "metadata": {},
   "outputs": [
    {
     "data": {
      "text/plain": [
       "130391"
      ]
     },
     "execution_count": 22,
     "metadata": {},
     "output_type": "execute_result"
    }
   ],
   "source": [
    "# What fraction of chembl 35 B assays has BAO annotations (mapping score > 0.3)?\n",
    "bao_results.loc[bao_results['assay_type']=='B']['assay_id'].nunique()"
   ]
  },
  {
   "cell_type": "code",
   "execution_count": 23,
   "id": "61f3956c-792f-45f6-99ce-962309bf80ad",
   "metadata": {},
   "outputs": [
    {
     "data": {
      "text/plain": [
       "0.33212852019399275"
      ]
     },
     "execution_count": 23,
     "metadata": {},
     "output_type": "execute_result"
    }
   ],
   "source": [
    "130391 / 392592"
   ]
  },
  {
   "cell_type": "markdown",
   "id": "48f9460a-702d-49d3-bc72-70fcc54abadd",
   "metadata": {},
   "source": [
    "### Threshold 0.6"
   ]
  },
  {
   "cell_type": "code",
   "execution_count": 24,
   "id": "9136d2a2-3461-4361-a00a-493897752b12",
   "metadata": {},
   "outputs": [
    {
     "data": {
      "text/plain": [
       "161503"
      ]
     },
     "execution_count": 24,
     "metadata": {},
     "output_type": "execute_result"
    }
   ],
   "source": [
    "len(bao_results_0_6)"
   ]
  },
  {
   "cell_type": "code",
   "execution_count": 25,
   "id": "2390e61a-1349-46a5-958f-4f83f19a9cc7",
   "metadata": {},
   "outputs": [
    {
     "data": {
      "text/plain": [
       "92469"
      ]
     },
     "execution_count": 25,
     "metadata": {},
     "output_type": "execute_result"
    }
   ],
   "source": [
    "# How many unique assays are annotated?\n",
    "bao_results_0_6['assay_id'].nunique()"
   ]
  },
  {
   "cell_type": "code",
   "execution_count": 26,
   "id": "609f2231-51cb-49c2-90bb-e44dc13af016",
   "metadata": {},
   "outputs": [
    {
     "data": {
      "text/plain": [
       "3887"
      ]
     },
     "execution_count": 26,
     "metadata": {},
     "output_type": "execute_result"
    }
   ],
   "source": [
    "# How many unique source terms?\n",
    "bao_results_0_6['Source Term'].nunique()"
   ]
  },
  {
   "cell_type": "code",
   "execution_count": 27,
   "id": "18121bc7-1994-4c89-8edc-ac7a1694a97c",
   "metadata": {},
   "outputs": [
    {
     "data": {
      "text/plain": [
       "396"
      ]
     },
     "execution_count": 27,
     "metadata": {},
     "output_type": "execute_result"
    }
   ],
   "source": [
    "# How many unique BAO ids are annotated?\n",
    "bao_results_0_6['Mapped Term CURIE'].nunique()"
   ]
  },
  {
   "cell_type": "code",
   "execution_count": 28,
   "id": "8490d903-2e35-438a-99b7-a246c23d2e08",
   "metadata": {},
   "outputs": [
    {
     "data": {
      "text/plain": [
       "0.5667313496275099"
      ]
     },
     "execution_count": 28,
     "metadata": {},
     "output_type": "execute_result"
    }
   ],
   "source": [
    "# What fraction of all chembl 35 assays had a method identified?\n",
    "chembl_assays['assay_id'].nunique() / chembl_assays_all['assay_id'].nunique()"
   ]
  },
  {
   "cell_type": "code",
   "execution_count": 29,
   "id": "7d5d6628-8bba-4aa1-8669-2d4c77457e38",
   "metadata": {},
   "outputs": [
    {
     "data": {
      "text/plain": [
       "0.07908111995881272"
      ]
     },
     "execution_count": 29,
     "metadata": {},
     "output_type": "execute_result"
    }
   ],
   "source": [
    "# What fraction of all chembl 35 assays has BAO annotations with minimum Mapping Score of 0.6?\n",
    "bao_results_0_6['assay_id'].nunique() / chembl_assays_all['assay_id'].nunique()"
   ]
  },
  {
   "cell_type": "code",
   "execution_count": 30,
   "id": "ea7fcd4b-c2f3-4d71-8699-4d447748c870",
   "metadata": {},
   "outputs": [
    {
     "data": {
      "text/plain": [
       "0.13953898970083375"
      ]
     },
     "execution_count": 30,
     "metadata": {},
     "output_type": "execute_result"
    }
   ],
   "source": [
    "# What fraction of chembl 35 assays *that had a method identified by NER* has BAO annotations with minimum Mapping Score of 0.6?\n",
    "bao_results_0_6['assay_id'].nunique() / chembl_assays['assay_id'].nunique()"
   ]
  },
  {
   "cell_type": "code",
   "execution_count": 31,
   "id": "5252ef99-000f-4c3f-8bd8-90813f8c3124",
   "metadata": {},
   "outputs": [
    {
     "data": {
      "text/plain": [
       "assay_type\n",
       "F    776701\n",
       "B    392592\n",
       "Name: count, dtype: int64"
      ]
     },
     "execution_count": 31,
     "metadata": {},
     "output_type": "execute_result"
    }
   ],
   "source": [
    "chembl_assays_all[['assay_id','assay_type']].drop_duplicates()['assay_type'].value_counts()"
   ]
  },
  {
   "cell_type": "code",
   "execution_count": 33,
   "id": "26bcc39b-b9d2-46e5-bc08-3bf1a7845d3c",
   "metadata": {},
   "outputs": [
    {
     "data": {
      "text/plain": [
       "44190"
      ]
     },
     "execution_count": 33,
     "metadata": {},
     "output_type": "execute_result"
    }
   ],
   "source": [
    "# What fraction of chembl 35 F assays has BAO annotations (mapping score > 0.6)?\n",
    "bao_results_0_6.loc[bao_results_0_6['assay_type']=='F']['assay_id'].nunique()"
   ]
  },
  {
   "cell_type": "code",
   "execution_count": 34,
   "id": "6462c962-31f5-4c84-956f-73416854dc08",
   "metadata": {},
   "outputs": [
    {
     "data": {
      "text/plain": [
       "0.0568944806302554"
      ]
     },
     "execution_count": 34,
     "metadata": {},
     "output_type": "execute_result"
    }
   ],
   "source": [
    "44190 / 776701"
   ]
  },
  {
   "cell_type": "code",
   "execution_count": 35,
   "id": "47bf0a17-f54a-4775-8f8f-b4f2f72c75dc",
   "metadata": {},
   "outputs": [
    {
     "data": {
      "text/plain": [
       "48279"
      ]
     },
     "execution_count": 35,
     "metadata": {},
     "output_type": "execute_result"
    }
   ],
   "source": [
    "# What fraction of chembl 35 B assays has BAO annotations (mapping score > 0.6)?\n",
    "bao_results_0_6.loc[bao_results_0_6['assay_type']=='B']['assay_id'].nunique()"
   ]
  },
  {
   "cell_type": "code",
   "execution_count": 36,
   "id": "a8f688b4-638f-4662-8586-8ce1126adfd8",
   "metadata": {},
   "outputs": [
    {
     "data": {
      "text/plain": [
       "0.12297499694339162"
      ]
     },
     "execution_count": 36,
     "metadata": {},
     "output_type": "execute_result"
    }
   ],
   "source": [
    "48279 / 392592"
   ]
  },
  {
   "cell_type": "markdown",
   "id": "a92bf8f1-bef7-44c0-ad80-f7c4c02bb180",
   "metadata": {},
   "source": [
    "### Threshold 0.7"
   ]
  },
  {
   "cell_type": "code",
   "execution_count": 20,
   "id": "6b42a6b2-99a2-4cd3-b31a-95b111df865f",
   "metadata": {},
   "outputs": [],
   "source": [
    "bao_results_0_7 = bao_results.loc[bao_results['Mapping Score']>=0.7]"
   ]
  },
  {
   "cell_type": "code",
   "execution_count": 21,
   "id": "e55c71ad-434d-4c58-af2b-417139efddad",
   "metadata": {},
   "outputs": [
    {
     "data": {
      "text/plain": [
       "65979"
      ]
     },
     "execution_count": 21,
     "metadata": {},
     "output_type": "execute_result"
    }
   ],
   "source": [
    "len(bao_results_0_7)"
   ]
  },
  {
   "cell_type": "code",
   "execution_count": 22,
   "id": "2906c1eb-96f0-4e46-a341-e5ce5712c8a9",
   "metadata": {},
   "outputs": [
    {
     "data": {
      "text/plain": [
       "46382"
      ]
     },
     "execution_count": 22,
     "metadata": {},
     "output_type": "execute_result"
    }
   ],
   "source": [
    "# How many unique assays are annotated?\n",
    "bao_results_0_7['assay_id'].nunique()"
   ]
  },
  {
   "cell_type": "code",
   "execution_count": 23,
   "id": "351d4b5d-16e9-4852-be0b-264526780ede",
   "metadata": {},
   "outputs": [
    {
     "data": {
      "text/plain": [
       "1776"
      ]
     },
     "execution_count": 23,
     "metadata": {},
     "output_type": "execute_result"
    }
   ],
   "source": [
    "# How many unique source terms?\n",
    "bao_results_0_7['Source Term'].nunique()"
   ]
  },
  {
   "cell_type": "code",
   "execution_count": 24,
   "id": "84509c4d-d6c2-4cbf-a991-3ae4965b5dfb",
   "metadata": {},
   "outputs": [
    {
     "data": {
      "text/plain": [
       "255"
      ]
     },
     "execution_count": 24,
     "metadata": {},
     "output_type": "execute_result"
    }
   ],
   "source": [
    "# How many unique BAO ids are annotated?\n",
    "bao_results_0_7['Mapped Term CURIE'].nunique()"
   ]
  },
  {
   "cell_type": "code",
   "execution_count": 33,
   "id": "79d1947b-4b41-4861-8e2c-0525a1431358",
   "metadata": {},
   "outputs": [
    {
     "data": {
      "text/plain": [
       "0.5667313496275099"
      ]
     },
     "execution_count": 33,
     "metadata": {},
     "output_type": "execute_result"
    }
   ],
   "source": [
    "# What fraction of all chembl 35 assays had a method identified?\n",
    "chembl_assays['assay_id'].nunique() / chembl_assays_all['assay_id'].nunique()"
   ]
  },
  {
   "cell_type": "code",
   "execution_count": 25,
   "id": "b93a77d8-4007-40f8-a749-232d56ff295f",
   "metadata": {},
   "outputs": [
    {
     "data": {
      "text/plain": [
       "0.039666704581315375"
      ]
     },
     "execution_count": 25,
     "metadata": {},
     "output_type": "execute_result"
    }
   ],
   "source": [
    "# What fraction of all chembl 35 assays has BAO annotations with minimum Mapping Score of 0.7?\n",
    "bao_results_0_7['assay_id'].nunique() / chembl_assays_all['assay_id'].nunique()"
   ]
  },
  {
   "cell_type": "code",
   "execution_count": 26,
   "id": "d7accd80-0479-454c-abe6-563cf28763f1",
   "metadata": {},
   "outputs": [
    {
     "data": {
      "text/plain": [
       "0.06999207756441694"
      ]
     },
     "execution_count": 26,
     "metadata": {},
     "output_type": "execute_result"
    }
   ],
   "source": [
    "# What fraction of chembl 35 assays *that had a method identified by NER* has BAO annotations with minimum Mapping Score of 0.7?\n",
    "bao_results_0_7['assay_id'].nunique() / chembl_assays['assay_id'].nunique()"
   ]
  },
  {
   "cell_type": "markdown",
   "id": "4bbc2423-d315-4835-8e2b-5b8026b56849",
   "metadata": {},
   "source": [
    "### How does this compare to the gold standard?"
   ]
  },
  {
   "cell_type": "code",
   "execution_count": 24,
   "id": "ce8b80eb-9364-46ea-bf1e-964c966f3f3b",
   "metadata": {},
   "outputs": [],
   "source": [
    "gold_standard_annotations = pd.read_csv('./data/t2t_all_annotations_GS.csv')"
   ]
  },
  {
   "cell_type": "code",
   "execution_count": 25,
   "id": "4bec1a5e-4955-49d0-a575-642fbf8cd616",
   "metadata": {},
   "outputs": [
    {
     "data": {
      "text/plain": [
       "407"
      ]
     },
     "execution_count": 25,
     "metadata": {},
     "output_type": "execute_result"
    }
   ],
   "source": [
    "gold_standard_annotations['assay_id'].nunique()"
   ]
  },
  {
   "cell_type": "code",
   "execution_count": 27,
   "id": "de4fdbad-e93c-4339-9003-c9b2b949539e",
   "metadata": {},
   "outputs": [
    {
     "data": {
      "text/html": [
       "<div>\n",
       "<style scoped>\n",
       "    .dataframe tbody tr th:only-of-type {\n",
       "        vertical-align: middle;\n",
       "    }\n",
       "\n",
       "    .dataframe tbody tr th {\n",
       "        vertical-align: top;\n",
       "    }\n",
       "\n",
       "    .dataframe thead th {\n",
       "        text-align: right;\n",
       "    }\n",
       "</style>\n",
       "<table border=\"1\" class=\"dataframe\">\n",
       "  <thead>\n",
       "    <tr style=\"text-align: right;\">\n",
       "      <th></th>\n",
       "      <th>assay_id</th>\n",
       "      <th>Source Term</th>\n",
       "      <th>Mapped Term Label</th>\n",
       "      <th>Mapped Term CURIE</th>\n",
       "      <th>Mapped Term IRI</th>\n",
       "      <th>Mapping Score</th>\n",
       "      <th>Tags</th>\n",
       "      <th>bao_id_mapped</th>\n",
       "      <th>suggested_mapping_correct</th>\n",
       "    </tr>\n",
       "  </thead>\n",
       "  <tbody>\n",
       "    <tr>\n",
       "      <th>0</th>\n",
       "      <td>1912425</td>\n",
       "      <td>2D TROSY [1H-15N] spectroscopy</td>\n",
       "      <td>computational electron microscopy structure so...</td>\n",
       "      <td>BAO:0002220</td>\n",
       "      <td>http://www.bioassayontology.org/bao#BAO_0002220</td>\n",
       "      <td>0.290</td>\n",
       "      <td>NaN</td>\n",
       "      <td>BAO_0002220</td>\n",
       "      <td>0</td>\n",
       "    </tr>\n",
       "    <tr>\n",
       "      <th>1</th>\n",
       "      <td>1912425</td>\n",
       "      <td>2D TROSY [1H-15N] spectroscopy</td>\n",
       "      <td>Liquid Chromatography/Mass Spectroscopy (LC/MS...</td>\n",
       "      <td>BAO:0010071</td>\n",
       "      <td>http://www.bioassayontology.org/bao#BAO_0010071</td>\n",
       "      <td>0.284</td>\n",
       "      <td>NaN</td>\n",
       "      <td>BAO_0010071</td>\n",
       "      <td>0</td>\n",
       "    </tr>\n",
       "    <tr>\n",
       "      <th>2</th>\n",
       "      <td>1912425</td>\n",
       "      <td>2D TROSY [1H-15N] spectroscopy</td>\n",
       "      <td>mass spectrometry</td>\n",
       "      <td>BAO:0000055</td>\n",
       "      <td>http://www.bioassayontology.org/bao#BAO_0000055</td>\n",
       "      <td>0.270</td>\n",
       "      <td>NaN</td>\n",
       "      <td>BAO_0000055</td>\n",
       "      <td>0</td>\n",
       "    </tr>\n",
       "    <tr>\n",
       "      <th>3</th>\n",
       "      <td>1912425</td>\n",
       "      <td>2D TROSY [1H-15N] spectroscopy</td>\n",
       "      <td>2D structure prediction</td>\n",
       "      <td>BAO:0002213</td>\n",
       "      <td>http://www.bioassayontology.org/bao#BAO_0002213</td>\n",
       "      <td>0.147</td>\n",
       "      <td>NaN</td>\n",
       "      <td>BAO_0002213</td>\n",
       "      <td>0</td>\n",
       "    </tr>\n",
       "    <tr>\n",
       "      <th>4</th>\n",
       "      <td>1912425</td>\n",
       "      <td>2D TROSY [1H-15N] spectroscopy</td>\n",
       "      <td>bioassay specification</td>\n",
       "      <td>BAO:0000026</td>\n",
       "      <td>http://www.bioassayontology.org/bao#BAO_0000026</td>\n",
       "      <td>0.117</td>\n",
       "      <td>NaN</td>\n",
       "      <td>BAO_0000026</td>\n",
       "      <td>0</td>\n",
       "    </tr>\n",
       "  </tbody>\n",
       "</table>\n",
       "</div>"
      ],
      "text/plain": [
       "   assay_id                     Source Term  \\\n",
       "0   1912425  2D TROSY [1H-15N] spectroscopy   \n",
       "1   1912425  2D TROSY [1H-15N] spectroscopy   \n",
       "2   1912425  2D TROSY [1H-15N] spectroscopy   \n",
       "3   1912425  2D TROSY [1H-15N] spectroscopy   \n",
       "4   1912425  2D TROSY [1H-15N] spectroscopy   \n",
       "\n",
       "                                   Mapped Term Label Mapped Term CURIE  \\\n",
       "0  computational electron microscopy structure so...       BAO:0002220   \n",
       "1  Liquid Chromatography/Mass Spectroscopy (LC/MS...       BAO:0010071   \n",
       "2                                  mass spectrometry       BAO:0000055   \n",
       "3                            2D structure prediction       BAO:0002213   \n",
       "4                             bioassay specification       BAO:0000026   \n",
       "\n",
       "                                   Mapped Term IRI  Mapping Score  Tags  \\\n",
       "0  http://www.bioassayontology.org/bao#BAO_0002220          0.290   NaN   \n",
       "1  http://www.bioassayontology.org/bao#BAO_0010071          0.284   NaN   \n",
       "2  http://www.bioassayontology.org/bao#BAO_0000055          0.270   NaN   \n",
       "3  http://www.bioassayontology.org/bao#BAO_0002213          0.147   NaN   \n",
       "4  http://www.bioassayontology.org/bao#BAO_0000026          0.117   NaN   \n",
       "\n",
       "  bao_id_mapped  suggested_mapping_correct  \n",
       "0   BAO_0002220                          0  \n",
       "1   BAO_0010071                          0  \n",
       "2   BAO_0000055                          0  \n",
       "3   BAO_0002213                          0  \n",
       "4   BAO_0000026                          0  "
      ]
     },
     "execution_count": 27,
     "metadata": {},
     "output_type": "execute_result"
    }
   ],
   "source": [
    "gold_standard_annotations.head()"
   ]
  },
  {
   "cell_type": "code",
   "execution_count": 29,
   "id": "38fded42-e101-485e-b5cb-1483c46ec09e",
   "metadata": {},
   "outputs": [
    {
     "data": {
      "text/plain": [
       "261"
      ]
     },
     "execution_count": 29,
     "metadata": {},
     "output_type": "execute_result"
    }
   ],
   "source": [
    "gold_standard_annotations.loc[gold_standard_annotations['Mapping Score']>=0.3,'assay_id'].nunique()"
   ]
  },
  {
   "cell_type": "code",
   "execution_count": 30,
   "id": "528a8849-0b73-4496-867f-561ce2781397",
   "metadata": {},
   "outputs": [
    {
     "data": {
      "text/plain": [
       "0.6412776412776413"
      ]
     },
     "execution_count": 30,
     "metadata": {},
     "output_type": "execute_result"
    }
   ],
   "source": [
    "# Fraction of gold standard assays with BAO mappings with Mapping Score > 0.3\n",
    "261/407"
   ]
  },
  {
   "cell_type": "code",
   "execution_count": 31,
   "id": "bc68b947-63ca-4f26-bbd9-3f744a46ea4d",
   "metadata": {},
   "outputs": [
    {
     "data": {
      "text/plain": [
       "119"
      ]
     },
     "execution_count": 31,
     "metadata": {},
     "output_type": "execute_result"
    }
   ],
   "source": [
    "gold_standard_annotations.loc[gold_standard_annotations['Mapping Score']>=0.6,'assay_id'].nunique()"
   ]
  },
  {
   "cell_type": "code",
   "execution_count": 32,
   "id": "cfe62dda-6aa6-479b-b02a-f0a3ff1cce2c",
   "metadata": {},
   "outputs": [
    {
     "data": {
      "text/plain": [
       "0.29238329238329236"
      ]
     },
     "execution_count": 32,
     "metadata": {},
     "output_type": "execute_result"
    }
   ],
   "source": [
    "# Fraction of gold standard assays with BAO mappings with Mapping Score > 0.6\n",
    "119/407"
   ]
  },
  {
   "cell_type": "code",
   "execution_count": null,
   "id": "7609bf54-5298-49f8-b07f-819e4a24debb",
   "metadata": {},
   "outputs": [],
   "source": []
  }
 ],
 "metadata": {
  "kernelspec": {
   "display_name": "Python 3 (ipykernel)",
   "language": "python",
   "name": "python3"
  },
  "language_info": {
   "codemirror_mode": {
    "name": "ipython",
    "version": 3
   },
   "file_extension": ".py",
   "mimetype": "text/x-python",
   "name": "python",
   "nbconvert_exporter": "python",
   "pygments_lexer": "ipython3",
   "version": "3.11.7"
  }
 },
 "nbformat": 4,
 "nbformat_minor": 5
}
